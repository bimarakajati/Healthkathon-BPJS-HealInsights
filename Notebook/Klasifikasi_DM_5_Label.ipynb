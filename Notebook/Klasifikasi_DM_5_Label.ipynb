{
  "cells": [
    {
      "cell_type": "code",
      "execution_count": null,
      "metadata": {
        "id": "AuYnthL0jN9G"
      },
      "outputs": [],
      "source": [
        "# import libraries\n",
        "import pandas as pd\n",
        "import matplotlib.pyplot as plt\n",
        "import seaborn as sns\n",
        "import numpy as np\n",
        "from sklearn.preprocessing import LabelEncoder\n",
        "from sklearn.decomposition import PCA\n",
        "from sklearn.preprocessing import StandardScaler\n",
        "from yellowbrick.cluster import KElbowVisualizer\n",
        "from sklearn.cluster import KMeans\n",
        "from sklearn.cluster import AgglomerativeClustering\n",
        "from sklearn.metrics import silhouette_score\n",
        "import warnings\n",
        "warnings.filterwarnings('ignore')"
      ]
    },
    {
      "cell_type": "code",
      "execution_count": 7,
      "metadata": {
        "colab": {
          "base_uri": "https://localhost:8080/",
          "height": 516
        },
        "id": "grrATXCHjQl0",
        "outputId": "2f20c6d2-c060-4f97-e4f4-1a711b51517a"
      },
      "outputs": [
        {
          "name": "stdout",
          "output_type": "stream",
          "text": [
            "<class 'pandas.core.frame.DataFrame'>\n",
            "RangeIndex: 426 entries, 0 to 425\n",
            "Data columns (total 41 columns):\n",
            " #   Column                                                Non-Null Count  Dtype  \n",
            "---  ------                                                --------------  -----  \n",
            " 0   Nomor_peserta                                         426 non-null    int64  \n",
            " 1   Nomor_keluarga                                        426 non-null    int64  \n",
            " 2   Bobot                                                 426 non-null    float64\n",
            " 3   ID_Kunjungan                                          426 non-null    object \n",
            " 4   Tanggal_kunjungan                                     426 non-null    object \n",
            " 5   Tanggal_tindakan                                      426 non-null    object \n",
            " 6   Tanggal_pulang                                        426 non-null    object \n",
            " 7   Provinsi_faskes                                       426 non-null    int64  \n",
            " 8   Kode_Kab_Kota_faskes                                  426 non-null    int64  \n",
            " 9   Kepemilikan_faskes                                    426 non-null    int64  \n",
            " 10  Jenis_faskes                                          426 non-null    int64  \n",
            " 11  Tipe_faskes                                           426 non-null    int64  \n",
            " 12  Tingkat_layanan                                       426 non-null    int64  \n",
            " 13  Segmen_peserta                                        426 non-null    int64  \n",
            " 14  Kode_dan_Nama_diagnosis_berdasarkan_ICD_10__3_digit_  426 non-null    int64  \n",
            " 15  Kode_diagnosis_berdasarkan_ICD_10__3_digit_           426 non-null    object \n",
            " 16  Kode_diagnosis__3_5_digit_                            426 non-null    object \n",
            " 17  Nama_Diagnosis                                        426 non-null    object \n",
            " 18  Nama_Tindakan                                         426 non-null    int64  \n",
            " 19  Biaya_tagih                                           426 non-null    int64  \n",
            " 20  Biaya_verifikasi                                      426 non-null    int64  \n",
            " 21  Hasil_Pemeriksaan_gula_darah_puasa__GDP__1            426 non-null    float64\n",
            " 22  Hasil_Pemeriksaan_gula_darah_puasa__GDP__2            426 non-null    float64\n",
            " 23  Nomor_peserta_1                                       426 non-null    int64  \n",
            " 24  Nomor_keluarga_1                                      426 non-null    int64  \n",
            " 25  Tanggal_lahir_peserta                                 426 non-null    object \n",
            " 26  Hubungan_Keluarga                                     426 non-null    int64  \n",
            " 27  Jenis_Kelamin                                         426 non-null    int64  \n",
            " 28  Status_perkawinan                                     426 non-null    int64  \n",
            " 29  Kelas_rawat                                           426 non-null    int64  \n",
            " 30  Segmentasi_peserta                                    426 non-null    int64  \n",
            " 31  Provinsi_Tempat_Tinggal_Peserta                       426 non-null    int64  \n",
            " 32  Kabupaten_Kota_Tempat_Tinggal_Peserta                 426 non-null    int64  \n",
            " 33  Kepemilikan_faskes_1                                  426 non-null    int64  \n",
            " 34  Jenis_faskes_                                         426 non-null    int64  \n",
            " 35  Provinsi_Fasilitas_Kesehatan_Peserta_Terdaftar        426 non-null    int64  \n",
            " 36  Kabupaten_Kota_Fasilitas_Kesehatan_Peserta_Terdaftar  426 non-null    int64  \n",
            " 37  Bobot_1                                               426 non-null    float64\n",
            " 38  Tahun_Sampel                                          426 non-null    int64  \n",
            " 39  Status_Kepesertaan                                    426 non-null    int64  \n",
            " 40  Tahun_meninggal                                       53 non-null     float64\n",
            "dtypes: float64(5), int64(28), object(8)\n",
            "memory usage: 136.6+ KB\n"
          ]
        }
      ],
      "source": [
        "data = pd.read_csv(\"../Datasets/Filter Jateng dan DM.csv\")\n",
        "data.info()"
      ]
    },
    {
      "cell_type": "code",
      "execution_count": null,
      "metadata": {
        "colab": {
          "base_uri": "https://localhost:8080/"
        },
        "id": "-gHhxwuMLE7P",
        "outputId": "1128e38f-c22b-46a8-fbad-1e4590f9bab7"
      },
      "outputs": [
        {
          "data": {
            "text/plain": [
              "Nomor_peserta                                             int64\n",
              "Nomor_keluarga                                            int64\n",
              "Bobot                                                   float64\n",
              "ID_Kunjungan                                             object\n",
              "Tanggal_kunjungan                                        object\n",
              "Tanggal_tindakan                                         object\n",
              "Tanggal_pulang                                           object\n",
              "Provinsi_faskes                                           int64\n",
              "Kode_Kab_Kota_faskes                                      int64\n",
              "Kepemilikan_faskes                                        int64\n",
              "Jenis_faskes                                              int64\n",
              "Tipe_faskes                                               int64\n",
              "Tingkat_layanan                                           int64\n",
              "Segmen_peserta                                            int64\n",
              "Kode_dan_Nama_diagnosis_berdasarkan_ICD_10__3_digit_      int64\n",
              "Kode_diagnosis_berdasarkan_ICD_10__3_digit_              object\n",
              "Kode_diagnosis__3_5_digit_                               object\n",
              "Nama_Diagnosis                                           object\n",
              "Nama_Tindakan                                             int64\n",
              "Biaya_tagih                                               int64\n",
              "Biaya_verifikasi                                          int64\n",
              "Hasil_Pemeriksaan_gula_darah_puasa__GDP__1              float64\n",
              "Hasil_Pemeriksaan_gula_darah_puasa__GDP__2              float64\n",
              "Nomor_peserta_1                                           int64\n",
              "Nomor_keluarga_1                                          int64\n",
              "Tanggal_lahir_peserta                                    object\n",
              "Hubungan_Keluarga                                         int64\n",
              "Jenis_Kelamin                                             int64\n",
              "Status_perkawinan                                         int64\n",
              "Kelas_rawat                                               int64\n",
              "Segmentasi_peserta                                        int64\n",
              "Provinsi_Tempat_Tinggal_Peserta                           int64\n",
              "Kabupaten_Kota_Tempat_Tinggal_Peserta                     int64\n",
              "Kepemilikan_faskes_1                                      int64\n",
              "Jenis_faskes_                                             int64\n",
              "Provinsi_Fasilitas_Kesehatan_Peserta_Terdaftar            int64\n",
              "Kabupaten_Kota_Fasilitas_Kesehatan_Peserta_Terdaftar      int64\n",
              "Bobot_1                                                 float64\n",
              "Tahun_Sampel                                              int64\n",
              "Status_Kepesertaan                                        int64\n",
              "Tahun_meninggal                                         float64\n",
              "dtype: object"
            ]
          },
          "execution_count": 3,
          "metadata": {},
          "output_type": "execute_result"
        }
      ],
      "source": [
        "data.dtypes"
      ]
    },
    {
      "cell_type": "code",
      "execution_count": null,
      "metadata": {
        "id": "syJw2cRILJWK"
      },
      "outputs": [],
      "source": [
        "data['Tanggal_kunjungan'] = data['Tanggal_kunjungan'].astype('datetime64')\n",
        "data['Tanggal_tindakan'] = data['Tanggal_tindakan'].astype('datetime64')\n",
        "data['Tanggal_pulang'] = data['Tanggal_pulang'].astype('datetime64')\n",
        "data['Tanggal_lahir_peserta'] = data['Tanggal_lahir_peserta'].astype('datetime64')"
      ]
    },
    {
      "cell_type": "code",
      "execution_count": null,
      "metadata": {
        "id": "C2zJshy3L17i"
      },
      "outputs": [],
      "source": [
        "data['Lama_tindakan'] = data['Tanggal_tindakan']-data['Tanggal_kunjungan']"
      ]
    },
    {
      "cell_type": "code",
      "execution_count": null,
      "metadata": {
        "colab": {
          "base_uri": "https://localhost:8080/"
        },
        "id": "5YRMwFdpMEh9",
        "outputId": "9dea45e8-6681-4dea-9e59-1901ee86a467"
      },
      "outputs": [
        {
          "data": {
            "text/plain": [
              "0 days    426\n",
              "Name: Lama_tindakan, dtype: int64"
            ]
          },
          "execution_count": 6,
          "metadata": {},
          "output_type": "execute_result"
        }
      ],
      "source": [
        "data['Lama_tindakan'].value_counts()"
      ]
    },
    {
      "cell_type": "code",
      "execution_count": null,
      "metadata": {
        "id": "F8f1KxDlMPDA"
      },
      "outputs": [],
      "source": [
        "data['Lama_inap'] = data['Tanggal_pulang']-data['Tanggal_kunjungan']"
      ]
    },
    {
      "cell_type": "code",
      "execution_count": null,
      "metadata": {
        "colab": {
          "base_uri": "https://localhost:8080/"
        },
        "id": "PwkGR7nxMWpo",
        "outputId": "e217a642-feec-4a61-d005-d5e3c783a74a"
      },
      "outputs": [
        {
          "data": {
            "text/plain": [
              "0 days    426\n",
              "Name: Lama_inap, dtype: int64"
            ]
          },
          "execution_count": 8,
          "metadata": {},
          "output_type": "execute_result"
        }
      ],
      "source": [
        "data['Lama_inap'].value_counts()"
      ]
    },
    {
      "cell_type": "code",
      "execution_count": null,
      "metadata": {
        "colab": {
          "base_uri": "https://localhost:8080/"
        },
        "id": "o7xicl3GGaZk",
        "outputId": "e65a3266-01bd-4fa5-e482-b9419207dc4d"
      },
      "outputs": [
        {
          "data": {
            "text/plain": [
              "E11    401\n",
              "E10     25\n",
              "Name: Kode_diagnosis_berdasarkan_ICD_10__3_digit_, dtype: int64"
            ]
          },
          "execution_count": 9,
          "metadata": {},
          "output_type": "execute_result"
        }
      ],
      "source": [
        "data[\"Kode_diagnosis_berdasarkan_ICD_10__3_digit_\"].value_counts()"
      ]
    },
    {
      "cell_type": "code",
      "execution_count": null,
      "metadata": {
        "colab": {
          "base_uri": "https://localhost:8080/"
        },
        "id": "tXnOBqLPMyhQ",
        "outputId": "d420d641-54ed-4df9-900d-8b7d2198d11b"
      },
      "outputs": [
        {
          "data": {
            "text/plain": [
              "58    58\n",
              "61    28\n",
              "49    28\n",
              "55    28\n",
              "59    27\n",
              "69    27\n",
              "54    27\n",
              "43    26\n",
              "67    25\n",
              "65    23\n",
              "75    22\n",
              "71    22\n",
              "66    18\n",
              "64    17\n",
              "87    17\n",
              "48    11\n",
              "80     9\n",
              "63     6\n",
              "60     6\n",
              "73     1\n",
              "Name: umur, dtype: int64"
            ]
          },
          "execution_count": 10,
          "metadata": {},
          "output_type": "execute_result"
        }
      ],
      "source": [
        "data['umur'] = 2021 - data['Tanggal_lahir_peserta'].dt.year\n",
        "data['umur'].value_counts()\n"
      ]
    },
    {
      "cell_type": "code",
      "execution_count": null,
      "metadata": {
        "id": "tl6615jCl62X"
      },
      "outputs": [],
      "source": [
        "# selected = [\n",
        "#     \"Nomor_peserta\",\n",
        "#     \"Nomor_keluarga\",\n",
        "#     \"Bobot\",\n",
        "#     \"Kode_Kab_Kota_faskes\",\n",
        "#     \"Segmen_peserta\",\n",
        "#     \"Kode_diagnosis_berdasarkan_ICD_10__3_digit_\",\n",
        "#     \"Biaya_tagih\",\n",
        "#     \"Hasil_Pemeriksaan_gula_darah_puasa__GDP__1\",\n",
        "#     \"Tanggal_lahir_peserta\",\n",
        "#     \"Hubungan_Keluarga\",\n",
        "#     \"Jenis_Kelamin\",\n",
        "#     \"Status_perkawinan\",\n",
        "#     \"Kabupaten_Kota_Tempat_Tinggal_Peserta\",\n",
        "#     \"Tahun_meninggal\"\n",
        "# ]\n",
        "# selected"
      ]
    },
    {
      "cell_type": "code",
      "execution_count": null,
      "metadata": {
        "id": "yphHmlIqzosY"
      },
      "outputs": [],
      "source": [
        "# penghapusan kolom yang tidak berguna atau tidak diperlukan dari suatu dataset.\n",
        "# data.drop(['ID_Kunjungan', 'Tanggal_kunjungan', 'Tanggal_tindakan', 'Tanggal_pulang', 'Provinsi_faskes', 'Kepemilikan_faskes', 'Jenis_faskes', 'Tipe_faskes', 'Tingkat_layanan', 'Kode_dan_Nama_diagnosis_berdasarkan_ICD_10__3_digit_', 'Kode_diagnosis__3_5_digit_', 'Nama_Diagnosis', 'Nama_Tindakan', 'Biaya_verifikasi', 'Hasil_Pemeriksaan_gula_darah_puasa__GDP__2', 'Nomor_peserta_1', 'Nomor_keluarga_1', 'Kelas_rawat', 'Segmentasi_peserta', 'Provinsi_Tempat_Tinggal_Peserta', 'Kepemilikan_faskes_1', 'Jenis_faskes_', 'Provinsi_Fasilitas_Kesehatan_Peserta_Terdaftar', 'Kabupaten_Kota_Fasilitas_Kesehatan_Peserta_Terdaftar', 'Bobot_1', 'Tahun_Sampel', 'Status_Kepesertaan'], axis= 1, inplace= True)\n",
        "data.drop(['Nomor_peserta', 'Nomor_keluarga', 'Tahun_meninggal', 'Tanggal_lahir_peserta', 'Biaya_tagih', 'ID_Kunjungan', 'Tanggal_kunjungan', 'Tanggal_tindakan', 'Tanggal_pulang', 'Provinsi_faskes', 'Kepemilikan_faskes', 'Jenis_faskes', 'Tipe_faskes', 'Tingkat_layanan', 'Kode_dan_Nama_diagnosis_berdasarkan_ICD_10__3_digit_', 'Kode_diagnosis_berdasarkan_ICD_10__3_digit_', 'Nama_Diagnosis', 'Nama_Tindakan', 'Biaya_verifikasi', 'Hasil_Pemeriksaan_gula_darah_puasa__GDP__2', 'Nomor_peserta_1', 'Nomor_keluarga_1', 'Kelas_rawat', 'Segmentasi_peserta', 'Provinsi_Tempat_Tinggal_Peserta', 'Kepemilikan_faskes_1', 'Jenis_faskes_', 'Provinsi_Fasilitas_Kesehatan_Peserta_Terdaftar', 'Kabupaten_Kota_Fasilitas_Kesehatan_Peserta_Terdaftar', 'Bobot_1', 'Tahun_Sampel', 'Status_Kepesertaan','Lama_inap','Lama_tindakan'], axis= 1, inplace= True)"
      ]
    },
    {
      "cell_type": "code",
      "execution_count": null,
      "metadata": {
        "colab": {
          "base_uri": "https://localhost:8080/",
          "height": 226
        },
        "id": "sjkH8PAI3IKI",
        "outputId": "aca610b3-51b6-42e5-e8ea-abc73f6f2c75"
      },
      "outputs": [
        {
          "data": {
            "text/html": [
              "\n",
              "  <div id=\"df-b3ecc74d-fbad-456e-b864-b1d6a01c9c67\" class=\"colab-df-container\">\n",
              "    <div>\n",
              "<style scoped>\n",
              "    .dataframe tbody tr th:only-of-type {\n",
              "        vertical-align: middle;\n",
              "    }\n",
              "\n",
              "    .dataframe tbody tr th {\n",
              "        vertical-align: top;\n",
              "    }\n",
              "\n",
              "    .dataframe thead th {\n",
              "        text-align: right;\n",
              "    }\n",
              "</style>\n",
              "<table border=\"1\" class=\"dataframe\">\n",
              "  <thead>\n",
              "    <tr style=\"text-align: right;\">\n",
              "      <th></th>\n",
              "      <th>Bobot</th>\n",
              "      <th>Kode_Kab_Kota_faskes</th>\n",
              "      <th>Segmen_peserta</th>\n",
              "      <th>Kode_diagnosis__3_5_digit_</th>\n",
              "      <th>Hasil_Pemeriksaan_gula_darah_puasa__GDP__1</th>\n",
              "      <th>Hubungan_Keluarga</th>\n",
              "      <th>Jenis_Kelamin</th>\n",
              "      <th>Status_perkawinan</th>\n",
              "      <th>Kabupaten_Kota_Tempat_Tinggal_Peserta</th>\n",
              "      <th>umur</th>\n",
              "    </tr>\n",
              "  </thead>\n",
              "  <tbody>\n",
              "    <tr>\n",
              "      <th>0</th>\n",
              "      <td>9.918155</td>\n",
              "      <td>3311</td>\n",
              "      <td>5</td>\n",
              "      <td>E11</td>\n",
              "      <td>124.0</td>\n",
              "      <td>1</td>\n",
              "      <td>1</td>\n",
              "      <td>2</td>\n",
              "      <td>3508</td>\n",
              "      <td>71</td>\n",
              "    </tr>\n",
              "    <tr>\n",
              "      <th>1</th>\n",
              "      <td>13.108784</td>\n",
              "      <td>3376</td>\n",
              "      <td>1</td>\n",
              "      <td>E11</td>\n",
              "      <td>366.0</td>\n",
              "      <td>1</td>\n",
              "      <td>1</td>\n",
              "      <td>2</td>\n",
              "      <td>3525</td>\n",
              "      <td>58</td>\n",
              "    </tr>\n",
              "    <tr>\n",
              "      <th>2</th>\n",
              "      <td>8.448109</td>\n",
              "      <td>3302</td>\n",
              "      <td>1</td>\n",
              "      <td>E104</td>\n",
              "      <td>87.0</td>\n",
              "      <td>1</td>\n",
              "      <td>2</td>\n",
              "      <td>2</td>\n",
              "      <td>1504</td>\n",
              "      <td>60</td>\n",
              "    </tr>\n",
              "    <tr>\n",
              "      <th>3</th>\n",
              "      <td>8.448109</td>\n",
              "      <td>3302</td>\n",
              "      <td>1</td>\n",
              "      <td>E104</td>\n",
              "      <td>188.0</td>\n",
              "      <td>1</td>\n",
              "      <td>2</td>\n",
              "      <td>2</td>\n",
              "      <td>1504</td>\n",
              "      <td>60</td>\n",
              "    </tr>\n",
              "    <tr>\n",
              "      <th>4</th>\n",
              "      <td>8.448109</td>\n",
              "      <td>3302</td>\n",
              "      <td>1</td>\n",
              "      <td>E104</td>\n",
              "      <td>130.0</td>\n",
              "      <td>1</td>\n",
              "      <td>2</td>\n",
              "      <td>2</td>\n",
              "      <td>1504</td>\n",
              "      <td>60</td>\n",
              "    </tr>\n",
              "  </tbody>\n",
              "</table>\n",
              "</div>\n",
              "    <div class=\"colab-df-buttons\">\n",
              "\n",
              "  <div class=\"colab-df-container\">\n",
              "    <button class=\"colab-df-convert\" onclick=\"convertToInteractive('df-b3ecc74d-fbad-456e-b864-b1d6a01c9c67')\"\n",
              "            title=\"Convert this dataframe to an interactive table.\"\n",
              "            style=\"display:none;\">\n",
              "\n",
              "  <svg xmlns=\"http://www.w3.org/2000/svg\" height=\"24px\" viewBox=\"0 -960 960 960\">\n",
              "    <path d=\"M120-120v-720h720v720H120Zm60-500h600v-160H180v160Zm220 220h160v-160H400v160Zm0 220h160v-160H400v160ZM180-400h160v-160H180v160Zm440 0h160v-160H620v160ZM180-180h160v-160H180v160Zm440 0h160v-160H620v160Z\"/>\n",
              "  </svg>\n",
              "    </button>\n",
              "\n",
              "  <style>\n",
              "    .colab-df-container {\n",
              "      display:flex;\n",
              "      gap: 12px;\n",
              "    }\n",
              "\n",
              "    .colab-df-convert {\n",
              "      background-color: #E8F0FE;\n",
              "      border: none;\n",
              "      border-radius: 50%;\n",
              "      cursor: pointer;\n",
              "      display: none;\n",
              "      fill: #1967D2;\n",
              "      height: 32px;\n",
              "      padding: 0 0 0 0;\n",
              "      width: 32px;\n",
              "    }\n",
              "\n",
              "    .colab-df-convert:hover {\n",
              "      background-color: #E2EBFA;\n",
              "      box-shadow: 0px 1px 2px rgba(60, 64, 67, 0.3), 0px 1px 3px 1px rgba(60, 64, 67, 0.15);\n",
              "      fill: #174EA6;\n",
              "    }\n",
              "\n",
              "    .colab-df-buttons div {\n",
              "      margin-bottom: 4px;\n",
              "    }\n",
              "\n",
              "    [theme=dark] .colab-df-convert {\n",
              "      background-color: #3B4455;\n",
              "      fill: #D2E3FC;\n",
              "    }\n",
              "\n",
              "    [theme=dark] .colab-df-convert:hover {\n",
              "      background-color: #434B5C;\n",
              "      box-shadow: 0px 1px 3px 1px rgba(0, 0, 0, 0.15);\n",
              "      filter: drop-shadow(0px 1px 2px rgba(0, 0, 0, 0.3));\n",
              "      fill: #FFFFFF;\n",
              "    }\n",
              "  </style>\n",
              "\n",
              "    <script>\n",
              "      const buttonEl =\n",
              "        document.querySelector('#df-b3ecc74d-fbad-456e-b864-b1d6a01c9c67 button.colab-df-convert');\n",
              "      buttonEl.style.display =\n",
              "        google.colab.kernel.accessAllowed ? 'block' : 'none';\n",
              "\n",
              "      async function convertToInteractive(key) {\n",
              "        const element = document.querySelector('#df-b3ecc74d-fbad-456e-b864-b1d6a01c9c67');\n",
              "        const dataTable =\n",
              "          await google.colab.kernel.invokeFunction('convertToInteractive',\n",
              "                                                    [key], {});\n",
              "        if (!dataTable) return;\n",
              "\n",
              "        const docLinkHtml = 'Like what you see? Visit the ' +\n",
              "          '<a target=\"_blank\" href=https://colab.research.google.com/notebooks/data_table.ipynb>data table notebook</a>'\n",
              "          + ' to learn more about interactive tables.';\n",
              "        element.innerHTML = '';\n",
              "        dataTable['output_type'] = 'display_data';\n",
              "        await google.colab.output.renderOutput(dataTable, element);\n",
              "        const docLink = document.createElement('div');\n",
              "        docLink.innerHTML = docLinkHtml;\n",
              "        element.appendChild(docLink);\n",
              "      }\n",
              "    </script>\n",
              "  </div>\n",
              "\n",
              "\n",
              "<div id=\"df-cf9a2b3f-dc76-4eac-974c-1d7ecb94ba84\">\n",
              "  <button class=\"colab-df-quickchart\" onclick=\"quickchart('df-cf9a2b3f-dc76-4eac-974c-1d7ecb94ba84')\"\n",
              "            title=\"Suggest charts.\"\n",
              "            style=\"display:none;\">\n",
              "\n",
              "<svg xmlns=\"http://www.w3.org/2000/svg\" height=\"24px\"viewBox=\"0 0 24 24\"\n",
              "     width=\"24px\">\n",
              "    <g>\n",
              "        <path d=\"M19 3H5c-1.1 0-2 .9-2 2v14c0 1.1.9 2 2 2h14c1.1 0 2-.9 2-2V5c0-1.1-.9-2-2-2zM9 17H7v-7h2v7zm4 0h-2V7h2v10zm4 0h-2v-4h2v4z\"/>\n",
              "    </g>\n",
              "</svg>\n",
              "  </button>\n",
              "\n",
              "<style>\n",
              "  .colab-df-quickchart {\n",
              "    background-color: #E8F0FE;\n",
              "    border: none;\n",
              "    border-radius: 50%;\n",
              "    cursor: pointer;\n",
              "    display: none;\n",
              "    fill: #1967D2;\n",
              "    height: 32px;\n",
              "    padding: 0 0 0 0;\n",
              "    width: 32px;\n",
              "  }\n",
              "\n",
              "  .colab-df-quickchart:hover {\n",
              "    background-color: #E2EBFA;\n",
              "    box-shadow: 0px 1px 2px rgba(60, 64, 67, 0.3), 0px 1px 3px 1px rgba(60, 64, 67, 0.15);\n",
              "    fill: #174EA6;\n",
              "  }\n",
              "\n",
              "  [theme=dark] .colab-df-quickchart {\n",
              "    background-color: #3B4455;\n",
              "    fill: #D2E3FC;\n",
              "  }\n",
              "\n",
              "  [theme=dark] .colab-df-quickchart:hover {\n",
              "    background-color: #434B5C;\n",
              "    box-shadow: 0px 1px 3px 1px rgba(0, 0, 0, 0.15);\n",
              "    filter: drop-shadow(0px 1px 2px rgba(0, 0, 0, 0.3));\n",
              "    fill: #FFFFFF;\n",
              "  }\n",
              "</style>\n",
              "\n",
              "  <script>\n",
              "    async function quickchart(key) {\n",
              "      const charts = await google.colab.kernel.invokeFunction(\n",
              "          'suggestCharts', [key], {});\n",
              "    }\n",
              "    (() => {\n",
              "      let quickchartButtonEl =\n",
              "        document.querySelector('#df-cf9a2b3f-dc76-4eac-974c-1d7ecb94ba84 button');\n",
              "      quickchartButtonEl.style.display =\n",
              "        google.colab.kernel.accessAllowed ? 'block' : 'none';\n",
              "    })();\n",
              "  </script>\n",
              "</div>\n",
              "    </div>\n",
              "  </div>\n"
            ],
            "text/plain": [
              "       Bobot  Kode_Kab_Kota_faskes  Segmen_peserta Kode_diagnosis__3_5_digit_  \\\n",
              "0   9.918155                  3311               5                        E11   \n",
              "1  13.108784                  3376               1                        E11   \n",
              "2   8.448109                  3302               1                       E104   \n",
              "3   8.448109                  3302               1                       E104   \n",
              "4   8.448109                  3302               1                       E104   \n",
              "\n",
              "   Hasil_Pemeriksaan_gula_darah_puasa__GDP__1  Hubungan_Keluarga  \\\n",
              "0                                       124.0                  1   \n",
              "1                                       366.0                  1   \n",
              "2                                        87.0                  1   \n",
              "3                                       188.0                  1   \n",
              "4                                       130.0                  1   \n",
              "\n",
              "   Jenis_Kelamin  Status_perkawinan  Kabupaten_Kota_Tempat_Tinggal_Peserta  \\\n",
              "0              1                  2                                   3508   \n",
              "1              1                  2                                   3525   \n",
              "2              2                  2                                   1504   \n",
              "3              2                  2                                   1504   \n",
              "4              2                  2                                   1504   \n",
              "\n",
              "   umur  \n",
              "0    71  \n",
              "1    58  \n",
              "2    60  \n",
              "3    60  \n",
              "4    60  "
            ]
          },
          "execution_count": 13,
          "metadata": {},
          "output_type": "execute_result"
        }
      ],
      "source": [
        "data.head()"
      ]
    },
    {
      "cell_type": "code",
      "execution_count": null,
      "metadata": {
        "colab": {
          "base_uri": "https://localhost:8080/"
        },
        "id": "Hhf_Q9TdK59O",
        "outputId": "16f7052b-9812-4232-eaf2-b0042d4df6a9"
      },
      "outputs": [
        {
          "data": {
            "text/plain": [
              "Bobot                                         float64\n",
              "Kode_Kab_Kota_faskes                            int64\n",
              "Segmen_peserta                                  int64\n",
              "Kode_diagnosis__3_5_digit_                     object\n",
              "Hasil_Pemeriksaan_gula_darah_puasa__GDP__1    float64\n",
              "Hubungan_Keluarga                               int64\n",
              "Jenis_Kelamin                                   int64\n",
              "Status_perkawinan                               int64\n",
              "Kabupaten_Kota_Tempat_Tinggal_Peserta           int64\n",
              "umur                                            int64\n",
              "dtype: object"
            ]
          },
          "execution_count": 14,
          "metadata": {},
          "output_type": "execute_result"
        }
      ],
      "source": [
        "data.dtypes"
      ]
    },
    {
      "cell_type": "code",
      "execution_count": null,
      "metadata": {
        "id": "oZFwBvAIvOKu"
      },
      "outputs": [],
      "source": [
        "# status_kehidupan = []\n",
        "\n",
        "# for x in data[\"Tahun_meninggal\"]:\n",
        "#   if x > 0: # Nilai Mean Tahun_meninggal\n",
        "#     status_kehidupan.append('0') # komplikasi\n",
        "#   else:\n",
        "#     status_kehidupan.append('1') # tidak komplikasi\n",
        "\n",
        "# data[\"Tahun_meninggal\"] = status_kehidupan\n",
        "# data[\"Tahun_meninggal\"]"
      ]
    },
    {
      "cell_type": "code",
      "execution_count": null,
      "metadata": {
        "colab": {
          "base_uri": "https://localhost:8080/"
        },
        "id": "fbsxBHZqjs5F",
        "outputId": "dfafcce2-48d4-4a94-a2b6-7be23d40d1ce"
      },
      "outputs": [
        {
          "name": "stdout",
          "output_type": "stream",
          "text": [
            "Kolom Kategori: ['Kode_diagnosis__3_5_digit_']\n",
            "\n",
            "Kolom Number: ['Bobot', 'Kode_Kab_Kota_faskes', 'Segmen_peserta', 'Hasil_Pemeriksaan_gula_darah_puasa__GDP__1', 'Hubungan_Keluarga', 'Jenis_Kelamin', 'Status_perkawinan', 'Kabupaten_Kota_Tempat_Tinggal_Peserta', 'umur']\n",
            "\n"
          ]
        }
      ],
      "source": [
        "#  penghitungan dan pengelompokan kolom dalam suatu dataset berdasarkan tipe datanya.\n",
        "cat_columns = data.select_dtypes(object).columns.to_list()\n",
        "print(f\"Kolom Kategori: {cat_columns}\")\n",
        "print()\n",
        "num_columns = data.select_dtypes(np.number).columns.to_list()\n",
        "print(f\"Kolom Number: {num_columns}\")\n",
        "print()"
      ]
    },
    {
      "cell_type": "code",
      "execution_count": null,
      "metadata": {
        "colab": {
          "base_uri": "https://localhost:8080/"
        },
        "id": "1G7MBE13j0ru",
        "outputId": "ea8c581c-5d33-4989-dfa7-faaec3b955b7"
      },
      "outputs": [
        {
          "data": {
            "text/plain": [
              "Bobot                                         0\n",
              "Kode_Kab_Kota_faskes                          0\n",
              "Segmen_peserta                                0\n",
              "Kode_diagnosis__3_5_digit_                    0\n",
              "Hasil_Pemeriksaan_gula_darah_puasa__GDP__1    0\n",
              "Hubungan_Keluarga                             0\n",
              "Jenis_Kelamin                                 0\n",
              "Status_perkawinan                             0\n",
              "Kabupaten_Kota_Tempat_Tinggal_Peserta         0\n",
              "umur                                          0\n",
              "dtype: int64"
            ]
          },
          "execution_count": 17,
          "metadata": {},
          "output_type": "execute_result"
        }
      ],
      "source": [
        "# missing value data\n",
        "data.isnull().sum()"
      ]
    },
    {
      "cell_type": "code",
      "execution_count": null,
      "metadata": {
        "colab": {
          "base_uri": "https://localhost:8080/"
        },
        "id": "56CFkM9Hj--H",
        "outputId": "b78a316d-dd33-4022-cce0-60be4e25f5ec"
      },
      "outputs": [
        {
          "name": "stdout",
          "output_type": "stream",
          "text": [
            "Bobot                                          29\n",
            "Kode_Kab_Kota_faskes                           17\n",
            "Segmen_peserta                                  5\n",
            "Kode_diagnosis__3_5_digit_                      5\n",
            "Hasil_Pemeriksaan_gula_darah_puasa__GDP__1    284\n",
            "Hubungan_Keluarga                               3\n",
            "Jenis_Kelamin                                   2\n",
            "Status_perkawinan                               2\n",
            "Kabupaten_Kota_Tempat_Tinggal_Peserta          28\n",
            "umur                                           20\n",
            "dtype: int64\n"
          ]
        }
      ],
      "source": [
        "# menghitung jumlah nilai unik (distinct) dalam setiap kolom DataFrame data.\n",
        "unique_counts = data.nunique()\n",
        "print(unique_counts)"
      ]
    },
    {
      "cell_type": "code",
      "execution_count": null,
      "metadata": {
        "id": "zvcqt0QJIiyX"
      },
      "outputs": [],
      "source": [
        "data = data[data['Kode_diagnosis__3_5_digit_'] != 'E11']"
      ]
    },
    {
      "cell_type": "code",
      "execution_count": null,
      "metadata": {
        "colab": {
          "base_uri": "https://localhost:8080/"
        },
        "id": "OazQ2Jdum4qG",
        "outputId": "2dcf526f-32bc-40e0-91dd-2dee9d181f55"
      },
      "outputs": [
        {
          "name": "stdout",
          "output_type": "stream",
          "text": [
            "Total categories pada kolom Kode diagnosis_berdasarkan ICD 10 (3digit):\n",
            "E119    398\n",
            "E109     22\n",
            "E104      3\n",
            "E118      1\n",
            "Name: Kode_diagnosis__3_5_digit_, dtype: int64\n"
          ]
        }
      ],
      "source": [
        "# Menghitung jumlah data dari kolom Kode diagnosis_berdasarkan ICD 10 (3digit)\n",
        "print(f\"Total categories pada kolom Kode diagnosis_berdasarkan ICD 10 (3digit):\\n{data['Kode_diagnosis__3_5_digit_'].value_counts()}\")"
      ]
    },
    {
      "cell_type": "code",
      "execution_count": null,
      "metadata": {
        "colab": {
          "base_uri": "https://localhost:8080/"
        },
        "id": "Yql-W3MXmpUp",
        "outputId": "30570dbe-cb93-4915-f66c-c2272adfbe98"
      },
      "outputs": [
        {
          "name": "stdout",
          "output_type": "stream",
          "text": [
            "Total categories pada kolom Jenis Kelamin:\n",
            "2    226\n",
            "1    198\n",
            "Name: Jenis_Kelamin, dtype: int64\n"
          ]
        }
      ],
      "source": [
        "# Menghitung jumlah data dari kolom Jenis Kelamin\n",
        "print(f\"Total categories pada kolom Jenis Kelamin:\\n{data['Jenis_Kelamin'].value_counts()}\")"
      ]
    },
    {
      "cell_type": "markdown",
      "metadata": {
        "id": "vf8SY1OJsP5A"
      },
      "source": [
        "**Jenis kelamin:**\n",
        "1. Laki\n",
        "2. Perempuan"
      ]
    },
    {
      "cell_type": "code",
      "execution_count": null,
      "metadata": {
        "colab": {
          "base_uri": "https://localhost:8080/"
        },
        "id": "SHWI0tU8sUh3",
        "outputId": "57425fdd-301e-4192-93ee-8ea5bd81c86a"
      },
      "outputs": [
        {
          "name": "stdout",
          "output_type": "stream",
          "text": [
            "Variabel kategorikal dalam dataset: ['Kode_diagnosis__3_5_digit_']\n"
          ]
        }
      ],
      "source": [
        "# Daftar variabel kategorikal dengan mengidentifikasi tipe data \"object\"\n",
        "s = (data.dtypes == 'object')\n",
        "object_cols = list(s[s].index)\n",
        "\n",
        "print(\"Variabel kategorikal dalam dataset:\", object_cols)"
      ]
    },
    {
      "cell_type": "code",
      "execution_count": null,
      "metadata": {
        "colab": {
          "base_uri": "https://localhost:8080/"
        },
        "id": "bmxEP-QfsveL",
        "outputId": "5cd6de0f-aea9-4410-d7be-7dc6394671b6"
      },
      "outputs": [
        {
          "name": "stdout",
          "output_type": "stream",
          "text": [
            "Semua fitur sekarang bersifat numerik\n"
          ]
        }
      ],
      "source": [
        "# Inisialisasi objek LabelEncoder\n",
        "LE = LabelEncoder()\n",
        "\n",
        "# Melakukan label encoding untuk setiap variabel kategorikal\n",
        "for i in object_cols:\n",
        "    data[i] = LE.fit_transform(data[i])\n",
        "\n",
        "print(\"Semua fitur sekarang bersifat numerik\")"
      ]
    },
    {
      "cell_type": "code",
      "execution_count": null,
      "metadata": {
        "colab": {
          "base_uri": "https://localhost:8080/"
        },
        "id": "Tt400hh5GD5W",
        "outputId": "319eda39-8304-4080-a512-72f55a062c12"
      },
      "outputs": [
        {
          "data": {
            "text/plain": [
              "3    398\n",
              "1     22\n",
              "0      3\n",
              "2      1\n",
              "Name: Kode_diagnosis__3_5_digit_, dtype: int64"
            ]
          },
          "execution_count": 24,
          "metadata": {},
          "output_type": "execute_result"
        }
      ],
      "source": [
        "data[\"Kode_diagnosis__3_5_digit_\"].value_counts()"
      ]
    },
    {
      "cell_type": "code",
      "execution_count": null,
      "metadata": {
        "id": "1HQ2GyClsyjA"
      },
      "outputs": [],
      "source": [
        "# selected = [\n",
        "#     \"Nomor_peserta\",\n",
        "#     \"Nomor_keluarga\",\n",
        "#     \"Bobot\",\n",
        "#     \"Kode_Kab_Kota_faskes\",\n",
        "#     \"Segmen_peserta\",\n",
        "#     \"Kode_diagnosis_berdasarkan_ICD_10__3_digit_\",\n",
        "#     \"Biaya_tagih\",\n",
        "#     \"Hasil_Pemeriksaan_gula_darah_puasa__GDP__1\",\n",
        "#     \"Tanggal_lahir_peserta\",\n",
        "#     \"Hubungan_Keluarga\",\n",
        "#     \"Jenis_Kelamin\",\n",
        "#     \"Status_perkawinan\",\n",
        "#     \"Kabupaten_Kota_Tempat_Tinggal_Peserta\",\n",
        "#     \"Tahun_meninggal\"\n",
        "# ]\n",
        "# data_selected = data[selected]\n",
        "\n",
        "# X = data_selected.drop(columns=\"Kode_diagnosis_berdasarkan_ICD_10__3_digit_\").values # atribut\n",
        "# y = data_selected[\"Kode_diagnosis_berdasarkan_ICD_10__3_digit_\"].values #kelas/target"
      ]
    },
    {
      "cell_type": "code",
      "execution_count": null,
      "metadata": {
        "id": "91Z4iNpZ7bIX"
      },
      "outputs": [],
      "source": [
        "X = data.drop(columns=\"Kode_diagnosis__3_5_digit_\") # atribut\n",
        "y = data[\"Kode_diagnosis__3_5_digit_\"] #kelas/target"
      ]
    },
    {
      "cell_type": "code",
      "execution_count": null,
      "metadata": {
        "id": "SoGBimzOtldD"
      },
      "outputs": [],
      "source": [
        "# split data dengan proporsi 70:30\n",
        "\n",
        "from sklearn.model_selection import train_test_split as tts\n",
        "\n",
        "X_train, X_test, y_train, y_test = tts(X,y, test_size=0.3, random_state=42)"
      ]
    },
    {
      "cell_type": "code",
      "execution_count": null,
      "metadata": {
        "id": "uys9lx2Ptokq"
      },
      "outputs": [],
      "source": [
        "from sklearn.preprocessing import StandardScaler, MinMaxScaler\n",
        "\n",
        "# Object Scaling / Normalisasi hanya di fit ke data training\n",
        "\n",
        "scaler = MinMaxScaler()\n",
        "columns = list(X_train.columns)\n",
        "scaler.fit(X_train[columns])\n",
        "\n",
        "X_train_scaled = scaler.transform(X_train)\n",
        "X_test_scaled = scaler.transform(X_test)\n",
        "\n",
        "# jika ingin tetap dalam bentuk dataframe, nilai hasil scaling dapat di assign ke kolom awal\n",
        "X_train[columns] = X_train_scaled\n",
        "X_test[columns] = X_test_scaled"
      ]
    },
    {
      "cell_type": "code",
      "execution_count": null,
      "metadata": {
        "colab": {
          "base_uri": "https://localhost:8080/",
          "height": 226
        },
        "id": "ZX7NE-stt1h_",
        "outputId": "dede3671-614f-4e34-bc2c-28814118ee32"
      },
      "outputs": [
        {
          "data": {
            "text/html": [
              "\n",
              "  <div id=\"df-69254391-8ba0-4ff2-ad2e-174f7e84fbfc\" class=\"colab-df-container\">\n",
              "    <div>\n",
              "<style scoped>\n",
              "    .dataframe tbody tr th:only-of-type {\n",
              "        vertical-align: middle;\n",
              "    }\n",
              "\n",
              "    .dataframe tbody tr th {\n",
              "        vertical-align: top;\n",
              "    }\n",
              "\n",
              "    .dataframe thead th {\n",
              "        text-align: right;\n",
              "    }\n",
              "</style>\n",
              "<table border=\"1\" class=\"dataframe\">\n",
              "  <thead>\n",
              "    <tr style=\"text-align: right;\">\n",
              "      <th></th>\n",
              "      <th>Bobot</th>\n",
              "      <th>Kode_Kab_Kota_faskes</th>\n",
              "      <th>Segmen_peserta</th>\n",
              "      <th>Hasil_Pemeriksaan_gula_darah_puasa__GDP__1</th>\n",
              "      <th>Hubungan_Keluarga</th>\n",
              "      <th>Jenis_Kelamin</th>\n",
              "      <th>Status_perkawinan</th>\n",
              "      <th>Kabupaten_Kota_Tempat_Tinggal_Peserta</th>\n",
              "      <th>umur</th>\n",
              "    </tr>\n",
              "  </thead>\n",
              "  <tbody>\n",
              "    <tr>\n",
              "      <th>398</th>\n",
              "      <td>0.871148</td>\n",
              "      <td>0.240000</td>\n",
              "      <td>0.75</td>\n",
              "      <td>0.227550</td>\n",
              "      <td>0.0</td>\n",
              "      <td>0.0</td>\n",
              "      <td>0.0</td>\n",
              "      <td>0.433627</td>\n",
              "      <td>0.113636</td>\n",
              "    </tr>\n",
              "    <tr>\n",
              "      <th>120</th>\n",
              "      <td>0.906077</td>\n",
              "      <td>0.013333</td>\n",
              "      <td>0.75</td>\n",
              "      <td>0.283455</td>\n",
              "      <td>1.0</td>\n",
              "      <td>1.0</td>\n",
              "      <td>0.0</td>\n",
              "      <td>0.039784</td>\n",
              "      <td>0.386364</td>\n",
              "    </tr>\n",
              "    <tr>\n",
              "      <th>116</th>\n",
              "      <td>0.399404</td>\n",
              "      <td>0.933333</td>\n",
              "      <td>0.75</td>\n",
              "      <td>0.166853</td>\n",
              "      <td>1.0</td>\n",
              "      <td>1.0</td>\n",
              "      <td>0.0</td>\n",
              "      <td>0.440824</td>\n",
              "      <td>0.136364</td>\n",
              "    </tr>\n",
              "    <tr>\n",
              "      <th>301</th>\n",
              "      <td>0.954824</td>\n",
              "      <td>0.200000</td>\n",
              "      <td>0.00</td>\n",
              "      <td>0.432003</td>\n",
              "      <td>0.0</td>\n",
              "      <td>1.0</td>\n",
              "      <td>1.0</td>\n",
              "      <td>0.420232</td>\n",
              "      <td>0.840909</td>\n",
              "    </tr>\n",
              "    <tr>\n",
              "      <th>424</th>\n",
              "      <td>1.000000</td>\n",
              "      <td>0.226667</td>\n",
              "      <td>0.00</td>\n",
              "      <td>0.179631</td>\n",
              "      <td>1.0</td>\n",
              "      <td>1.0</td>\n",
              "      <td>0.0</td>\n",
              "      <td>0.412835</td>\n",
              "      <td>0.590909</td>\n",
              "    </tr>\n",
              "  </tbody>\n",
              "</table>\n",
              "</div>\n",
              "    <div class=\"colab-df-buttons\">\n",
              "\n",
              "  <div class=\"colab-df-container\">\n",
              "    <button class=\"colab-df-convert\" onclick=\"convertToInteractive('df-69254391-8ba0-4ff2-ad2e-174f7e84fbfc')\"\n",
              "            title=\"Convert this dataframe to an interactive table.\"\n",
              "            style=\"display:none;\">\n",
              "\n",
              "  <svg xmlns=\"http://www.w3.org/2000/svg\" height=\"24px\" viewBox=\"0 -960 960 960\">\n",
              "    <path d=\"M120-120v-720h720v720H120Zm60-500h600v-160H180v160Zm220 220h160v-160H400v160Zm0 220h160v-160H400v160ZM180-400h160v-160H180v160Zm440 0h160v-160H620v160ZM180-180h160v-160H180v160Zm440 0h160v-160H620v160Z\"/>\n",
              "  </svg>\n",
              "    </button>\n",
              "\n",
              "  <style>\n",
              "    .colab-df-container {\n",
              "      display:flex;\n",
              "      gap: 12px;\n",
              "    }\n",
              "\n",
              "    .colab-df-convert {\n",
              "      background-color: #E8F0FE;\n",
              "      border: none;\n",
              "      border-radius: 50%;\n",
              "      cursor: pointer;\n",
              "      display: none;\n",
              "      fill: #1967D2;\n",
              "      height: 32px;\n",
              "      padding: 0 0 0 0;\n",
              "      width: 32px;\n",
              "    }\n",
              "\n",
              "    .colab-df-convert:hover {\n",
              "      background-color: #E2EBFA;\n",
              "      box-shadow: 0px 1px 2px rgba(60, 64, 67, 0.3), 0px 1px 3px 1px rgba(60, 64, 67, 0.15);\n",
              "      fill: #174EA6;\n",
              "    }\n",
              "\n",
              "    .colab-df-buttons div {\n",
              "      margin-bottom: 4px;\n",
              "    }\n",
              "\n",
              "    [theme=dark] .colab-df-convert {\n",
              "      background-color: #3B4455;\n",
              "      fill: #D2E3FC;\n",
              "    }\n",
              "\n",
              "    [theme=dark] .colab-df-convert:hover {\n",
              "      background-color: #434B5C;\n",
              "      box-shadow: 0px 1px 3px 1px rgba(0, 0, 0, 0.15);\n",
              "      filter: drop-shadow(0px 1px 2px rgba(0, 0, 0, 0.3));\n",
              "      fill: #FFFFFF;\n",
              "    }\n",
              "  </style>\n",
              "\n",
              "    <script>\n",
              "      const buttonEl =\n",
              "        document.querySelector('#df-69254391-8ba0-4ff2-ad2e-174f7e84fbfc button.colab-df-convert');\n",
              "      buttonEl.style.display =\n",
              "        google.colab.kernel.accessAllowed ? 'block' : 'none';\n",
              "\n",
              "      async function convertToInteractive(key) {\n",
              "        const element = document.querySelector('#df-69254391-8ba0-4ff2-ad2e-174f7e84fbfc');\n",
              "        const dataTable =\n",
              "          await google.colab.kernel.invokeFunction('convertToInteractive',\n",
              "                                                    [key], {});\n",
              "        if (!dataTable) return;\n",
              "\n",
              "        const docLinkHtml = 'Like what you see? Visit the ' +\n",
              "          '<a target=\"_blank\" href=https://colab.research.google.com/notebooks/data_table.ipynb>data table notebook</a>'\n",
              "          + ' to learn more about interactive tables.';\n",
              "        element.innerHTML = '';\n",
              "        dataTable['output_type'] = 'display_data';\n",
              "        await google.colab.output.renderOutput(dataTable, element);\n",
              "        const docLink = document.createElement('div');\n",
              "        docLink.innerHTML = docLinkHtml;\n",
              "        element.appendChild(docLink);\n",
              "      }\n",
              "    </script>\n",
              "  </div>\n",
              "\n",
              "\n",
              "<div id=\"df-9aa5ef2e-bfc4-4681-96e7-405bc887911a\">\n",
              "  <button class=\"colab-df-quickchart\" onclick=\"quickchart('df-9aa5ef2e-bfc4-4681-96e7-405bc887911a')\"\n",
              "            title=\"Suggest charts.\"\n",
              "            style=\"display:none;\">\n",
              "\n",
              "<svg xmlns=\"http://www.w3.org/2000/svg\" height=\"24px\"viewBox=\"0 0 24 24\"\n",
              "     width=\"24px\">\n",
              "    <g>\n",
              "        <path d=\"M19 3H5c-1.1 0-2 .9-2 2v14c0 1.1.9 2 2 2h14c1.1 0 2-.9 2-2V5c0-1.1-.9-2-2-2zM9 17H7v-7h2v7zm4 0h-2V7h2v10zm4 0h-2v-4h2v4z\"/>\n",
              "    </g>\n",
              "</svg>\n",
              "  </button>\n",
              "\n",
              "<style>\n",
              "  .colab-df-quickchart {\n",
              "    background-color: #E8F0FE;\n",
              "    border: none;\n",
              "    border-radius: 50%;\n",
              "    cursor: pointer;\n",
              "    display: none;\n",
              "    fill: #1967D2;\n",
              "    height: 32px;\n",
              "    padding: 0 0 0 0;\n",
              "    width: 32px;\n",
              "  }\n",
              "\n",
              "  .colab-df-quickchart:hover {\n",
              "    background-color: #E2EBFA;\n",
              "    box-shadow: 0px 1px 2px rgba(60, 64, 67, 0.3), 0px 1px 3px 1px rgba(60, 64, 67, 0.15);\n",
              "    fill: #174EA6;\n",
              "  }\n",
              "\n",
              "  [theme=dark] .colab-df-quickchart {\n",
              "    background-color: #3B4455;\n",
              "    fill: #D2E3FC;\n",
              "  }\n",
              "\n",
              "  [theme=dark] .colab-df-quickchart:hover {\n",
              "    background-color: #434B5C;\n",
              "    box-shadow: 0px 1px 3px 1px rgba(0, 0, 0, 0.15);\n",
              "    filter: drop-shadow(0px 1px 2px rgba(0, 0, 0, 0.3));\n",
              "    fill: #FFFFFF;\n",
              "  }\n",
              "</style>\n",
              "\n",
              "  <script>\n",
              "    async function quickchart(key) {\n",
              "      const charts = await google.colab.kernel.invokeFunction(\n",
              "          'suggestCharts', [key], {});\n",
              "    }\n",
              "    (() => {\n",
              "      let quickchartButtonEl =\n",
              "        document.querySelector('#df-9aa5ef2e-bfc4-4681-96e7-405bc887911a button');\n",
              "      quickchartButtonEl.style.display =\n",
              "        google.colab.kernel.accessAllowed ? 'block' : 'none';\n",
              "    })();\n",
              "  </script>\n",
              "</div>\n",
              "    </div>\n",
              "  </div>\n"
            ],
            "text/plain": [
              "        Bobot  Kode_Kab_Kota_faskes  Segmen_peserta  \\\n",
              "398  0.871148              0.240000            0.75   \n",
              "120  0.906077              0.013333            0.75   \n",
              "116  0.399404              0.933333            0.75   \n",
              "301  0.954824              0.200000            0.00   \n",
              "424  1.000000              0.226667            0.00   \n",
              "\n",
              "     Hasil_Pemeriksaan_gula_darah_puasa__GDP__1  Hubungan_Keluarga  \\\n",
              "398                                    0.227550                0.0   \n",
              "120                                    0.283455                1.0   \n",
              "116                                    0.166853                1.0   \n",
              "301                                    0.432003                0.0   \n",
              "424                                    0.179631                1.0   \n",
              "\n",
              "     Jenis_Kelamin  Status_perkawinan  Kabupaten_Kota_Tempat_Tinggal_Peserta  \\\n",
              "398            0.0                0.0                               0.433627   \n",
              "120            1.0                0.0                               0.039784   \n",
              "116            1.0                0.0                               0.440824   \n",
              "301            1.0                1.0                               0.420232   \n",
              "424            1.0                0.0                               0.412835   \n",
              "\n",
              "         umur  \n",
              "398  0.113636  \n",
              "120  0.386364  \n",
              "116  0.136364  \n",
              "301  0.840909  \n",
              "424  0.590909  "
            ]
          },
          "execution_count": 29,
          "metadata": {},
          "output_type": "execute_result"
        }
      ],
      "source": [
        "X_train.head()"
      ]
    },
    {
      "cell_type": "markdown",
      "metadata": {
        "id": "S7plrak-Q5Fq"
      },
      "source": [
        "MELIHAT KORELASI"
      ]
    },
    {
      "cell_type": "code",
      "execution_count": null,
      "metadata": {
        "colab": {
          "base_uri": "https://localhost:8080/",
          "height": 320
        },
        "id": "Pv6yc5dnQ6tS",
        "outputId": "3dd57852-2c45-4d21-87b8-eb9263025102"
      },
      "outputs": [
        {
          "data": {
            "text/html": [
              "\n",
              "  <div id=\"df-71bc54f0-d6aa-40cf-b394-08ad7ffa8e4a\" class=\"colab-df-container\">\n",
              "    <div>\n",
              "<style scoped>\n",
              "    .dataframe tbody tr th:only-of-type {\n",
              "        vertical-align: middle;\n",
              "    }\n",
              "\n",
              "    .dataframe tbody tr th {\n",
              "        vertical-align: top;\n",
              "    }\n",
              "\n",
              "    .dataframe thead th {\n",
              "        text-align: right;\n",
              "    }\n",
              "</style>\n",
              "<table border=\"1\" class=\"dataframe\">\n",
              "  <thead>\n",
              "    <tr style=\"text-align: right;\">\n",
              "      <th></th>\n",
              "      <th>Bobot</th>\n",
              "      <th>Kode_Kab_Kota_faskes</th>\n",
              "      <th>Segmen_peserta</th>\n",
              "      <th>Hasil_Pemeriksaan_gula_darah_puasa__GDP__1</th>\n",
              "      <th>Hubungan_Keluarga</th>\n",
              "      <th>Jenis_Kelamin</th>\n",
              "      <th>Status_perkawinan</th>\n",
              "      <th>Kabupaten_Kota_Tempat_Tinggal_Peserta</th>\n",
              "      <th>umur</th>\n",
              "    </tr>\n",
              "  </thead>\n",
              "  <tbody>\n",
              "    <tr>\n",
              "      <th>count</th>\n",
              "      <td>296.000000</td>\n",
              "      <td>296.000000</td>\n",
              "      <td>296.000000</td>\n",
              "      <td>296.000000</td>\n",
              "      <td>296.000000</td>\n",
              "      <td>296.000000</td>\n",
              "      <td>296.000000</td>\n",
              "      <td>296.000000</td>\n",
              "      <td>296.000000</td>\n",
              "    </tr>\n",
              "    <tr>\n",
              "      <th>mean</th>\n",
              "      <td>0.666714</td>\n",
              "      <td>0.584324</td>\n",
              "      <td>0.387669</td>\n",
              "      <td>0.172695</td>\n",
              "      <td>0.331081</td>\n",
              "      <td>0.533784</td>\n",
              "      <td>0.135135</td>\n",
              "      <td>0.353835</td>\n",
              "      <td>0.422758</td>\n",
              "    </tr>\n",
              "    <tr>\n",
              "      <th>std</th>\n",
              "      <td>0.340390</td>\n",
              "      <td>0.401815</td>\n",
              "      <td>0.439385</td>\n",
              "      <td>0.152874</td>\n",
              "      <td>0.460486</td>\n",
              "      <td>0.499702</td>\n",
              "      <td>0.342447</td>\n",
              "      <td>0.194817</td>\n",
              "      <td>0.226118</td>\n",
              "    </tr>\n",
              "    <tr>\n",
              "      <th>min</th>\n",
              "      <td>0.000000</td>\n",
              "      <td>0.000000</td>\n",
              "      <td>0.000000</td>\n",
              "      <td>0.000000</td>\n",
              "      <td>0.000000</td>\n",
              "      <td>0.000000</td>\n",
              "      <td>0.000000</td>\n",
              "      <td>0.000000</td>\n",
              "      <td>0.000000</td>\n",
              "    </tr>\n",
              "    <tr>\n",
              "      <th>25%</th>\n",
              "      <td>0.429508</td>\n",
              "      <td>0.200000</td>\n",
              "      <td>0.000000</td>\n",
              "      <td>0.042145</td>\n",
              "      <td>0.000000</td>\n",
              "      <td>0.000000</td>\n",
              "      <td>0.000000</td>\n",
              "      <td>0.138944</td>\n",
              "      <td>0.272727</td>\n",
              "    </tr>\n",
              "    <tr>\n",
              "      <th>50%</th>\n",
              "      <td>0.822403</td>\n",
              "      <td>0.933333</td>\n",
              "      <td>0.000000</td>\n",
              "      <td>0.162061</td>\n",
              "      <td>0.000000</td>\n",
              "      <td>1.000000</td>\n",
              "      <td>0.000000</td>\n",
              "      <td>0.420232</td>\n",
              "      <td>0.409091</td>\n",
              "    </tr>\n",
              "    <tr>\n",
              "      <th>75%</th>\n",
              "      <td>0.906077</td>\n",
              "      <td>0.973333</td>\n",
              "      <td>0.750000</td>\n",
              "      <td>0.256701</td>\n",
              "      <td>1.000000</td>\n",
              "      <td>1.000000</td>\n",
              "      <td>0.000000</td>\n",
              "      <td>0.444022</td>\n",
              "      <td>0.545455</td>\n",
              "    </tr>\n",
              "    <tr>\n",
              "      <th>max</th>\n",
              "      <td>1.000000</td>\n",
              "      <td>1.000000</td>\n",
              "      <td>1.000000</td>\n",
              "      <td>1.000000</td>\n",
              "      <td>1.000000</td>\n",
              "      <td>1.000000</td>\n",
              "      <td>1.000000</td>\n",
              "      <td>1.000000</td>\n",
              "      <td>1.000000</td>\n",
              "    </tr>\n",
              "  </tbody>\n",
              "</table>\n",
              "</div>\n",
              "    <div class=\"colab-df-buttons\">\n",
              "\n",
              "  <div class=\"colab-df-container\">\n",
              "    <button class=\"colab-df-convert\" onclick=\"convertToInteractive('df-71bc54f0-d6aa-40cf-b394-08ad7ffa8e4a')\"\n",
              "            title=\"Convert this dataframe to an interactive table.\"\n",
              "            style=\"display:none;\">\n",
              "\n",
              "  <svg xmlns=\"http://www.w3.org/2000/svg\" height=\"24px\" viewBox=\"0 -960 960 960\">\n",
              "    <path d=\"M120-120v-720h720v720H120Zm60-500h600v-160H180v160Zm220 220h160v-160H400v160Zm0 220h160v-160H400v160ZM180-400h160v-160H180v160Zm440 0h160v-160H620v160ZM180-180h160v-160H180v160Zm440 0h160v-160H620v160Z\"/>\n",
              "  </svg>\n",
              "    </button>\n",
              "\n",
              "  <style>\n",
              "    .colab-df-container {\n",
              "      display:flex;\n",
              "      gap: 12px;\n",
              "    }\n",
              "\n",
              "    .colab-df-convert {\n",
              "      background-color: #E8F0FE;\n",
              "      border: none;\n",
              "      border-radius: 50%;\n",
              "      cursor: pointer;\n",
              "      display: none;\n",
              "      fill: #1967D2;\n",
              "      height: 32px;\n",
              "      padding: 0 0 0 0;\n",
              "      width: 32px;\n",
              "    }\n",
              "\n",
              "    .colab-df-convert:hover {\n",
              "      background-color: #E2EBFA;\n",
              "      box-shadow: 0px 1px 2px rgba(60, 64, 67, 0.3), 0px 1px 3px 1px rgba(60, 64, 67, 0.15);\n",
              "      fill: #174EA6;\n",
              "    }\n",
              "\n",
              "    .colab-df-buttons div {\n",
              "      margin-bottom: 4px;\n",
              "    }\n",
              "\n",
              "    [theme=dark] .colab-df-convert {\n",
              "      background-color: #3B4455;\n",
              "      fill: #D2E3FC;\n",
              "    }\n",
              "\n",
              "    [theme=dark] .colab-df-convert:hover {\n",
              "      background-color: #434B5C;\n",
              "      box-shadow: 0px 1px 3px 1px rgba(0, 0, 0, 0.15);\n",
              "      filter: drop-shadow(0px 1px 2px rgba(0, 0, 0, 0.3));\n",
              "      fill: #FFFFFF;\n",
              "    }\n",
              "  </style>\n",
              "\n",
              "    <script>\n",
              "      const buttonEl =\n",
              "        document.querySelector('#df-71bc54f0-d6aa-40cf-b394-08ad7ffa8e4a button.colab-df-convert');\n",
              "      buttonEl.style.display =\n",
              "        google.colab.kernel.accessAllowed ? 'block' : 'none';\n",
              "\n",
              "      async function convertToInteractive(key) {\n",
              "        const element = document.querySelector('#df-71bc54f0-d6aa-40cf-b394-08ad7ffa8e4a');\n",
              "        const dataTable =\n",
              "          await google.colab.kernel.invokeFunction('convertToInteractive',\n",
              "                                                    [key], {});\n",
              "        if (!dataTable) return;\n",
              "\n",
              "        const docLinkHtml = 'Like what you see? Visit the ' +\n",
              "          '<a target=\"_blank\" href=https://colab.research.google.com/notebooks/data_table.ipynb>data table notebook</a>'\n",
              "          + ' to learn more about interactive tables.';\n",
              "        element.innerHTML = '';\n",
              "        dataTable['output_type'] = 'display_data';\n",
              "        await google.colab.output.renderOutput(dataTable, element);\n",
              "        const docLink = document.createElement('div');\n",
              "        docLink.innerHTML = docLinkHtml;\n",
              "        element.appendChild(docLink);\n",
              "      }\n",
              "    </script>\n",
              "  </div>\n",
              "\n",
              "\n",
              "<div id=\"df-8eff300e-a263-4a99-98b1-418c7d05b1fc\">\n",
              "  <button class=\"colab-df-quickchart\" onclick=\"quickchart('df-8eff300e-a263-4a99-98b1-418c7d05b1fc')\"\n",
              "            title=\"Suggest charts.\"\n",
              "            style=\"display:none;\">\n",
              "\n",
              "<svg xmlns=\"http://www.w3.org/2000/svg\" height=\"24px\"viewBox=\"0 0 24 24\"\n",
              "     width=\"24px\">\n",
              "    <g>\n",
              "        <path d=\"M19 3H5c-1.1 0-2 .9-2 2v14c0 1.1.9 2 2 2h14c1.1 0 2-.9 2-2V5c0-1.1-.9-2-2-2zM9 17H7v-7h2v7zm4 0h-2V7h2v10zm4 0h-2v-4h2v4z\"/>\n",
              "    </g>\n",
              "</svg>\n",
              "  </button>\n",
              "\n",
              "<style>\n",
              "  .colab-df-quickchart {\n",
              "    background-color: #E8F0FE;\n",
              "    border: none;\n",
              "    border-radius: 50%;\n",
              "    cursor: pointer;\n",
              "    display: none;\n",
              "    fill: #1967D2;\n",
              "    height: 32px;\n",
              "    padding: 0 0 0 0;\n",
              "    width: 32px;\n",
              "  }\n",
              "\n",
              "  .colab-df-quickchart:hover {\n",
              "    background-color: #E2EBFA;\n",
              "    box-shadow: 0px 1px 2px rgba(60, 64, 67, 0.3), 0px 1px 3px 1px rgba(60, 64, 67, 0.15);\n",
              "    fill: #174EA6;\n",
              "  }\n",
              "\n",
              "  [theme=dark] .colab-df-quickchart {\n",
              "    background-color: #3B4455;\n",
              "    fill: #D2E3FC;\n",
              "  }\n",
              "\n",
              "  [theme=dark] .colab-df-quickchart:hover {\n",
              "    background-color: #434B5C;\n",
              "    box-shadow: 0px 1px 3px 1px rgba(0, 0, 0, 0.15);\n",
              "    filter: drop-shadow(0px 1px 2px rgba(0, 0, 0, 0.3));\n",
              "    fill: #FFFFFF;\n",
              "  }\n",
              "</style>\n",
              "\n",
              "  <script>\n",
              "    async function quickchart(key) {\n",
              "      const charts = await google.colab.kernel.invokeFunction(\n",
              "          'suggestCharts', [key], {});\n",
              "    }\n",
              "    (() => {\n",
              "      let quickchartButtonEl =\n",
              "        document.querySelector('#df-8eff300e-a263-4a99-98b1-418c7d05b1fc button');\n",
              "      quickchartButtonEl.style.display =\n",
              "        google.colab.kernel.accessAllowed ? 'block' : 'none';\n",
              "    })();\n",
              "  </script>\n",
              "</div>\n",
              "    </div>\n",
              "  </div>\n"
            ],
            "text/plain": [
              "            Bobot  Kode_Kab_Kota_faskes  Segmen_peserta  \\\n",
              "count  296.000000            296.000000      296.000000   \n",
              "mean     0.666714              0.584324        0.387669   \n",
              "std      0.340390              0.401815        0.439385   \n",
              "min      0.000000              0.000000        0.000000   \n",
              "25%      0.429508              0.200000        0.000000   \n",
              "50%      0.822403              0.933333        0.000000   \n",
              "75%      0.906077              0.973333        0.750000   \n",
              "max      1.000000              1.000000        1.000000   \n",
              "\n",
              "       Hasil_Pemeriksaan_gula_darah_puasa__GDP__1  Hubungan_Keluarga  \\\n",
              "count                                  296.000000         296.000000   \n",
              "mean                                     0.172695           0.331081   \n",
              "std                                      0.152874           0.460486   \n",
              "min                                      0.000000           0.000000   \n",
              "25%                                      0.042145           0.000000   \n",
              "50%                                      0.162061           0.000000   \n",
              "75%                                      0.256701           1.000000   \n",
              "max                                      1.000000           1.000000   \n",
              "\n",
              "       Jenis_Kelamin  Status_perkawinan  \\\n",
              "count     296.000000         296.000000   \n",
              "mean        0.533784           0.135135   \n",
              "std         0.499702           0.342447   \n",
              "min         0.000000           0.000000   \n",
              "25%         0.000000           0.000000   \n",
              "50%         1.000000           0.000000   \n",
              "75%         1.000000           0.000000   \n",
              "max         1.000000           1.000000   \n",
              "\n",
              "       Kabupaten_Kota_Tempat_Tinggal_Peserta        umur  \n",
              "count                             296.000000  296.000000  \n",
              "mean                                0.353835    0.422758  \n",
              "std                                 0.194817    0.226118  \n",
              "min                                 0.000000    0.000000  \n",
              "25%                                 0.138944    0.272727  \n",
              "50%                                 0.420232    0.409091  \n",
              "75%                                 0.444022    0.545455  \n",
              "max                                 1.000000    1.000000  "
            ]
          },
          "execution_count": 30,
          "metadata": {},
          "output_type": "execute_result"
        }
      ],
      "source": [
        "X_train.describe()"
      ]
    },
    {
      "cell_type": "code",
      "execution_count": null,
      "metadata": {
        "colab": {
          "base_uri": "https://localhost:8080/",
          "height": 920
        },
        "id": "YSz4Kq73Q_n8",
        "outputId": "5ad15c07-8009-4abb-9cec-49df573afcea"
      },
      "outputs": [
        {
          "data": {
            "text/plain": [
              "<Axes: >"
            ]
          },
          "execution_count": 31,
          "metadata": {},
          "output_type": "execute_result"
        },
        {
          "data": {
            "image/png": "[encoded data removed]",
            "text/plain": [
              "<Figure size 1500x1000 with 2 Axes>"
            ]
          },
          "metadata": {},
          "output_type": "display_data"
        }
      ],
      "source": [
        "import matplotlib.pyplot as plt\n",
        "import seaborn as sns\n",
        "\n",
        "plt.figure(figsize=(15, 10))\n",
        "sns.heatmap(data.corr(), annot=True,cmap='coolwarm')"
      ]
    },
    {
      "cell_type": "markdown",
      "metadata": {
        "id": "zYGT9WzsRDUQ"
      },
      "source": [
        "HANDLING CLASS IMBLANCE"
      ]
    },
    {
      "cell_type": "code",
      "execution_count": null,
      "metadata": {
        "colab": {
          "base_uri": "https://localhost:8080/"
        },
        "id": "q_0XYpew8Iuj",
        "outputId": "3d99c48e-e0d2-46bf-8223-d184d7a7cccf"
      },
      "outputs": [
        {
          "data": {
            "text/plain": [
              "3    283\n",
              "1     11\n",
              "0      2\n",
              "Name: Kode_diagnosis__3_5_digit_, dtype: int64"
            ]
          },
          "execution_count": 32,
          "metadata": {},
          "output_type": "execute_result"
        }
      ],
      "source": [
        "y_train.value_counts()"
      ]
    },
    {
      "cell_type": "code",
      "execution_count": null,
      "metadata": {
        "colab": {
          "base_uri": "https://localhost:8080/",
          "height": 522
        },
        "id": "kPnhiP4sRFS9",
        "outputId": "e041981d-6de3-4cfc-8cfe-56413211c2b8"
      },
      "outputs": [
        {
          "data": {
            "text/plain": [
              "Text(0.5, 1.0, 'Perbandingan Tipe DM')"
            ]
          },
          "execution_count": 33,
          "metadata": {},
          "output_type": "execute_result"
        },
        {
          "data": {
            "image/png": "[encoded data removed]",
            "text/plain": [
              "<Figure size 800x550 with 1 Axes>"
            ]
          },
          "metadata": {},
          "output_type": "display_data"
        }
      ],
      "source": [
        "y_train.value_counts().plot(kind='bar')\n",
        "plt.xticks([0, 1, 2, 3],['E119','E109','E104','E118'], rotation=0)\n",
        "plt.title('Perbandingan Tipe DM')"
      ]
    },
    {
      "cell_type": "code",
      "execution_count": null,
      "metadata": {
        "colab": {
          "base_uri": "https://localhost:8080/",
          "height": 145
        },
        "id": "32eYGFQTRG92",
        "outputId": "c88e2df8-9456-41ca-8014-cd84c4240192"
      },
      "outputs": [
        {
          "data": {
            "application/vnd.google.colaboratory.intrinsic+json": {
              "type": "string"
            },
            "text/plain": [
              "\"from imblearn.over_sampling import SMOTE\\n\\n# sampling strategi 1 artinya data minoritas akan ditambahkan data sintetis hingga perbandingan akan dibuat 1:1\\n# sampling hanya digunakan untuk data train\\n\\n#sampling_strategy = {4: 398, 1: 398, 0: 398, 2: 398, 3: 398}\\n\\n# Set n_neighbors to a value <= number of samples you have\\n#k_neighbors = 2  # Adjust this based on your dataset size\\n\\n#smote = SMOTE(sampling_strategy=sampling_strategy, k_neighbors=k_neighbors)\\n#X_smote, y_smote = smote.fit_resample(X_train, y_train)\\n\\nfrom imblearn.over_sampling import RandomOverSampler\\n\\n# Definisikan RandomOverSampler\\nros = RandomOverSampler(random_state=42)\\n\\n# Lakukan oversampling pada data train\\nX_train_oversampled, y_train_oversampled = ros.fit_resample(X_train, y_train)\\n\\nfrom imblearn.combine import SMOTETomek\\n\\n# Inisialisasi SMOTETomek dengan proporsi 1:1\\nsmote_tomek = SMOTETomek(sampling_strategy='auto', random_state=42)\\n\\n# Oversampling dengan SMOTETomek pada data train\\nX_train_resampled, y_train_resampled = smote_tomek.fit_resample(X_train, y_train)\\n\""
            ]
          },
          "execution_count": 34,
          "metadata": {},
          "output_type": "execute_result"
        }
      ],
      "source": [
        "'''from imblearn.over_sampling import SMOTE\n",
        "\n",
        "# sampling strategi 1 artinya data minoritas akan ditambahkan data sintetis hingga perbandingan akan dibuat 1:1\n",
        "# sampling hanya digunakan untuk data train\n",
        "\n",
        "#sampling_strategy = {4: 398, 1: 398, 0: 398, 2: 398, 3: 398}\n",
        "\n",
        "# Set n_neighbors to a value <= number of samples you have\n",
        "#k_neighbors = 2  # Adjust this based on your dataset size\n",
        "\n",
        "#smote = SMOTE(sampling_strategy=sampling_strategy, k_neighbors=k_neighbors)\n",
        "#X_smote, y_smote = smote.fit_resample(X_train, y_train)\n",
        "\n",
        "from imblearn.over_sampling import RandomOverSampler\n",
        "\n",
        "# Definisikan RandomOverSampler\n",
        "ros = RandomOverSampler(random_state=42)\n",
        "\n",
        "# Lakukan oversampling pada data train\n",
        "X_train_oversampled, y_train_oversampled = ros.fit_resample(X_train, y_train)\n",
        "\n",
        "from imblearn.combine import SMOTETomek\n",
        "\n",
        "# Inisialisasi SMOTETomek dengan proporsi 1:1\n",
        "smote_tomek = SMOTETomek(sampling_strategy='auto', random_state=42)\n",
        "\n",
        "# Oversampling dengan SMOTETomek pada data train\n",
        "X_train_resampled, y_train_resampled = smote_tomek.fit_resample(X_train, y_train)\n",
        "'''"
      ]
    },
    {
      "cell_type": "code",
      "execution_count": null,
      "metadata": {
        "colab": {
          "base_uri": "https://localhost:8080/",
          "height": 54
        },
        "id": "pvv_xCNBRLmM",
        "outputId": "5b49d7c2-4727-4abc-fc22-ead116c6efd2"
      },
      "outputs": [
        {
          "data": {
            "application/vnd.google.colaboratory.intrinsic+json": {
              "type": "string"
            },
            "text/plain": [
              "\"\\ny_train_oversampled.value_counts().plot(kind='bar')\\nplt.xticks([0, 1, 2, 3, 4],['4','1','0','3','2'], rotation=0)\\nplt.title('Perbandingan Tipe DM')\\n\""
            ]
          },
          "execution_count": 35,
          "metadata": {},
          "output_type": "execute_result"
        }
      ],
      "source": [
        "'''\n",
        "y_train_oversampled.value_counts().plot(kind='bar')\n",
        "plt.xticks([0, 1, 2, 3, 4],['4','1','0','3','2'], rotation=0)\n",
        "plt.title('Perbandingan Tipe DM')\n",
        "'''"
      ]
    },
    {
      "cell_type": "code",
      "execution_count": null,
      "metadata": {
        "id": "u-RXlfBnRNgn"
      },
      "outputs": [],
      "source": [
        "from sklearn.tree import DecisionTreeClassifier\n",
        "from sklearn.linear_model import LogisticRegression\n",
        "from sklearn.neighbors import KNeighborsClassifier\n",
        "from sklearn.ensemble import RandomForestClassifier\n",
        "from xgboost import XGBClassifier\n",
        "from sklearn.metrics import roc_auc_score, accuracy_score, confusion_matrix, classification_report, precision_score, recall_score, f1_score"
      ]
    },
    {
      "cell_type": "markdown",
      "metadata": {
        "id": "JwL_-DpVRUEy"
      },
      "source": [
        "# MODELING DECISION TREE"
      ]
    },
    {
      "cell_type": "code",
      "execution_count": null,
      "metadata": {
        "id": "ioqEj-0TRWv8"
      },
      "outputs": [],
      "source": [
        "# DecisionTreeClassifier?"
      ]
    },
    {
      "cell_type": "code",
      "execution_count": null,
      "metadata": {
        "colab": {
          "base_uri": "https://localhost:8080/"
        },
        "id": "cvjECtsaTiV6",
        "outputId": "934e254c-94f5-4e93-aadd-d26560beb0dc"
      },
      "outputs": [
        {
          "name": "stdout",
          "output_type": "stream",
          "text": [
            "Akurasi: 95.31%\n",
            "Presisi: 68.10%\n",
            "Recall: 69.80%\n",
            "Skor F1: 68.91%\n"
          ]
        }
      ],
      "source": [
        "# Melatih model Decision Tree\n",
        "decision_tree = DecisionTreeClassifier()\n",
        "decision_tree.fit(X_train, y_train)\n",
        "\n",
        "# Melakukan prediksi pada data pengujian\n",
        "y_pred = decision_tree.predict(X_test)\n",
        "'''\n",
        "# Evaluasi model\n",
        "accuracy = accuracy_score(y_test, y_pred) * 100\n",
        "precision = precision_score(y_test, y_pred) * 100\n",
        "recall = recall_score(y_test, y_pred) * 100\n",
        "f1 = f1_score(y_test, y_pred) * 100\n",
        "'''\n",
        "# Evaluasi model\n",
        "accuracy = accuracy_score(y_test, y_pred) * 100\n",
        "precision = precision_score(y_test, y_pred, average='macro') * 100\n",
        "recall = recall_score(y_test, y_pred, average='macro') * 100\n",
        "f1 = f1_score(y_test, y_pred, average='macro') * 100\n",
        "\n",
        "print(\"Akurasi: {:.2f}%\".format(accuracy))\n",
        "print(\"Presisi: {:.2f}%\".format(precision))\n",
        "print(\"Recall: {:.2f}%\".format(recall))\n",
        "print(\"Skor F1: {:.2f}%\".format(f1))"
      ]
    },
    {
      "cell_type": "code",
      "execution_count": null,
      "metadata": {
        "colab": {
          "base_uri": "https://localhost:8080/"
        },
        "id": "h5n-J634rt5F",
        "outputId": "3e9dcae8-16c1-4504-afa5-b0a5001b9671"
      },
      "outputs": [
        {
          "name": "stdout",
          "output_type": "stream",
          "text": [
            "Akurasi: 95.31%\n",
            "Presisi: 68.10%\n",
            "Recall: 69.80%\n",
            "Skor F1: 68.91%\n"
          ]
        }
      ],
      "source": [
        "import joblib\n",
        "\n",
        "# Export the trained model to a file\n",
        "joblib.dump(decision_tree, 'decision_tree_model.joblib')\n",
        "\n",
        "# Load the model from the file\n",
        "loaded_model = joblib.load('decision_tree_model.joblib')\n",
        "\n",
        "# Make predictions using the loaded model\n",
        "loaded_y_pred = loaded_model.predict(X_test)\n",
        "\n",
        "# Evaluasi model\n",
        "accuracy = accuracy_score(y_test, y_pred) * 100\n",
        "precision = precision_score(y_test, y_pred, average='macro') * 100\n",
        "recall = recall_score(y_test, y_pred, average='macro') * 100\n",
        "f1 = f1_score(y_test, y_pred, average='macro') * 100\n",
        "\n",
        "print(\"Akurasi: {:.2f}%\".format(accuracy))\n",
        "print(\"Presisi: {:.2f}%\".format(precision))\n",
        "print(\"Recall: {:.2f}%\".format(recall))\n",
        "print(\"Skor F1: {:.2f}%\".format(f1))"
      ]
    },
    {
      "cell_type": "code",
      "execution_count": null,
      "metadata": {
        "colab": {
          "base_uri": "https://localhost:8080/",
          "height": 1000
        },
        "id": "gCzZ5bgF_euu",
        "outputId": "c0dd3756-d70f-42f4-e65d-1921e580187b"
      },
      "outputs": [
        {
          "data": {
            "text/plain": [
              "[Text(0.30303030303030304, 0.9444444444444444, 'x[1] <= 0.987\\ngini = 0.084\\nsamples = 296\\nvalue = [2, 11, 283]'),\n",
              " Text(0.18181818181818182, 0.8333333333333334, 'x[1] <= 0.033\\ngini = 0.014\\nsamples = 277\\nvalue = [2, 0, 275]'),\n",
              " Text(0.12121212121212122, 0.7222222222222222, 'x[2] <= 0.375\\ngini = 0.278\\nsamples = 12\\nvalue = [2, 0, 10]'),\n",
              " Text(0.06060606060606061, 0.6111111111111112, 'gini = 0.0\\nsamples = 2\\nvalue = [2, 0, 0]'),\n",
              " Text(0.18181818181818182, 0.6111111111111112, 'gini = 0.0\\nsamples = 10\\nvalue = [0, 0, 10]'),\n",
              " Text(0.24242424242424243, 0.7222222222222222, 'gini = 0.0\\nsamples = 265\\nvalue = [0, 0, 265]'),\n",
              " Text(0.42424242424242425, 0.8333333333333334, 'x[5] <= 0.5\\ngini = 0.488\\nsamples = 19\\nvalue = [0, 11, 8]'),\n",
              " Text(0.36363636363636365, 0.7222222222222222, 'x[3] <= 0.011\\ngini = 0.5\\nsamples = 16\\nvalue = [0, 8, 8]'),\n",
              " Text(0.30303030303030304, 0.6111111111111112, 'gini = 0.0\\nsamples = 1\\nvalue = [0, 0, 1]'),\n",
              " Text(0.42424242424242425, 0.6111111111111112, 'x[3] <= 0.241\\ngini = 0.498\\nsamples = 15\\nvalue = [0, 8, 7]'),\n",
              " Text(0.21212121212121213, 0.5, 'x[3] <= 0.055\\ngini = 0.32\\nsamples = 5\\nvalue = [0, 4, 1]'),\n",
              " Text(0.15151515151515152, 0.3888888888888889, 'gini = 0.0\\nsamples = 2\\nvalue = [0, 2, 0]'),\n",
              " Text(0.2727272727272727, 0.3888888888888889, 'x[3] <= 0.073\\ngini = 0.444\\nsamples = 3\\nvalue = [0, 2, 1]'),\n",
              " Text(0.21212121212121213, 0.2777777777777778, 'gini = 0.0\\nsamples = 1\\nvalue = [0, 0, 1]'),\n",
              " Text(0.3333333333333333, 0.2777777777777778, 'gini = 0.0\\nsamples = 2\\nvalue = [0, 2, 0]'),\n",
              " Text(0.6363636363636364, 0.5, 'x[3] <= 0.464\\ngini = 0.48\\nsamples = 10\\nvalue = [0, 4, 6]'),\n",
              " Text(0.5151515151515151, 0.3888888888888889, 'x[3] <= 0.351\\ngini = 0.32\\nsamples = 5\\nvalue = [0, 1, 4]'),\n",
              " Text(0.45454545454545453, 0.2777777777777778, 'gini = 0.0\\nsamples = 2\\nvalue = [0, 0, 2]'),\n",
              " Text(0.5757575757575758, 0.2777777777777778, 'x[3] <= 0.418\\ngini = 0.444\\nsamples = 3\\nvalue = [0, 1, 2]'),\n",
              " Text(0.5151515151515151, 0.16666666666666666, 'gini = 0.0\\nsamples = 1\\nvalue = [0, 1, 0]'),\n",
              " Text(0.6363636363636364, 0.16666666666666666, 'gini = 0.0\\nsamples = 2\\nvalue = [0, 0, 2]'),\n",
              " Text(0.7575757575757576, 0.3888888888888889, 'x[3] <= 0.536\\ngini = 0.48\\nsamples = 5\\nvalue = [0, 3, 2]'),\n",
              " Text(0.696969696969697, 0.2777777777777778, 'gini = 0.0\\nsamples = 2\\nvalue = [0, 2, 0]'),\n",
              " Text(0.8181818181818182, 0.2777777777777778, 'x[3] <= 0.556\\ngini = 0.444\\nsamples = 3\\nvalue = [0, 1, 2]'),\n",
              " Text(0.7575757575757576, 0.16666666666666666, 'gini = 0.0\\nsamples = 1\\nvalue = [0, 0, 1]'),\n",
              " Text(0.8787878787878788, 0.16666666666666666, 'x[3] <= 0.63\\ngini = 0.5\\nsamples = 2\\nvalue = [0, 1, 1]'),\n",
              " Text(0.8181818181818182, 0.05555555555555555, 'gini = 0.0\\nsamples = 1\\nvalue = [0, 1, 0]'),\n",
              " Text(0.9393939393939394, 0.05555555555555555, 'gini = 0.0\\nsamples = 1\\nvalue = [0, 0, 1]'),\n",
              " Text(0.48484848484848486, 0.7222222222222222, 'gini = 0.0\\nsamples = 3\\nvalue = [0, 3, 0]')]"
            ]
          },
          "execution_count": 40,
          "metadata": {},
          "output_type": "execute_result"
        },
        {
          "data": {
            "image/png": "[encoded data removed]",
            "text/plain": [
              "<Figure size 1800x1800 with 1 Axes>"
            ]
          },
          "metadata": {},
          "output_type": "display_data"
        }
      ],
      "source": [
        "from sklearn import tree\n",
        "import matplotlib.pyplot as plt\n",
        "dtc = DecisionTreeClassifier()\n",
        "dtc.fit(X_train, y_train)\n",
        "fig, axes = plt.subplots(nrows = 1,ncols = 1,figsize = (9,9), dpi=200)\n",
        "tree.plot_tree(dtc)"
      ]
    },
    {
      "cell_type": "code",
      "execution_count": null,
      "metadata": {
        "id": "tA3QizFmJVwC"
      },
      "outputs": [],
      "source": [
        "# from sklearn.tree import DecisionTreeClassifier, plot_tree\n",
        "# import matplotlib.pyplot as plt\n",
        "\n",
        "# # Create and fit the DecisionTreeClassifier\n",
        "# dtc = DecisionTreeClassifier()\n",
        "# dtc.fit(X_train, y_train)\n",
        "\n",
        "# # Create a figure and axis for the tree plot\n",
        "# fig, ax = plt.subplots(nrows=1, ncols=1, figsize=(20,10), dpi=300)\n",
        "\n",
        "# # Plot the decision tree with feature names\n",
        "# plot_tree(\n",
        "#     dtc,\n",
        "#     filled=True,\n",
        "#     feature_names=X_train.columns,\n",
        "#     class_names=['Label 1', 'Label 2', 'Label 3'],\n",
        "#     ax=ax\n",
        "# )\n",
        "\n",
        "# # Show the plot\n",
        "# plt.show()"
      ]
    },
    {
      "cell_type": "code",
      "execution_count": null,
      "metadata": {
        "colab": {
          "base_uri": "https://localhost:8080/",
          "height": 1000
        },
        "id": "0Lx-oBtpMtub",
        "outputId": "12a69b52-2248-4a82-cf25-f0f2a4376ec0"
      },
      "outputs": [
        {
          "data": {
            "image/svg+xml": [
              "<?xml version=\"1.0\" encoding=\"UTF-8\" standalone=\"no\"?>\n",
              "<!DOCTYPE svg PUBLIC \"-//W3C//DTD SVG 1.1//EN\"\n",
              " \"http://www.w3.org/Graphics/SVG/1.1/DTD/svg11.dtd\">\n",
              "<!-- Generated by graphviz version 2.43.0 (0)\n",
              " -->\n",
              "<!-- Title: Tree Pages: 1 -->\n",
              "<svg width=\"1835pt\" height=\"1028pt\"\n",
              " viewBox=\"0.00 0.00 1834.50 1028.00\" xmlns=\"http://www.w3.org/2000/svg\" xmlns:xlink=\"http://www.w3.org/1999/xlink\">\n",
              "<g id=\"graph0\" class=\"graph\" transform=\"scale(1 1) rotate(0) translate(4 1024)\">\n",
              "<title>Tree</title>\n",
              "<polygon fill=\"white\" stroke=\"transparent\" points=\"-4,4 -4,-1024 1830.5,-1024 1830.5,4 -4,4\"/>\n",
              "<!-- 0 -->\n",
              "<g id=\"node1\" class=\"node\">\n",
              "<title>0</title>\n",
              "<polygon fill=\"none\" stroke=\"black\" points=\"511.5,-1020 292.5,-1020 292.5,-937 511.5,-937 511.5,-1020\"/>\n",
              "<text text-anchor=\"middle\" x=\"402\" y=\"-1004.8\" font-family=\"Helvetica,sans-Serif\" font-size=\"14.00\">Kode_Kab_Kota_faskes &lt;= 0.987</text>\n",
              "<text text-anchor=\"middle\" x=\"402\" y=\"-989.8\" font-family=\"Helvetica,sans-Serif\" font-size=\"14.00\">gini = 0.084</text>\n",
              "<text text-anchor=\"middle\" x=\"402\" y=\"-974.8\" font-family=\"Helvetica,sans-Serif\" font-size=\"14.00\">samples = 296</text>\n",
              "<text text-anchor=\"middle\" x=\"402\" y=\"-959.8\" font-family=\"Helvetica,sans-Serif\" font-size=\"14.00\">value = [2, 11, 283]</text>\n",
              "<text text-anchor=\"middle\" x=\"402\" y=\"-944.8\" font-family=\"Helvetica,sans-Serif\" font-size=\"14.00\">class = Label 3</text>\n",
              "</g>\n",
              "<!-- 1 -->\n",
              "<g id=\"node2\" class=\"node\">\n",
              "<title>1</title>\n",
              "<polygon fill=\"none\" stroke=\"black\" points=\"376.5,-901 157.5,-901 157.5,-818 376.5,-818 376.5,-901\"/>\n",
              "<text text-anchor=\"middle\" x=\"267\" y=\"-885.8\" font-family=\"Helvetica,sans-Serif\" font-size=\"14.00\">Kode_Kab_Kota_faskes &lt;= 0.033</text>\n",
              "<text text-anchor=\"middle\" x=\"267\" y=\"-870.8\" font-family=\"Helvetica,sans-Serif\" font-size=\"14.00\">gini = 0.014</text>\n",
              "<text text-anchor=\"middle\" x=\"267\" y=\"-855.8\" font-family=\"Helvetica,sans-Serif\" font-size=\"14.00\">samples = 277</text>\n",
              "<text text-anchor=\"middle\" x=\"267\" y=\"-840.8\" font-family=\"Helvetica,sans-Serif\" font-size=\"14.00\">value = [2, 0, 275]</text>\n",
              "<text text-anchor=\"middle\" x=\"267\" y=\"-825.8\" font-family=\"Helvetica,sans-Serif\" font-size=\"14.00\">class = Label 3</text>\n",
              "</g>\n",
              "<!-- 0&#45;&gt;1 -->\n",
              "<g id=\"edge1\" class=\"edge\">\n",
              "<title>0&#45;&gt;1</title>\n",
              "<path fill=\"none\" stroke=\"black\" d=\"M355.16,-936.91C344.27,-927.47 332.59,-917.34 321.4,-907.65\"/>\n",
              "<polygon fill=\"black\" stroke=\"black\" points=\"323.6,-904.93 313.75,-901.02 319.02,-910.22 323.6,-904.93\"/>\n",
              "<text text-anchor=\"middle\" x=\"315.54\" y=\"-922.26\" font-family=\"Helvetica,sans-Serif\" font-size=\"14.00\">True</text>\n",
              "</g>\n",
              "<!-- 6 -->\n",
              "<g id=\"node7\" class=\"node\">\n",
              "<title>6</title>\n",
              "<polygon fill=\"none\" stroke=\"black\" points=\"611,-901 463,-901 463,-818 611,-818 611,-901\"/>\n",
              "<text text-anchor=\"middle\" x=\"537\" y=\"-885.8\" font-family=\"Helvetica,sans-Serif\" font-size=\"14.00\">Jenis_Kelamin &lt;= 0.5</text>\n",
              "<text text-anchor=\"middle\" x=\"537\" y=\"-870.8\" font-family=\"Helvetica,sans-Serif\" font-size=\"14.00\">gini = 0.488</text>\n",
              "<text text-anchor=\"middle\" x=\"537\" y=\"-855.8\" font-family=\"Helvetica,sans-Serif\" font-size=\"14.00\">samples = 19</text>\n",
              "<text text-anchor=\"middle\" x=\"537\" y=\"-840.8\" font-family=\"Helvetica,sans-Serif\" font-size=\"14.00\">value = [0, 11, 8]</text>\n",
              "<text text-anchor=\"middle\" x=\"537\" y=\"-825.8\" font-family=\"Helvetica,sans-Serif\" font-size=\"14.00\">class = Label 2</text>\n",
              "</g>\n",
              "<!-- 0&#45;&gt;6 -->\n",
              "<g id=\"edge6\" class=\"edge\">\n",
              "<title>0&#45;&gt;6</title>\n",
              "<path fill=\"none\" stroke=\"black\" d=\"M448.84,-936.91C459.73,-927.47 471.41,-917.34 482.6,-907.65\"/>\n",
              "<polygon fill=\"black\" stroke=\"black\" points=\"484.98,-910.22 490.25,-901.02 480.4,-904.93 484.98,-910.22\"/>\n",
              "<text text-anchor=\"middle\" x=\"488.46\" y=\"-922.26\" font-family=\"Helvetica,sans-Serif\" font-size=\"14.00\">False</text>\n",
              "</g>\n",
              "<!-- 2 -->\n",
              "<g id=\"node3\" class=\"node\">\n",
              "<title>2</title>\n",
              "<polygon fill=\"none\" stroke=\"black\" points=\"187,-782 9,-782 9,-699 187,-699 187,-782\"/>\n",
              "<text text-anchor=\"middle\" x=\"98\" y=\"-766.8\" font-family=\"Helvetica,sans-Serif\" font-size=\"14.00\">Segmen_peserta &lt;= 0.375</text>\n",
              "<text text-anchor=\"middle\" x=\"98\" y=\"-751.8\" font-family=\"Helvetica,sans-Serif\" font-size=\"14.00\">gini = 0.278</text>\n",
              "<text text-anchor=\"middle\" x=\"98\" y=\"-736.8\" font-family=\"Helvetica,sans-Serif\" font-size=\"14.00\">samples = 12</text>\n",
              "<text text-anchor=\"middle\" x=\"98\" y=\"-721.8\" font-family=\"Helvetica,sans-Serif\" font-size=\"14.00\">value = [2, 0, 10]</text>\n",
              "<text text-anchor=\"middle\" x=\"98\" y=\"-706.8\" font-family=\"Helvetica,sans-Serif\" font-size=\"14.00\">class = Label 3</text>\n",
              "</g>\n",
              "<!-- 1&#45;&gt;2 -->\n",
              "<g id=\"edge2\" class=\"edge\">\n",
              "<title>1&#45;&gt;2</title>\n",
              "<path fill=\"none\" stroke=\"black\" d=\"M208.37,-817.91C194.34,-808.2 179.26,-797.76 164.89,-787.81\"/>\n",
              "<polygon fill=\"black\" stroke=\"black\" points=\"166.74,-784.84 156.53,-782.02 162.76,-790.59 166.74,-784.84\"/>\n",
              "</g>\n",
              "<!-- 5 -->\n",
              "<g id=\"node6\" class=\"node\">\n",
              "<title>5</title>\n",
              "<polygon fill=\"none\" stroke=\"black\" points=\"329.5,-774.5 204.5,-774.5 204.5,-706.5 329.5,-706.5 329.5,-774.5\"/>\n",
              "<text text-anchor=\"middle\" x=\"267\" y=\"-759.3\" font-family=\"Helvetica,sans-Serif\" font-size=\"14.00\">gini = 0.0</text>\n",
              "<text text-anchor=\"middle\" x=\"267\" y=\"-744.3\" font-family=\"Helvetica,sans-Serif\" font-size=\"14.00\">samples = 265</text>\n",
              "<text text-anchor=\"middle\" x=\"267\" y=\"-729.3\" font-family=\"Helvetica,sans-Serif\" font-size=\"14.00\">value = [0, 0, 265]</text>\n",
              "<text text-anchor=\"middle\" x=\"267\" y=\"-714.3\" font-family=\"Helvetica,sans-Serif\" font-size=\"14.00\">class = Label 3</text>\n",
              "</g>\n",
              "<!-- 1&#45;&gt;5 -->\n",
              "<g id=\"edge5\" class=\"edge\">\n",
              "<title>1&#45;&gt;5</title>\n",
              "<path fill=\"none\" stroke=\"black\" d=\"M267,-817.91C267,-807.2 267,-795.62 267,-784.78\"/>\n",
              "<polygon fill=\"black\" stroke=\"black\" points=\"270.5,-784.67 267,-774.67 263.5,-784.67 270.5,-784.67\"/>\n",
              "</g>\n",
              "<!-- 3 -->\n",
              "<g id=\"node4\" class=\"node\">\n",
              "<title>3</title>\n",
              "<polygon fill=\"none\" stroke=\"black\" points=\"110,-655.5 0,-655.5 0,-587.5 110,-587.5 110,-655.5\"/>\n",
              "<text text-anchor=\"middle\" x=\"55\" y=\"-640.3\" font-family=\"Helvetica,sans-Serif\" font-size=\"14.00\">gini = 0.0</text>\n",
              "<text text-anchor=\"middle\" x=\"55\" y=\"-625.3\" font-family=\"Helvetica,sans-Serif\" font-size=\"14.00\">samples = 2</text>\n",
              "<text text-anchor=\"middle\" x=\"55\" y=\"-610.3\" font-family=\"Helvetica,sans-Serif\" font-size=\"14.00\">value = [2, 0, 0]</text>\n",
              "<text text-anchor=\"middle\" x=\"55\" y=\"-595.3\" font-family=\"Helvetica,sans-Serif\" font-size=\"14.00\">class = Label 1</text>\n",
              "</g>\n",
              "<!-- 2&#45;&gt;3 -->\n",
              "<g id=\"edge3\" class=\"edge\">\n",
              "<title>2&#45;&gt;3</title>\n",
              "<path fill=\"none\" stroke=\"black\" d=\"M83.08,-698.91C79.07,-687.98 74.71,-676.14 70.66,-665.11\"/>\n",
              "<polygon fill=\"black\" stroke=\"black\" points=\"73.92,-663.85 67.19,-655.67 67.35,-666.26 73.92,-663.85\"/>\n",
              "</g>\n",
              "<!-- 4 -->\n",
              "<g id=\"node5\" class=\"node\">\n",
              "<title>4</title>\n",
              "<polygon fill=\"none\" stroke=\"black\" points=\"245.5,-655.5 128.5,-655.5 128.5,-587.5 245.5,-587.5 245.5,-655.5\"/>\n",
              "<text text-anchor=\"middle\" x=\"187\" y=\"-640.3\" font-family=\"Helvetica,sans-Serif\" font-size=\"14.00\">gini = 0.0</text>\n",
              "<text text-anchor=\"middle\" x=\"187\" y=\"-625.3\" font-family=\"Helvetica,sans-Serif\" font-size=\"14.00\">samples = 10</text>\n",
              "<text text-anchor=\"middle\" x=\"187\" y=\"-610.3\" font-family=\"Helvetica,sans-Serif\" font-size=\"14.00\">value = [0, 0, 10]</text>\n",
              "<text text-anchor=\"middle\" x=\"187\" y=\"-595.3\" font-family=\"Helvetica,sans-Serif\" font-size=\"14.00\">class = Label 3</text>\n",
              "</g>\n",
              "<!-- 2&#45;&gt;4 -->\n",
              "<g id=\"edge4\" class=\"edge\">\n",
              "<title>2&#45;&gt;4</title>\n",
              "<path fill=\"none\" stroke=\"black\" d=\"M128.88,-698.91C137.52,-687.54 146.93,-675.18 155.6,-663.77\"/>\n",
              "<polygon fill=\"black\" stroke=\"black\" points=\"158.5,-665.74 161.77,-655.67 152.93,-661.51 158.5,-665.74\"/>\n",
              "</g>\n",
              "<!-- 7 -->\n",
              "<g id=\"node8\" class=\"node\">\n",
              "<title>7</title>\n",
              "<polygon fill=\"none\" stroke=\"black\" points=\"726,-782 348,-782 348,-699 726,-699 726,-782\"/>\n",
              "<text text-anchor=\"middle\" x=\"537\" y=\"-766.8\" font-family=\"Helvetica,sans-Serif\" font-size=\"14.00\">Hasil_Pemeriksaan_gula_darah_puasa__GDP__1 &lt;= 0.011</text>\n",
              "<text text-anchor=\"middle\" x=\"537\" y=\"-751.8\" font-family=\"Helvetica,sans-Serif\" font-size=\"14.00\">gini = 0.5</text>\n",
              "<text text-anchor=\"middle\" x=\"537\" y=\"-736.8\" font-family=\"Helvetica,sans-Serif\" font-size=\"14.00\">samples = 16</text>\n",
              "<text text-anchor=\"middle\" x=\"537\" y=\"-721.8\" font-family=\"Helvetica,sans-Serif\" font-size=\"14.00\">value = [0, 8, 8]</text>\n",
              "<text text-anchor=\"middle\" x=\"537\" y=\"-706.8\" font-family=\"Helvetica,sans-Serif\" font-size=\"14.00\">class = Label 2</text>\n",
              "</g>\n",
              "<!-- 6&#45;&gt;7 -->\n",
              "<g id=\"edge7\" class=\"edge\">\n",
              "<title>6&#45;&gt;7</title>\n",
              "<path fill=\"none\" stroke=\"black\" d=\"M537,-817.91C537,-809.65 537,-800.86 537,-792.3\"/>\n",
              "<polygon fill=\"black\" stroke=\"black\" points=\"540.5,-792.02 537,-782.02 533.5,-792.02 540.5,-792.02\"/>\n",
              "</g>\n",
              "<!-- 28 -->\n",
              "<g id=\"node29\" class=\"node\">\n",
              "<title>28</title>\n",
              "<polygon fill=\"none\" stroke=\"black\" points=\"854,-774.5 744,-774.5 744,-706.5 854,-706.5 854,-774.5\"/>\n",
              "<text text-anchor=\"middle\" x=\"799\" y=\"-759.3\" font-family=\"Helvetica,sans-Serif\" font-size=\"14.00\">gini = 0.0</text>\n",
              "<text text-anchor=\"middle\" x=\"799\" y=\"-744.3\" font-family=\"Helvetica,sans-Serif\" font-size=\"14.00\">samples = 3</text>\n",
              "<text text-anchor=\"middle\" x=\"799\" y=\"-729.3\" font-family=\"Helvetica,sans-Serif\" font-size=\"14.00\">value = [0, 3, 0]</text>\n",
              "<text text-anchor=\"middle\" x=\"799\" y=\"-714.3\" font-family=\"Helvetica,sans-Serif\" font-size=\"14.00\">class = Label 2</text>\n",
              "</g>\n",
              "<!-- 6&#45;&gt;28 -->\n",
              "<g id=\"edge28\" class=\"edge\">\n",
              "<title>6&#45;&gt;28</title>\n",
              "<path fill=\"none\" stroke=\"black\" d=\"M611.36,-833.68C649.14,-820.09 695.34,-801.97 735,-782 736.53,-781.23 738.08,-780.43 739.63,-779.61\"/>\n",
              "<polygon fill=\"black\" stroke=\"black\" points=\"741.46,-782.6 748.52,-774.7 738.07,-776.47 741.46,-782.6\"/>\n",
              "</g>\n",
              "<!-- 8 -->\n",
              "<g id=\"node9\" class=\"node\">\n",
              "<title>8</title>\n",
              "<polygon fill=\"none\" stroke=\"black\" points=\"483,-655.5 373,-655.5 373,-587.5 483,-587.5 483,-655.5\"/>\n",
              "<text text-anchor=\"middle\" x=\"428\" y=\"-640.3\" font-family=\"Helvetica,sans-Serif\" font-size=\"14.00\">gini = 0.0</text>\n",
              "<text text-anchor=\"middle\" x=\"428\" y=\"-625.3\" font-family=\"Helvetica,sans-Serif\" font-size=\"14.00\">samples = 1</text>\n",
              "<text text-anchor=\"middle\" x=\"428\" y=\"-610.3\" font-family=\"Helvetica,sans-Serif\" font-size=\"14.00\">value = [0, 0, 1]</text>\n",
              "<text text-anchor=\"middle\" x=\"428\" y=\"-595.3\" font-family=\"Helvetica,sans-Serif\" font-size=\"14.00\">class = Label 3</text>\n",
              "</g>\n",
              "<!-- 7&#45;&gt;8 -->\n",
              "<g id=\"edge8\" class=\"edge\">\n",
              "<title>7&#45;&gt;8</title>\n",
              "<path fill=\"none\" stroke=\"black\" d=\"M499.18,-698.91C488.39,-687.32 476.63,-674.7 465.83,-663.11\"/>\n",
              "<polygon fill=\"black\" stroke=\"black\" points=\"468.28,-660.6 458.9,-655.67 463.15,-665.37 468.28,-660.6\"/>\n",
              "</g>\n",
              "<!-- 9 -->\n",
              "<g id=\"node10\" class=\"node\">\n",
              "<title>9</title>\n",
              "<polygon fill=\"none\" stroke=\"black\" points=\"879,-663 501,-663 501,-580 879,-580 879,-663\"/>\n",
              "<text text-anchor=\"middle\" x=\"690\" y=\"-647.8\" font-family=\"Helvetica,sans-Serif\" font-size=\"14.00\">Hasil_Pemeriksaan_gula_darah_puasa__GDP__1 &lt;= 0.241</text>\n",
              "<text text-anchor=\"middle\" x=\"690\" y=\"-632.8\" font-family=\"Helvetica,sans-Serif\" font-size=\"14.00\">gini = 0.498</text>\n",
              "<text text-anchor=\"middle\" x=\"690\" y=\"-617.8\" font-family=\"Helvetica,sans-Serif\" font-size=\"14.00\">samples = 15</text>\n",
              "<text text-anchor=\"middle\" x=\"690\" y=\"-602.8\" font-family=\"Helvetica,sans-Serif\" font-size=\"14.00\">value = [0, 8, 7]</text>\n",
              "<text text-anchor=\"middle\" x=\"690\" y=\"-587.8\" font-family=\"Helvetica,sans-Serif\" font-size=\"14.00\">class = Label 2</text>\n",
              "</g>\n",
              "<!-- 7&#45;&gt;9 -->\n",
              "<g id=\"edge9\" class=\"edge\">\n",
              "<title>7&#45;&gt;9</title>\n",
              "<path fill=\"none\" stroke=\"black\" d=\"M590.08,-698.91C602.54,-689.38 615.92,-679.15 628.71,-669.37\"/>\n",
              "<polygon fill=\"black\" stroke=\"black\" points=\"631.19,-671.88 637.01,-663.02 626.94,-666.32 631.19,-671.88\"/>\n",
              "</g>\n",
              "<!-- 10 -->\n",
              "<g id=\"node11\" class=\"node\">\n",
              "<title>10</title>\n",
              "<polygon fill=\"none\" stroke=\"black\" points=\"681,-544 303,-544 303,-461 681,-461 681,-544\"/>\n",
              "<text text-anchor=\"middle\" x=\"492\" y=\"-528.8\" font-family=\"Helvetica,sans-Serif\" font-size=\"14.00\">Hasil_Pemeriksaan_gula_darah_puasa__GDP__1 &lt;= 0.055</text>\n",
              "<text text-anchor=\"middle\" x=\"492\" y=\"-513.8\" font-family=\"Helvetica,sans-Serif\" font-size=\"14.00\">gini = 0.32</text>\n",
              "<text text-anchor=\"middle\" x=\"492\" y=\"-498.8\" font-family=\"Helvetica,sans-Serif\" font-size=\"14.00\">samples = 5</text>\n",
              "<text text-anchor=\"middle\" x=\"492\" y=\"-483.8\" font-family=\"Helvetica,sans-Serif\" font-size=\"14.00\">value = [0, 4, 1]</text>\n",
              "<text text-anchor=\"middle\" x=\"492\" y=\"-468.8\" font-family=\"Helvetica,sans-Serif\" font-size=\"14.00\">class = Label 2</text>\n",
              "</g>\n",
              "<!-- 9&#45;&gt;10 -->\n",
              "<g id=\"edge10\" class=\"edge\">\n",
              "<title>9&#45;&gt;10</title>\n",
              "<path fill=\"none\" stroke=\"black\" d=\"M621.3,-579.91C604.56,-570.02 586.55,-559.37 569.43,-549.25\"/>\n",
              "<polygon fill=\"black\" stroke=\"black\" points=\"570.96,-546.09 560.57,-544.02 567.4,-552.12 570.96,-546.09\"/>\n",
              "</g>\n",
              "<!-- 15 -->\n",
              "<g id=\"node16\" class=\"node\">\n",
              "<title>15</title>\n",
              "<polygon fill=\"none\" stroke=\"black\" points=\"1077,-544 699,-544 699,-461 1077,-461 1077,-544\"/>\n",
              "<text text-anchor=\"middle\" x=\"888\" y=\"-528.8\" font-family=\"Helvetica,sans-Serif\" font-size=\"14.00\">Hasil_Pemeriksaan_gula_darah_puasa__GDP__1 &lt;= 0.464</text>\n",
              "<text text-anchor=\"middle\" x=\"888\" y=\"-513.8\" font-family=\"Helvetica,sans-Serif\" font-size=\"14.00\">gini = 0.48</text>\n",
              "<text text-anchor=\"middle\" x=\"888\" y=\"-498.8\" font-family=\"Helvetica,sans-Serif\" font-size=\"14.00\">samples = 10</text>\n",
              "<text text-anchor=\"middle\" x=\"888\" y=\"-483.8\" font-family=\"Helvetica,sans-Serif\" font-size=\"14.00\">value = [0, 4, 6]</text>\n",
              "<text text-anchor=\"middle\" x=\"888\" y=\"-468.8\" font-family=\"Helvetica,sans-Serif\" font-size=\"14.00\">class = Label 3</text>\n",
              "</g>\n",
              "<!-- 9&#45;&gt;15 -->\n",
              "<g id=\"edge15\" class=\"edge\">\n",
              "<title>9&#45;&gt;15</title>\n",
              "<path fill=\"none\" stroke=\"black\" d=\"M758.7,-579.91C775.44,-570.02 793.45,-559.37 810.57,-549.25\"/>\n",
              "<polygon fill=\"black\" stroke=\"black\" points=\"812.6,-552.12 819.43,-544.02 809.04,-546.09 812.6,-552.12\"/>\n",
              "</g>\n",
              "<!-- 11 -->\n",
              "<g id=\"node12\" class=\"node\">\n",
              "<title>11</title>\n",
              "<polygon fill=\"none\" stroke=\"black\" points=\"285,-417.5 175,-417.5 175,-349.5 285,-349.5 285,-417.5\"/>\n",
              "<text text-anchor=\"middle\" x=\"230\" y=\"-402.3\" font-family=\"Helvetica,sans-Serif\" font-size=\"14.00\">gini = 0.0</text>\n",
              "<text text-anchor=\"middle\" x=\"230\" y=\"-387.3\" font-family=\"Helvetica,sans-Serif\" font-size=\"14.00\">samples = 2</text>\n",
              "<text text-anchor=\"middle\" x=\"230\" y=\"-372.3\" font-family=\"Helvetica,sans-Serif\" font-size=\"14.00\">value = [0, 2, 0]</text>\n",
              "<text text-anchor=\"middle\" x=\"230\" y=\"-357.3\" font-family=\"Helvetica,sans-Serif\" font-size=\"14.00\">class = Label 2</text>\n",
              "</g>\n",
              "<!-- 10&#45;&gt;11 -->\n",
              "<g id=\"edge11\" class=\"edge\">\n",
              "<title>10&#45;&gt;11</title>\n",
              "<path fill=\"none\" stroke=\"black\" d=\"M375.7,-460.93C348.45,-450.23 319.84,-438.01 294,-425 292.47,-424.23 290.92,-423.43 289.37,-422.61\"/>\n",
              "<polygon fill=\"black\" stroke=\"black\" points=\"290.93,-419.47 280.48,-417.7 287.54,-425.6 290.93,-419.47\"/>\n",
              "</g>\n",
              "<!-- 12 -->\n",
              "<g id=\"node13\" class=\"node\">\n",
              "<title>12</title>\n",
              "<polygon fill=\"none\" stroke=\"black\" points=\"681,-425 303,-425 303,-342 681,-342 681,-425\"/>\n",
              "<text text-anchor=\"middle\" x=\"492\" y=\"-409.8\" font-family=\"Helvetica,sans-Serif\" font-size=\"14.00\">Hasil_Pemeriksaan_gula_darah_puasa__GDP__1 &lt;= 0.073</text>\n",
              "<text text-anchor=\"middle\" x=\"492\" y=\"-394.8\" font-family=\"Helvetica,sans-Serif\" font-size=\"14.00\">gini = 0.444</text>\n",
              "<text text-anchor=\"middle\" x=\"492\" y=\"-379.8\" font-family=\"Helvetica,sans-Serif\" font-size=\"14.00\">samples = 3</text>\n",
              "<text text-anchor=\"middle\" x=\"492\" y=\"-364.8\" font-family=\"Helvetica,sans-Serif\" font-size=\"14.00\">value = [0, 2, 1]</text>\n",
              "<text text-anchor=\"middle\" x=\"492\" y=\"-349.8\" font-family=\"Helvetica,sans-Serif\" font-size=\"14.00\">class = Label 2</text>\n",
              "</g>\n",
              "<!-- 10&#45;&gt;12 -->\n",
              "<g id=\"edge12\" class=\"edge\">\n",
              "<title>10&#45;&gt;12</title>\n",
              "<path fill=\"none\" stroke=\"black\" d=\"M492,-460.91C492,-452.65 492,-443.86 492,-435.3\"/>\n",
              "<polygon fill=\"black\" stroke=\"black\" points=\"495.5,-435.02 492,-425.02 488.5,-435.02 495.5,-435.02\"/>\n",
              "</g>\n",
              "<!-- 13 -->\n",
              "<g id=\"node14\" class=\"node\">\n",
              "<title>13</title>\n",
              "<polygon fill=\"none\" stroke=\"black\" points=\"422,-298.5 312,-298.5 312,-230.5 422,-230.5 422,-298.5\"/>\n",
              "<text text-anchor=\"middle\" x=\"367\" y=\"-283.3\" font-family=\"Helvetica,sans-Serif\" font-size=\"14.00\">gini = 0.0</text>\n",
              "<text text-anchor=\"middle\" x=\"367\" y=\"-268.3\" font-family=\"Helvetica,sans-Serif\" font-size=\"14.00\">samples = 1</text>\n",
              "<text text-anchor=\"middle\" x=\"367\" y=\"-253.3\" font-family=\"Helvetica,sans-Serif\" font-size=\"14.00\">value = [0, 0, 1]</text>\n",
              "<text text-anchor=\"middle\" x=\"367\" y=\"-238.3\" font-family=\"Helvetica,sans-Serif\" font-size=\"14.00\">class = Label 3</text>\n",
              "</g>\n",
              "<!-- 12&#45;&gt;13 -->\n",
              "<g id=\"edge13\" class=\"edge\">\n",
              "<title>12&#45;&gt;13</title>\n",
              "<path fill=\"none\" stroke=\"black\" d=\"M448.63,-341.91C436.14,-330.21 422.51,-317.46 410.03,-305.78\"/>\n",
              "<polygon fill=\"black\" stroke=\"black\" points=\"412.13,-302.95 402.43,-298.67 407.34,-308.06 412.13,-302.95\"/>\n",
              "</g>\n",
              "<!-- 14 -->\n",
              "<g id=\"node15\" class=\"node\">\n",
              "<title>14</title>\n",
              "<polygon fill=\"none\" stroke=\"black\" points=\"550,-298.5 440,-298.5 440,-230.5 550,-230.5 550,-298.5\"/>\n",
              "<text text-anchor=\"middle\" x=\"495\" y=\"-283.3\" font-family=\"Helvetica,sans-Serif\" font-size=\"14.00\">gini = 0.0</text>\n",
              "<text text-anchor=\"middle\" x=\"495\" y=\"-268.3\" font-family=\"Helvetica,sans-Serif\" font-size=\"14.00\">samples = 2</text>\n",
              "<text text-anchor=\"middle\" x=\"495\" y=\"-253.3\" font-family=\"Helvetica,sans-Serif\" font-size=\"14.00\">value = [0, 2, 0]</text>\n",
              "<text text-anchor=\"middle\" x=\"495\" y=\"-238.3\" font-family=\"Helvetica,sans-Serif\" font-size=\"14.00\">class = Label 2</text>\n",
              "</g>\n",
              "<!-- 12&#45;&gt;14 -->\n",
              "<g id=\"edge14\" class=\"edge\">\n",
              "<title>12&#45;&gt;14</title>\n",
              "<path fill=\"none\" stroke=\"black\" d=\"M493.04,-341.91C493.32,-331.2 493.61,-319.62 493.89,-308.78\"/>\n",
              "<polygon fill=\"black\" stroke=\"black\" points=\"497.39,-308.75 494.15,-298.67 490.39,-308.57 497.39,-308.75\"/>\n",
              "</g>\n",
              "<!-- 16 -->\n",
              "<g id=\"node17\" class=\"node\">\n",
              "<title>16</title>\n",
              "<polygon fill=\"none\" stroke=\"black\" points=\"1077,-425 699,-425 699,-342 1077,-342 1077,-425\"/>\n",
              "<text text-anchor=\"middle\" x=\"888\" y=\"-409.8\" font-family=\"Helvetica,sans-Serif\" font-size=\"14.00\">Hasil_Pemeriksaan_gula_darah_puasa__GDP__1 &lt;= 0.351</text>\n",
              "<text text-anchor=\"middle\" x=\"888\" y=\"-394.8\" font-family=\"Helvetica,sans-Serif\" font-size=\"14.00\">gini = 0.32</text>\n",
              "<text text-anchor=\"middle\" x=\"888\" y=\"-379.8\" font-family=\"Helvetica,sans-Serif\" font-size=\"14.00\">samples = 5</text>\n",
              "<text text-anchor=\"middle\" x=\"888\" y=\"-364.8\" font-family=\"Helvetica,sans-Serif\" font-size=\"14.00\">value = [0, 1, 4]</text>\n",
              "<text text-anchor=\"middle\" x=\"888\" y=\"-349.8\" font-family=\"Helvetica,sans-Serif\" font-size=\"14.00\">class = Label 3</text>\n",
              "</g>\n",
              "<!-- 15&#45;&gt;16 -->\n",
              "<g id=\"edge16\" class=\"edge\">\n",
              "<title>15&#45;&gt;16</title>\n",
              "<path fill=\"none\" stroke=\"black\" d=\"M888,-460.91C888,-452.65 888,-443.86 888,-435.3\"/>\n",
              "<polygon fill=\"black\" stroke=\"black\" points=\"891.5,-435.02 888,-425.02 884.5,-435.02 891.5,-435.02\"/>\n",
              "</g>\n",
              "<!-- 21 -->\n",
              "<g id=\"node22\" class=\"node\">\n",
              "<title>21</title>\n",
              "<polygon fill=\"none\" stroke=\"black\" points=\"1473,-425 1095,-425 1095,-342 1473,-342 1473,-425\"/>\n",
              "<text text-anchor=\"middle\" x=\"1284\" y=\"-409.8\" font-family=\"Helvetica,sans-Serif\" font-size=\"14.00\">Hasil_Pemeriksaan_gula_darah_puasa__GDP__1 &lt;= 0.536</text>\n",
              "<text text-anchor=\"middle\" x=\"1284\" y=\"-394.8\" font-family=\"Helvetica,sans-Serif\" font-size=\"14.00\">gini = 0.48</text>\n",
              "<text text-anchor=\"middle\" x=\"1284\" y=\"-379.8\" font-family=\"Helvetica,sans-Serif\" font-size=\"14.00\">samples = 5</text>\n",
              "<text text-anchor=\"middle\" x=\"1284\" y=\"-364.8\" font-family=\"Helvetica,sans-Serif\" font-size=\"14.00\">value = [0, 3, 2]</text>\n",
              "<text text-anchor=\"middle\" x=\"1284\" y=\"-349.8\" font-family=\"Helvetica,sans-Serif\" font-size=\"14.00\">class = Label 2</text>\n",
              "</g>\n",
              "<!-- 15&#45;&gt;21 -->\n",
              "<g id=\"edge21\" class=\"edge\">\n",
              "<title>15&#45;&gt;21</title>\n",
              "<path fill=\"none\" stroke=\"black\" d=\"M1025.11,-460.99C1061.22,-450.32 1100.31,-438.77 1136.92,-427.96\"/>\n",
              "<polygon fill=\"black\" stroke=\"black\" points=\"1138.07,-431.26 1146.67,-425.07 1136.09,-424.55 1138.07,-431.26\"/>\n",
              "</g>\n",
              "<!-- 17 -->\n",
              "<g id=\"node18\" class=\"node\">\n",
              "<title>17</title>\n",
              "<polygon fill=\"none\" stroke=\"black\" points=\"714,-298.5 604,-298.5 604,-230.5 714,-230.5 714,-298.5\"/>\n",
              "<text text-anchor=\"middle\" x=\"659\" y=\"-283.3\" font-family=\"Helvetica,sans-Serif\" font-size=\"14.00\">gini = 0.0</text>\n",
              "<text text-anchor=\"middle\" x=\"659\" y=\"-268.3\" font-family=\"Helvetica,sans-Serif\" font-size=\"14.00\">samples = 2</text>\n",
              "<text text-anchor=\"middle\" x=\"659\" y=\"-253.3\" font-family=\"Helvetica,sans-Serif\" font-size=\"14.00\">value = [0, 0, 2]</text>\n",
              "<text text-anchor=\"middle\" x=\"659\" y=\"-238.3\" font-family=\"Helvetica,sans-Serif\" font-size=\"14.00\">class = Label 3</text>\n",
              "</g>\n",
              "<!-- 16&#45;&gt;17 -->\n",
              "<g id=\"edge17\" class=\"edge\">\n",
              "<title>16&#45;&gt;17</title>\n",
              "<path fill=\"none\" stroke=\"black\" d=\"M794.88,-341.9C771.14,-330.85 745.87,-318.47 723,-306 721.67,-305.27 720.32,-304.53 718.97,-303.77\"/>\n",
              "<polygon fill=\"black\" stroke=\"black\" points=\"720.41,-300.56 710,-298.59 716.91,-306.62 720.41,-300.56\"/>\n",
              "</g>\n",
              "<!-- 18 -->\n",
              "<g id=\"node19\" class=\"node\">\n",
              "<title>18</title>\n",
              "<polygon fill=\"none\" stroke=\"black\" points=\"1110,-306 732,-306 732,-223 1110,-223 1110,-306\"/>\n",
              "<text text-anchor=\"middle\" x=\"921\" y=\"-290.8\" font-family=\"Helvetica,sans-Serif\" font-size=\"14.00\">Hasil_Pemeriksaan_gula_darah_puasa__GDP__1 &lt;= 0.418</text>\n",
              "<text text-anchor=\"middle\" x=\"921\" y=\"-275.8\" font-family=\"Helvetica,sans-Serif\" font-size=\"14.00\">gini = 0.444</text>\n",
              "<text text-anchor=\"middle\" x=\"921\" y=\"-260.8\" font-family=\"Helvetica,sans-Serif\" font-size=\"14.00\">samples = 3</text>\n",
              "<text text-anchor=\"middle\" x=\"921\" y=\"-245.8\" font-family=\"Helvetica,sans-Serif\" font-size=\"14.00\">value = [0, 1, 2]</text>\n",
              "<text text-anchor=\"middle\" x=\"921\" y=\"-230.8\" font-family=\"Helvetica,sans-Serif\" font-size=\"14.00\">class = Label 3</text>\n",
              "</g>\n",
              "<!-- 16&#45;&gt;18 -->\n",
              "<g id=\"edge18\" class=\"edge\">\n",
              "<title>16&#45;&gt;18</title>\n",
              "<path fill=\"none\" stroke=\"black\" d=\"M899.45,-341.91C901.83,-333.47 904.37,-324.48 906.83,-315.74\"/>\n",
              "<polygon fill=\"black\" stroke=\"black\" points=\"910.22,-316.6 909.57,-306.02 903.49,-314.7 910.22,-316.6\"/>\n",
              "</g>\n",
              "<!-- 19 -->\n",
              "<g id=\"node20\" class=\"node\">\n",
              "<title>19</title>\n",
              "<polygon fill=\"none\" stroke=\"black\" points=\"912,-179.5 802,-179.5 802,-111.5 912,-111.5 912,-179.5\"/>\n",
              "<text text-anchor=\"middle\" x=\"857\" y=\"-164.3\" font-family=\"Helvetica,sans-Serif\" font-size=\"14.00\">gini = 0.0</text>\n",
              "<text text-anchor=\"middle\" x=\"857\" y=\"-149.3\" font-family=\"Helvetica,sans-Serif\" font-size=\"14.00\">samples = 1</text>\n",
              "<text text-anchor=\"middle\" x=\"857\" y=\"-134.3\" font-family=\"Helvetica,sans-Serif\" font-size=\"14.00\">value = [0, 1, 0]</text>\n",
              "<text text-anchor=\"middle\" x=\"857\" y=\"-119.3\" font-family=\"Helvetica,sans-Serif\" font-size=\"14.00\">class = Label 2</text>\n",
              "</g>\n",
              "<!-- 18&#45;&gt;19 -->\n",
              "<g id=\"edge19\" class=\"edge\">\n",
              "<title>18&#45;&gt;19</title>\n",
              "<path fill=\"none\" stroke=\"black\" d=\"M898.8,-222.91C892.76,-211.87 886.21,-199.9 880.12,-188.77\"/>\n",
              "<polygon fill=\"black\" stroke=\"black\" points=\"883.01,-186.76 875.14,-179.67 876.87,-190.12 883.01,-186.76\"/>\n",
              "</g>\n",
              "<!-- 20 -->\n",
              "<g id=\"node21\" class=\"node\">\n",
              "<title>20</title>\n",
              "<polygon fill=\"none\" stroke=\"black\" points=\"1040,-179.5 930,-179.5 930,-111.5 1040,-111.5 1040,-179.5\"/>\n",
              "<text text-anchor=\"middle\" x=\"985\" y=\"-164.3\" font-family=\"Helvetica,sans-Serif\" font-size=\"14.00\">gini = 0.0</text>\n",
              "<text text-anchor=\"middle\" x=\"985\" y=\"-149.3\" font-family=\"Helvetica,sans-Serif\" font-size=\"14.00\">samples = 2</text>\n",
              "<text text-anchor=\"middle\" x=\"985\" y=\"-134.3\" font-family=\"Helvetica,sans-Serif\" font-size=\"14.00\">value = [0, 0, 2]</text>\n",
              "<text text-anchor=\"middle\" x=\"985\" y=\"-119.3\" font-family=\"Helvetica,sans-Serif\" font-size=\"14.00\">class = Label 3</text>\n",
              "</g>\n",
              "<!-- 18&#45;&gt;20 -->\n",
              "<g id=\"edge20\" class=\"edge\">\n",
              "<title>18&#45;&gt;20</title>\n",
              "<path fill=\"none\" stroke=\"black\" d=\"M943.2,-222.91C949.24,-211.87 955.79,-199.9 961.88,-188.77\"/>\n",
              "<polygon fill=\"black\" stroke=\"black\" points=\"965.13,-190.12 966.86,-179.67 958.99,-186.76 965.13,-190.12\"/>\n",
              "</g>\n",
              "<!-- 22 -->\n",
              "<g id=\"node23\" class=\"node\">\n",
              "<title>22</title>\n",
              "<polygon fill=\"none\" stroke=\"black\" points=\"1305,-298.5 1195,-298.5 1195,-230.5 1305,-230.5 1305,-298.5\"/>\n",
              "<text text-anchor=\"middle\" x=\"1250\" y=\"-283.3\" font-family=\"Helvetica,sans-Serif\" font-size=\"14.00\">gini = 0.0</text>\n",
              "<text text-anchor=\"middle\" x=\"1250\" y=\"-268.3\" font-family=\"Helvetica,sans-Serif\" font-size=\"14.00\">samples = 2</text>\n",
              "<text text-anchor=\"middle\" x=\"1250\" y=\"-253.3\" font-family=\"Helvetica,sans-Serif\" font-size=\"14.00\">value = [0, 2, 0]</text>\n",
              "<text text-anchor=\"middle\" x=\"1250\" y=\"-238.3\" font-family=\"Helvetica,sans-Serif\" font-size=\"14.00\">class = Label 2</text>\n",
              "</g>\n",
              "<!-- 21&#45;&gt;22 -->\n",
              "<g id=\"edge22\" class=\"edge\">\n",
              "<title>21&#45;&gt;22</title>\n",
              "<path fill=\"none\" stroke=\"black\" d=\"M1272.2,-341.91C1269.06,-331.09 1265.66,-319.38 1262.48,-308.44\"/>\n",
              "<polygon fill=\"black\" stroke=\"black\" points=\"1265.79,-307.29 1259.64,-298.67 1259.07,-309.25 1265.79,-307.29\"/>\n",
              "</g>\n",
              "<!-- 23 -->\n",
              "<g id=\"node24\" class=\"node\">\n",
              "<title>23</title>\n",
              "<polygon fill=\"none\" stroke=\"black\" points=\"1701,-306 1323,-306 1323,-223 1701,-223 1701,-306\"/>\n",
              "<text text-anchor=\"middle\" x=\"1512\" y=\"-290.8\" font-family=\"Helvetica,sans-Serif\" font-size=\"14.00\">Hasil_Pemeriksaan_gula_darah_puasa__GDP__1 &lt;= 0.556</text>\n",
              "<text text-anchor=\"middle\" x=\"1512\" y=\"-275.8\" font-family=\"Helvetica,sans-Serif\" font-size=\"14.00\">gini = 0.444</text>\n",
              "<text text-anchor=\"middle\" x=\"1512\" y=\"-260.8\" font-family=\"Helvetica,sans-Serif\" font-size=\"14.00\">samples = 3</text>\n",
              "<text text-anchor=\"middle\" x=\"1512\" y=\"-245.8\" font-family=\"Helvetica,sans-Serif\" font-size=\"14.00\">value = [0, 1, 2]</text>\n",
              "<text text-anchor=\"middle\" x=\"1512\" y=\"-230.8\" font-family=\"Helvetica,sans-Serif\" font-size=\"14.00\">class = Label 3</text>\n",
              "</g>\n",
              "<!-- 21&#45;&gt;23 -->\n",
              "<g id=\"edge23\" class=\"edge\">\n",
              "<title>21&#45;&gt;23</title>\n",
              "<path fill=\"none\" stroke=\"black\" d=\"M1363.1,-341.91C1382.73,-331.83 1403.89,-320.98 1423.92,-310.7\"/>\n",
              "<polygon fill=\"black\" stroke=\"black\" points=\"1425.74,-313.7 1433.04,-306.02 1422.54,-307.47 1425.74,-313.7\"/>\n",
              "</g>\n",
              "<!-- 24 -->\n",
              "<g id=\"node25\" class=\"node\">\n",
              "<title>24</title>\n",
              "<polygon fill=\"none\" stroke=\"black\" points=\"1437,-179.5 1327,-179.5 1327,-111.5 1437,-111.5 1437,-179.5\"/>\n",
              "<text text-anchor=\"middle\" x=\"1382\" y=\"-164.3\" font-family=\"Helvetica,sans-Serif\" font-size=\"14.00\">gini = 0.0</text>\n",
              "<text text-anchor=\"middle\" x=\"1382\" y=\"-149.3\" font-family=\"Helvetica,sans-Serif\" font-size=\"14.00\">samples = 1</text>\n",
              "<text text-anchor=\"middle\" x=\"1382\" y=\"-134.3\" font-family=\"Helvetica,sans-Serif\" font-size=\"14.00\">value = [0, 0, 1]</text>\n",
              "<text text-anchor=\"middle\" x=\"1382\" y=\"-119.3\" font-family=\"Helvetica,sans-Serif\" font-size=\"14.00\">class = Label 3</text>\n",
              "</g>\n",
              "<!-- 23&#45;&gt;24 -->\n",
              "<g id=\"edge24\" class=\"edge\">\n",
              "<title>23&#45;&gt;24</title>\n",
              "<path fill=\"none\" stroke=\"black\" d=\"M1466.9,-222.91C1453.78,-211.1 1439.46,-198.22 1426.39,-186.45\"/>\n",
              "<polygon fill=\"black\" stroke=\"black\" points=\"1428.63,-183.76 1418.85,-179.67 1423.94,-188.96 1428.63,-183.76\"/>\n",
              "</g>\n",
              "<!-- 25 -->\n",
              "<g id=\"node26\" class=\"node\">\n",
              "<title>25</title>\n",
              "<polygon fill=\"none\" stroke=\"black\" points=\"1826.5,-187 1455.5,-187 1455.5,-104 1826.5,-104 1826.5,-187\"/>\n",
              "<text text-anchor=\"middle\" x=\"1641\" y=\"-171.8\" font-family=\"Helvetica,sans-Serif\" font-size=\"14.00\">Hasil_Pemeriksaan_gula_darah_puasa__GDP__1 &lt;= 0.63</text>\n",
              "<text text-anchor=\"middle\" x=\"1641\" y=\"-156.8\" font-family=\"Helvetica,sans-Serif\" font-size=\"14.00\">gini = 0.5</text>\n",
              "<text text-anchor=\"middle\" x=\"1641\" y=\"-141.8\" font-family=\"Helvetica,sans-Serif\" font-size=\"14.00\">samples = 2</text>\n",
              "<text text-anchor=\"middle\" x=\"1641\" y=\"-126.8\" font-family=\"Helvetica,sans-Serif\" font-size=\"14.00\">value = [0, 1, 1]</text>\n",
              "<text text-anchor=\"middle\" x=\"1641\" y=\"-111.8\" font-family=\"Helvetica,sans-Serif\" font-size=\"14.00\">class = Label 2</text>\n",
              "</g>\n",
              "<!-- 23&#45;&gt;25 -->\n",
              "<g id=\"edge25\" class=\"edge\">\n",
              "<title>23&#45;&gt;25</title>\n",
              "<path fill=\"none\" stroke=\"black\" d=\"M1556.76,-222.91C1567.06,-213.56 1578.11,-203.54 1588.71,-193.93\"/>\n",
              "<polygon fill=\"black\" stroke=\"black\" points=\"1591.27,-196.33 1596.32,-187.02 1586.56,-191.15 1591.27,-196.33\"/>\n",
              "</g>\n",
              "<!-- 26 -->\n",
              "<g id=\"node27\" class=\"node\">\n",
              "<title>26</title>\n",
              "<polygon fill=\"none\" stroke=\"black\" points=\"1632,-68 1522,-68 1522,0 1632,0 1632,-68\"/>\n",
              "<text text-anchor=\"middle\" x=\"1577\" y=\"-52.8\" font-family=\"Helvetica,sans-Serif\" font-size=\"14.00\">gini = 0.0</text>\n",
              "<text text-anchor=\"middle\" x=\"1577\" y=\"-37.8\" font-family=\"Helvetica,sans-Serif\" font-size=\"14.00\">samples = 1</text>\n",
              "<text text-anchor=\"middle\" x=\"1577\" y=\"-22.8\" font-family=\"Helvetica,sans-Serif\" font-size=\"14.00\">value = [0, 1, 0]</text>\n",
              "<text text-anchor=\"middle\" x=\"1577\" y=\"-7.8\" font-family=\"Helvetica,sans-Serif\" font-size=\"14.00\">class = Label 2</text>\n",
              "</g>\n",
              "<!-- 25&#45;&gt;26 -->\n",
              "<g id=\"edge26\" class=\"edge\">\n",
              "<title>25&#45;&gt;26</title>\n",
              "<path fill=\"none\" stroke=\"black\" d=\"M1617.17,-103.73C1612.1,-95.06 1606.75,-85.9 1601.65,-77.18\"/>\n",
              "<polygon fill=\"black\" stroke=\"black\" points=\"1604.53,-75.17 1596.46,-68.3 1598.49,-78.7 1604.53,-75.17\"/>\n",
              "</g>\n",
              "<!-- 27 -->\n",
              "<g id=\"node28\" class=\"node\">\n",
              "<title>27</title>\n",
              "<polygon fill=\"none\" stroke=\"black\" points=\"1760,-68 1650,-68 1650,0 1760,0 1760,-68\"/>\n",
              "<text text-anchor=\"middle\" x=\"1705\" y=\"-52.8\" font-family=\"Helvetica,sans-Serif\" font-size=\"14.00\">gini = 0.0</text>\n",
              "<text text-anchor=\"middle\" x=\"1705\" y=\"-37.8\" font-family=\"Helvetica,sans-Serif\" font-size=\"14.00\">samples = 1</text>\n",
              "<text text-anchor=\"middle\" x=\"1705\" y=\"-22.8\" font-family=\"Helvetica,sans-Serif\" font-size=\"14.00\">value = [0, 0, 1]</text>\n",
              "<text text-anchor=\"middle\" x=\"1705\" y=\"-7.8\" font-family=\"Helvetica,sans-Serif\" font-size=\"14.00\">class = Label 3</text>\n",
              "</g>\n",
              "<!-- 25&#45;&gt;27 -->\n",
              "<g id=\"edge27\" class=\"edge\">\n",
              "<title>25&#45;&gt;27</title>\n",
              "<path fill=\"none\" stroke=\"black\" d=\"M1664.83,-103.73C1669.9,-95.06 1675.25,-85.9 1680.35,-77.18\"/>\n",
              "<polygon fill=\"black\" stroke=\"black\" points=\"1683.51,-78.7 1685.54,-68.3 1677.47,-75.17 1683.51,-78.7\"/>\n",
              "</g>\n",
              "</g>\n",
              "</svg>\n"
            ],
            "text/plain": [
              "<graphviz.sources.Source at 0x7fc8b598db70>"
            ]
          },
          "execution_count": 42,
          "metadata": {},
          "output_type": "execute_result"
        }
      ],
      "source": [
        "import graphviz\n",
        "# DOT data\n",
        "dot_data = tree.export_graphviz(dtc, out_file=None,\n",
        "                                feature_names=X_train.columns,\n",
        "                                class_names=['Label 1', 'Label 2', 'Label 3'],\n",
        "                                #filled=True\n",
        "                                )\n",
        "\n",
        "# Draw graph\n",
        "graph = graphviz.Source(dot_data, format=\"png\")\n",
        "graph.render(\"decision_tree_graphivz\")\n",
        "graph"
      ]
    },
    {
      "cell_type": "markdown",
      "metadata": {
        "id": "q2Y-fDQWTo5x"
      },
      "source": [
        "Dari hasil penggunaan algoritma menggunakan Decision Tree menunjukan 85% akurasinya, sehingga menunjukkan bahwa model Decision Tree yang dibangun relatif baik dalam memprediksi data."
      ]
    },
    {
      "cell_type": "markdown",
      "metadata": {
        "id": "YnYfmpFBTwA-"
      },
      "source": [
        "# MODELING RANDOM FOREST"
      ]
    },
    {
      "cell_type": "code",
      "execution_count": null,
      "metadata": {
        "colab": {
          "base_uri": "https://localhost:8080/"
        },
        "id": "ine_LR3bTlbZ",
        "outputId": "82ea298d-c002-4a72-f11c-81364ba5bcd6"
      },
      "outputs": [
        {
          "name": "stdout",
          "output_type": "stream",
          "text": [
            "Akurasi: 95.31%\n",
            "Presisi: 68.10%\n",
            "Recall: 69.80%\n",
            "Skor F1: 68.91%\n"
          ]
        }
      ],
      "source": [
        "# Random Forest Classifier\n",
        "from sklearn.ensemble import RandomForestClassifier\n",
        "from sklearn.metrics import accuracy_score, precision_score, recall_score, f1_score\n",
        "\n",
        "# Melatih Random Forest Classifier\n",
        "random_forest = RandomForestClassifier()\n",
        "random_forest.fit(X_train, y_train)\n",
        "\n",
        "# Melakukan prediksi pada data pengujian\n",
        "y_pred = random_forest.predict(X_test)\n",
        "\n",
        "'''\n",
        "# Evaluasi model\n",
        "accuracy = accuracy_score(y_test, y_pred) * 100\n",
        "precision = precision_score(y_test, y_pred) * 100\n",
        "recall = recall_score(y_test, y_pred) * 100\n",
        "f1 = f1_score(y_test, y_pred) * 100\n",
        "'''\n",
        "# Evaluasi model\n",
        "accuracy = accuracy_score(y_test, y_pred) * 100\n",
        "precision = precision_score(y_test, y_pred, average='macro') * 100\n",
        "recall = recall_score(y_test, y_pred, average='macro') * 100\n",
        "f1 = f1_score(y_test, y_pred, average='macro') * 100\n",
        "\n",
        "# Menampilkan hasil evaluasi dengan persentase\n",
        "print(\"Akurasi: {:.2f}%\".format(accuracy))\n",
        "print(\"Presisi: {:.2f}%\".format(precision))\n",
        "print(\"Recall: {:.2f}%\".format(recall))\n",
        "print(\"Skor F1: {:.2f}%\".format(f1))"
      ]
    },
    {
      "cell_type": "markdown",
      "metadata": {
        "id": "E3R80dKZT4QT"
      },
      "source": [
        "Dari hasil penggunaan algoritma menggunakan Random Forest menunjukan 86% akurasinya, sehingga menunjukkan bahwa model Random Forest yang dibangun relatif baik dalam memprediksi data."
      ]
    },
    {
      "cell_type": "markdown",
      "metadata": {
        "id": "e9-3Jg56UFIG"
      },
      "source": [
        "# MODELING LOGISTIK REGRESSION"
      ]
    },
    {
      "cell_type": "code",
      "execution_count": null,
      "metadata": {
        "colab": {
          "base_uri": "https://localhost:8080/"
        },
        "id": "p7YUUfWtT3mY",
        "outputId": "1028d67b-417d-48ee-cfdb-33f3ee729d8a"
      },
      "outputs": [
        {
          "name": "stdout",
          "output_type": "stream",
          "text": [
            "Akurasi: 89.84%\n",
            "Presisi: 22.46%\n",
            "Recall: 25.00%\n",
            "Skor F1: 23.66%\n"
          ]
        }
      ],
      "source": [
        "from sklearn.linear_model import LogisticRegression\n",
        "from sklearn.metrics import accuracy_score, precision_score, recall_score, f1_score\n",
        "\n",
        "# Membuat objek model Logistic Regression\n",
        "logreg = LogisticRegression()\n",
        "\n",
        "# Melatih model dengan data pelatihan\n",
        "logreg.fit(X_train, y_train)\n",
        "\n",
        "# Melakukan prediksi pada data pengujian\n",
        "y_pred = logreg.predict(X_test)\n",
        "\n",
        "'''\n",
        "# Evaluasi model\n",
        "accuracy = accuracy_score(y_test, y_pred) * 100\n",
        "precision = precision_score(y_test, y_pred) * 100\n",
        "recall = recall_score(y_test, y_pred) * 100\n",
        "f1 = f1_score(y_test, y_pred) * 100\n",
        "'''\n",
        "# Evaluasi model\n",
        "accuracy = accuracy_score(y_test, y_pred) * 100\n",
        "precision = precision_score(y_test, y_pred, average='macro') * 100\n",
        "recall = recall_score(y_test, y_pred, average='macro') * 100\n",
        "f1 = f1_score(y_test, y_pred, average='macro') * 100\n",
        "\n",
        "# Menampilkan hasil evaluasi dengan persentase\n",
        "print(\"Akurasi: {:.2f}%\".format(accuracy))\n",
        "print(\"Presisi: {:.2f}%\".format(precision))\n",
        "print(\"Recall: {:.2f}%\".format(recall))\n",
        "print(\"Skor F1: {:.2f}%\".format(f1))"
      ]
    },
    {
      "cell_type": "markdown",
      "metadata": {
        "id": "uEmUf6TxULom"
      },
      "source": [
        "Dari hasil penggunaan algoritma menggunakan Logistik Regression menunjukan 88% akurasinya, sehingga menunjukkan bahwa model Logistik Regression yang dibangun relatif baik dalam memprediksi data."
      ]
    },
    {
      "cell_type": "markdown",
      "metadata": {
        "id": "9dhuw_rbUUW6"
      },
      "source": [
        "# MODELING KNN"
      ]
    },
    {
      "cell_type": "code",
      "execution_count": null,
      "metadata": {
        "colab": {
          "base_uri": "https://localhost:8080/"
        },
        "id": "0WQSY1M1UVQW",
        "outputId": "c31b1944-1195-4a3e-e1b0-f118eefe3269"
      },
      "outputs": [
        {
          "name": "stdout",
          "output_type": "stream",
          "text": [
            "Accuracy: 0.949\n"
          ]
        }
      ],
      "source": [
        "#MENCARI ACURACY DARI TRAINING DATA\n",
        "from sklearn.neighbors import KNeighborsClassifier\n",
        "from sklearn.model_selection import cross_val_score, KFold\n",
        "knn = KNeighborsClassifier(n_neighbors= 3)\n",
        "knn.fit(X_train, y_train)\n",
        "k = KFold(n_splits = 5)\n",
        "score = cross_val_score(knn, X_train, y_train, scoring = 'accuracy', cv = k).mean()\n",
        "print(\"Accuracy:\", round(score, 3))"
      ]
    },
    {
      "cell_type": "code",
      "execution_count": null,
      "metadata": {
        "colab": {
          "base_uri": "https://localhost:8080/"
        },
        "id": "ZDZT7xv3UQFz",
        "outputId": "a73fd13f-85cd-426d-aca8-13796cf4d884"
      },
      "outputs": [
        {
          "name": "stdout",
          "output_type": "stream",
          "text": [
            "Akurasi: 94.53%\n",
            "Presisi: 67.32%\n",
            "Recall: 67.53%\n",
            "Skor F1: 67.42%\n"
          ]
        }
      ],
      "source": [
        "#MENCARI ACCURACY DARI TESTING DATA\n",
        "from sklearn.metrics import accuracy_score, classification_report, roc_auc_score\n",
        "y_pred = knn.predict(X_test)\n",
        "\n",
        "# Evaluasi model\n",
        "accuracy = accuracy_score(y_test, y_pred) * 100\n",
        "precision = precision_score(y_test, y_pred, average='macro') * 100\n",
        "recall = recall_score(y_test, y_pred, average='macro') * 100\n",
        "f1 = f1_score(y_test, y_pred, average='macro') * 100\n",
        "\n",
        "# Menampilkan hasil evaluasi dengan persentase\n",
        "print(\"Akurasi: {:.2f}%\".format(accuracy))\n",
        "print(\"Presisi: {:.2f}%\".format(precision))\n",
        "print(\"Recall: {:.2f}%\".format(recall))\n",
        "print(\"Skor F1: {:.2f}%\".format(f1))"
      ]
    },
    {
      "cell_type": "code",
      "execution_count": null,
      "metadata": {
        "id": "U1jwSVfFUevh"
      },
      "outputs": [],
      "source": [
        "# print(classification_report(y_test, y_pred))"
      ]
    }
  ],
  "metadata": {
    "colab": {
      "provenance": []
    },
    "kernelspec": {
      "display_name": "Python 3",
      "name": "python3"
    },
    "language_info": {
      "codemirror_mode": {
        "name": "ipython",
        "version": 3
      },
      "file_extension": ".py",
      "mimetype": "text/x-python",
      "name": "python",
      "nbconvert_exporter": "python",
      "pygments_lexer": "ipython3",
      "version": "3.12.2"
    }
  },
  "nbformat": 4,
  "nbformat_minor": 0
}
