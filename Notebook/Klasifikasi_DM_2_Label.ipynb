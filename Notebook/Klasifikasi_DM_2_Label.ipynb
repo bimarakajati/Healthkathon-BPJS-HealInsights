{
  "cells": [
    {
      "cell_type": "code",
      "execution_count": null,
      "metadata": {
        "id": "AuYnthL0jN9G"
      },
      "outputs": [],
      "source": [
        "# import libraries\n",
        "import pandas as pd\n",
        "import matplotlib.pyplot as plt\n",
        "import seaborn as sns\n",
        "import numpy as np\n",
        "from sklearn.preprocessing import LabelEncoder\n",
        "from sklearn.decomposition import PCA\n",
        "from sklearn.preprocessing import StandardScaler\n",
        "from yellowbrick.cluster import KElbowVisualizer\n",
        "from sklearn.cluster import KMeans\n",
        "from sklearn.cluster import AgglomerativeClustering\n",
        "from sklearn.metrics import silhouette_score\n",
        "import warnings\n",
        "warnings.filterwarnings('ignore')"
      ]
    },
    {
      "cell_type": "code",
      "execution_count": 3,
      "metadata": {
        "colab": {
          "base_uri": "https://localhost:8080/",
          "height": 516
        },
        "id": "grrATXCHjQl0",
        "outputId": "32c15553-33b5-4625-8d25-acd66080614c"
      },
      "outputs": [
        {
          "name": "stdout",
          "output_type": "stream",
          "text": [
            "<class 'pandas.core.frame.DataFrame'>\n",
            "RangeIndex: 426 entries, 0 to 425\n",
            "Data columns (total 41 columns):\n",
            " #   Column                                                Non-Null Count  Dtype  \n",
            "---  ------                                                --------------  -----  \n",
            " 0   Nomor_peserta                                         426 non-null    int64  \n",
            " 1   Nomor_keluarga                                        426 non-null    int64  \n",
            " 2   Bobot                                                 426 non-null    float64\n",
            " 3   ID_Kunjungan                                          426 non-null    object \n",
            " 4   Tanggal_kunjungan                                     426 non-null    object \n",
            " 5   Tanggal_tindakan                                      426 non-null    object \n",
            " 6   Tanggal_pulang                                        426 non-null    object \n",
            " 7   Provinsi_faskes                                       426 non-null    int64  \n",
            " 8   Kode_Kab_Kota_faskes                                  426 non-null    int64  \n",
            " 9   Kepemilikan_faskes                                    426 non-null    int64  \n",
            " 10  Jenis_faskes                                          426 non-null    int64  \n",
            " 11  Tipe_faskes                                           426 non-null    int64  \n",
            " 12  Tingkat_layanan                                       426 non-null    int64  \n",
            " 13  Segmen_peserta                                        426 non-null    int64  \n",
            " 14  Kode_dan_Nama_diagnosis_berdasarkan_ICD_10__3_digit_  426 non-null    int64  \n",
            " 15  Kode_diagnosis_berdasarkan_ICD_10__3_digit_           426 non-null    object \n",
            " 16  Kode_diagnosis__3_5_digit_                            426 non-null    object \n",
            " 17  Nama_Diagnosis                                        426 non-null    object \n",
            " 18  Nama_Tindakan                                         426 non-null    int64  \n",
            " 19  Biaya_tagih                                           426 non-null    int64  \n",
            " 20  Biaya_verifikasi                                      426 non-null    int64  \n",
            " 21  Hasil_Pemeriksaan_gula_darah_puasa__GDP__1            426 non-null    float64\n",
            " 22  Hasil_Pemeriksaan_gula_darah_puasa__GDP__2            426 non-null    float64\n",
            " 23  Nomor_peserta_1                                       426 non-null    int64  \n",
            " 24  Nomor_keluarga_1                                      426 non-null    int64  \n",
            " 25  Tanggal_lahir_peserta                                 426 non-null    object \n",
            " 26  Hubungan_Keluarga                                     426 non-null    int64  \n",
            " 27  Jenis_Kelamin                                         426 non-null    int64  \n",
            " 28  Status_perkawinan                                     426 non-null    int64  \n",
            " 29  Kelas_rawat                                           426 non-null    int64  \n",
            " 30  Segmentasi_peserta                                    426 non-null    int64  \n",
            " 31  Provinsi_Tempat_Tinggal_Peserta                       426 non-null    int64  \n",
            " 32  Kabupaten_Kota_Tempat_Tinggal_Peserta                 426 non-null    int64  \n",
            " 33  Kepemilikan_faskes_1                                  426 non-null    int64  \n",
            " 34  Jenis_faskes_                                         426 non-null    int64  \n",
            " 35  Provinsi_Fasilitas_Kesehatan_Peserta_Terdaftar        426 non-null    int64  \n",
            " 36  Kabupaten_Kota_Fasilitas_Kesehatan_Peserta_Terdaftar  426 non-null    int64  \n",
            " 37  Bobot_1                                               426 non-null    float64\n",
            " 38  Tahun_Sampel                                          426 non-null    int64  \n",
            " 39  Status_Kepesertaan                                    426 non-null    int64  \n",
            " 40  Tahun_meninggal                                       53 non-null     float64\n",
            "dtypes: float64(5), int64(28), object(8)\n",
            "memory usage: 136.6+ KB\n"
          ]
        }
      ],
      "source": [
        "data = pd.read_csv(\"../Datasets/Filter Jateng dan DM.csv\")\n",
        "data.info()"
      ]
    },
    {
      "cell_type": "code",
      "execution_count": null,
      "metadata": {
        "colab": {
          "base_uri": "https://localhost:8080/"
        },
        "id": "o7xicl3GGaZk",
        "outputId": "289bd9af-474d-4ff0-ec62-7cd48c10b2f1"
      },
      "outputs": [
        {
          "data": {
            "text/plain": [
              "E11    401\n",
              "E10     25\n",
              "Name: Kode_diagnosis_berdasarkan_ICD_10__3_digit_, dtype: int64"
            ]
          },
          "execution_count": 3,
          "metadata": {},
          "output_type": "execute_result"
        }
      ],
      "source": [
        "data[\"Kode_diagnosis_berdasarkan_ICD_10__3_digit_\"].value_counts()"
      ]
    },
    {
      "cell_type": "code",
      "execution_count": null,
      "metadata": {
        "id": "tl6615jCl62X"
      },
      "outputs": [],
      "source": [
        "# selected = [\n",
        "#     \"Nomor_peserta\",\n",
        "#     \"Nomor_keluarga\",\n",
        "#     \"Bobot\",\n",
        "#     \"Kode_Kab_Kota_faskes\",\n",
        "#     \"Segmen_peserta\",\n",
        "#     \"Kode_diagnosis_berdasarkan_ICD_10__3_digit_\",\n",
        "#     \"Biaya_tagih\",\n",
        "#     \"Hasil_Pemeriksaan_gula_darah_puasa__GDP__1\",\n",
        "#     \"Tanggal_lahir_peserta\",\n",
        "#     \"Hubungan_Keluarga\",\n",
        "#     \"Jenis_Kelamin\",\n",
        "#     \"Status_perkawinan\",\n",
        "#     \"Kabupaten_Kota_Tempat_Tinggal_Peserta\",\n",
        "#     \"Tahun_meninggal\"\n",
        "# ]\n",
        "# selected"
      ]
    },
    {
      "cell_type": "code",
      "execution_count": null,
      "metadata": {
        "id": "yphHmlIqzosY"
      },
      "outputs": [],
      "source": [
        "# penghapusan kolom yang tidak berguna atau tidak diperlukan dari suatu dataset.\n",
        "# data.drop(['ID_Kunjungan', 'Tanggal_kunjungan', 'Tanggal_tindakan', 'Tanggal_pulang', 'Provinsi_faskes', 'Kepemilikan_faskes', 'Jenis_faskes', 'Tipe_faskes', 'Tingkat_layanan', 'Kode_dan_Nama_diagnosis_berdasarkan_ICD_10__3_digit_', 'Kode_diagnosis__3_5_digit_', 'Nama_Diagnosis', 'Nama_Tindakan', 'Biaya_verifikasi', 'Hasil_Pemeriksaan_gula_darah_puasa__GDP__2', 'Nomor_peserta_1', 'Nomor_keluarga_1', 'Kelas_rawat', 'Segmentasi_peserta', 'Provinsi_Tempat_Tinggal_Peserta', 'Kepemilikan_faskes_1', 'Jenis_faskes_', 'Provinsi_Fasilitas_Kesehatan_Peserta_Terdaftar', 'Kabupaten_Kota_Fasilitas_Kesehatan_Peserta_Terdaftar', 'Bobot_1', 'Tahun_Sampel', 'Status_Kepesertaan'], axis= 1, inplace= True)\n",
        "data.drop(['Nomor_peserta', 'Nomor_keluarga', 'Tahun_meninggal', 'Tanggal_lahir_peserta', 'Biaya_tagih', 'ID_Kunjungan', 'Tanggal_kunjungan', 'Tanggal_tindakan', 'Tanggal_pulang', 'Provinsi_faskes', 'Kepemilikan_faskes', 'Jenis_faskes', 'Tipe_faskes', 'Tingkat_layanan', 'Kode_dan_Nama_diagnosis_berdasarkan_ICD_10__3_digit_', 'Kode_diagnosis__3_5_digit_', 'Nama_Diagnosis', 'Nama_Tindakan', 'Biaya_verifikasi', 'Hasil_Pemeriksaan_gula_darah_puasa__GDP__2', 'Nomor_peserta_1', 'Nomor_keluarga_1', 'Kelas_rawat', 'Segmentasi_peserta', 'Provinsi_Tempat_Tinggal_Peserta', 'Kepemilikan_faskes_1', 'Jenis_faskes_', 'Provinsi_Fasilitas_Kesehatan_Peserta_Terdaftar', 'Kabupaten_Kota_Fasilitas_Kesehatan_Peserta_Terdaftar', 'Bobot_1', 'Tahun_Sampel', 'Status_Kepesertaan'], axis= 1, inplace= True)"
      ]
    },
    {
      "cell_type": "code",
      "execution_count": null,
      "metadata": {
        "colab": {
          "base_uri": "https://localhost:8080/",
          "height": 226
        },
        "id": "sjkH8PAI3IKI",
        "outputId": "602a3537-6459-47db-c97a-22c2492ed13e"
      },
      "outputs": [
        {
          "data": {
            "text/html": [
              "\n",
              "  <div id=\"df-61ed227e-b9fa-4ae0-a105-25007ab85f43\" class=\"colab-df-container\">\n",
              "    <div>\n",
              "<style scoped>\n",
              "    .dataframe tbody tr th:only-of-type {\n",
              "        vertical-align: middle;\n",
              "    }\n",
              "\n",
              "    .dataframe tbody tr th {\n",
              "        vertical-align: top;\n",
              "    }\n",
              "\n",
              "    .dataframe thead th {\n",
              "        text-align: right;\n",
              "    }\n",
              "</style>\n",
              "<table border=\"1\" class=\"dataframe\">\n",
              "  <thead>\n",
              "    <tr style=\"text-align: right;\">\n",
              "      <th></th>\n",
              "      <th>Bobot</th>\n",
              "      <th>Kode_Kab_Kota_faskes</th>\n",
              "      <th>Segmen_peserta</th>\n",
              "      <th>Kode_diagnosis_berdasarkan_ICD_10__3_digit_</th>\n",
              "      <th>Hasil_Pemeriksaan_gula_darah_puasa__GDP__1</th>\n",
              "      <th>Hubungan_Keluarga</th>\n",
              "      <th>Jenis_Kelamin</th>\n",
              "      <th>Status_perkawinan</th>\n",
              "      <th>Kabupaten_Kota_Tempat_Tinggal_Peserta</th>\n",
              "    </tr>\n",
              "  </thead>\n",
              "  <tbody>\n",
              "    <tr>\n",
              "      <th>0</th>\n",
              "      <td>9.918155</td>\n",
              "      <td>3311</td>\n",
              "      <td>5</td>\n",
              "      <td>E11</td>\n",
              "      <td>124.0</td>\n",
              "      <td>1</td>\n",
              "      <td>1</td>\n",
              "      <td>2</td>\n",
              "      <td>3508</td>\n",
              "    </tr>\n",
              "    <tr>\n",
              "      <th>1</th>\n",
              "      <td>13.108784</td>\n",
              "      <td>3376</td>\n",
              "      <td>1</td>\n",
              "      <td>E11</td>\n",
              "      <td>366.0</td>\n",
              "      <td>1</td>\n",
              "      <td>1</td>\n",
              "      <td>2</td>\n",
              "      <td>3525</td>\n",
              "    </tr>\n",
              "    <tr>\n",
              "      <th>2</th>\n",
              "      <td>8.448109</td>\n",
              "      <td>3302</td>\n",
              "      <td>1</td>\n",
              "      <td>E10</td>\n",
              "      <td>87.0</td>\n",
              "      <td>1</td>\n",
              "      <td>2</td>\n",
              "      <td>2</td>\n",
              "      <td>1504</td>\n",
              "    </tr>\n",
              "    <tr>\n",
              "      <th>3</th>\n",
              "      <td>8.448109</td>\n",
              "      <td>3302</td>\n",
              "      <td>1</td>\n",
              "      <td>E10</td>\n",
              "      <td>188.0</td>\n",
              "      <td>1</td>\n",
              "      <td>2</td>\n",
              "      <td>2</td>\n",
              "      <td>1504</td>\n",
              "    </tr>\n",
              "    <tr>\n",
              "      <th>4</th>\n",
              "      <td>8.448109</td>\n",
              "      <td>3302</td>\n",
              "      <td>1</td>\n",
              "      <td>E10</td>\n",
              "      <td>130.0</td>\n",
              "      <td>1</td>\n",
              "      <td>2</td>\n",
              "      <td>2</td>\n",
              "      <td>1504</td>\n",
              "    </tr>\n",
              "  </tbody>\n",
              "</table>\n",
              "</div>\n",
              "    <div class=\"colab-df-buttons\">\n",
              "\n",
              "  <div class=\"colab-df-container\">\n",
              "    <button class=\"colab-df-convert\" onclick=\"convertToInteractive('df-61ed227e-b9fa-4ae0-a105-25007ab85f43')\"\n",
              "            title=\"Convert this dataframe to an interactive table.\"\n",
              "            style=\"display:none;\">\n",
              "\n",
              "  <svg xmlns=\"http://www.w3.org/2000/svg\" height=\"24px\" viewBox=\"0 -960 960 960\">\n",
              "    <path d=\"M120-120v-720h720v720H120Zm60-500h600v-160H180v160Zm220 220h160v-160H400v160Zm0 220h160v-160H400v160ZM180-400h160v-160H180v160Zm440 0h160v-160H620v160ZM180-180h160v-160H180v160Zm440 0h160v-160H620v160Z\"/>\n",
              "  </svg>\n",
              "    </button>\n",
              "\n",
              "  <style>\n",
              "    .colab-df-container {\n",
              "      display:flex;\n",
              "      gap: 12px;\n",
              "    }\n",
              "\n",
              "    .colab-df-convert {\n",
              "      background-color: #E8F0FE;\n",
              "      border: none;\n",
              "      border-radius: 50%;\n",
              "      cursor: pointer;\n",
              "      display: none;\n",
              "      fill: #1967D2;\n",
              "      height: 32px;\n",
              "      padding: 0 0 0 0;\n",
              "      width: 32px;\n",
              "    }\n",
              "\n",
              "    .colab-df-convert:hover {\n",
              "      background-color: #E2EBFA;\n",
              "      box-shadow: 0px 1px 2px rgba(60, 64, 67, 0.3), 0px 1px 3px 1px rgba(60, 64, 67, 0.15);\n",
              "      fill: #174EA6;\n",
              "    }\n",
              "\n",
              "    .colab-df-buttons div {\n",
              "      margin-bottom: 4px;\n",
              "    }\n",
              "\n",
              "    [theme=dark] .colab-df-convert {\n",
              "      background-color: #3B4455;\n",
              "      fill: #D2E3FC;\n",
              "    }\n",
              "\n",
              "    [theme=dark] .colab-df-convert:hover {\n",
              "      background-color: #434B5C;\n",
              "      box-shadow: 0px 1px 3px 1px rgba(0, 0, 0, 0.15);\n",
              "      filter: drop-shadow(0px 1px 2px rgba(0, 0, 0, 0.3));\n",
              "      fill: #FFFFFF;\n",
              "    }\n",
              "  </style>\n",
              "\n",
              "    <script>\n",
              "      const buttonEl =\n",
              "        document.querySelector('#df-61ed227e-b9fa-4ae0-a105-25007ab85f43 button.colab-df-convert');\n",
              "      buttonEl.style.display =\n",
              "        google.colab.kernel.accessAllowed ? 'block' : 'none';\n",
              "\n",
              "      async function convertToInteractive(key) {\n",
              "        const element = document.querySelector('#df-61ed227e-b9fa-4ae0-a105-25007ab85f43');\n",
              "        const dataTable =\n",
              "          await google.colab.kernel.invokeFunction('convertToInteractive',\n",
              "                                                    [key], {});\n",
              "        if (!dataTable) return;\n",
              "\n",
              "        const docLinkHtml = 'Like what you see? Visit the ' +\n",
              "          '<a target=\"_blank\" href=https://colab.research.google.com/notebooks/data_table.ipynb>data table notebook</a>'\n",
              "          + ' to learn more about interactive tables.';\n",
              "        element.innerHTML = '';\n",
              "        dataTable['output_type'] = 'display_data';\n",
              "        await google.colab.output.renderOutput(dataTable, element);\n",
              "        const docLink = document.createElement('div');\n",
              "        docLink.innerHTML = docLinkHtml;\n",
              "        element.appendChild(docLink);\n",
              "      }\n",
              "    </script>\n",
              "  </div>\n",
              "\n",
              "\n",
              "<div id=\"df-b05517e1-9518-433a-a7da-a87436f57f4b\">\n",
              "  <button class=\"colab-df-quickchart\" onclick=\"quickchart('df-b05517e1-9518-433a-a7da-a87436f57f4b')\"\n",
              "            title=\"Suggest charts.\"\n",
              "            style=\"display:none;\">\n",
              "\n",
              "<svg xmlns=\"http://www.w3.org/2000/svg\" height=\"24px\"viewBox=\"0 0 24 24\"\n",
              "     width=\"24px\">\n",
              "    <g>\n",
              "        <path d=\"M19 3H5c-1.1 0-2 .9-2 2v14c0 1.1.9 2 2 2h14c1.1 0 2-.9 2-2V5c0-1.1-.9-2-2-2zM9 17H7v-7h2v7zm4 0h-2V7h2v10zm4 0h-2v-4h2v4z\"/>\n",
              "    </g>\n",
              "</svg>\n",
              "  </button>\n",
              "\n",
              "<style>\n",
              "  .colab-df-quickchart {\n",
              "    background-color: #E8F0FE;\n",
              "    border: none;\n",
              "    border-radius: 50%;\n",
              "    cursor: pointer;\n",
              "    display: none;\n",
              "    fill: #1967D2;\n",
              "    height: 32px;\n",
              "    padding: 0 0 0 0;\n",
              "    width: 32px;\n",
              "  }\n",
              "\n",
              "  .colab-df-quickchart:hover {\n",
              "    background-color: #E2EBFA;\n",
              "    box-shadow: 0px 1px 2px rgba(60, 64, 67, 0.3), 0px 1px 3px 1px rgba(60, 64, 67, 0.15);\n",
              "    fill: #174EA6;\n",
              "  }\n",
              "\n",
              "  [theme=dark] .colab-df-quickchart {\n",
              "    background-color: #3B4455;\n",
              "    fill: #D2E3FC;\n",
              "  }\n",
              "\n",
              "  [theme=dark] .colab-df-quickchart:hover {\n",
              "    background-color: #434B5C;\n",
              "    box-shadow: 0px 1px 3px 1px rgba(0, 0, 0, 0.15);\n",
              "    filter: drop-shadow(0px 1px 2px rgba(0, 0, 0, 0.3));\n",
              "    fill: #FFFFFF;\n",
              "  }\n",
              "</style>\n",
              "\n",
              "  <script>\n",
              "    async function quickchart(key) {\n",
              "      const charts = await google.colab.kernel.invokeFunction(\n",
              "          'suggestCharts', [key], {});\n",
              "    }\n",
              "    (() => {\n",
              "      let quickchartButtonEl =\n",
              "        document.querySelector('#df-b05517e1-9518-433a-a7da-a87436f57f4b button');\n",
              "      quickchartButtonEl.style.display =\n",
              "        google.colab.kernel.accessAllowed ? 'block' : 'none';\n",
              "    })();\n",
              "  </script>\n",
              "</div>\n",
              "    </div>\n",
              "  </div>\n"
            ],
            "text/plain": [
              "       Bobot  Kode_Kab_Kota_faskes  Segmen_peserta  \\\n",
              "0   9.918155                  3311               5   \n",
              "1  13.108784                  3376               1   \n",
              "2   8.448109                  3302               1   \n",
              "3   8.448109                  3302               1   \n",
              "4   8.448109                  3302               1   \n",
              "\n",
              "  Kode_diagnosis_berdasarkan_ICD_10__3_digit_  \\\n",
              "0                                         E11   \n",
              "1                                         E11   \n",
              "2                                         E10   \n",
              "3                                         E10   \n",
              "4                                         E10   \n",
              "\n",
              "   Hasil_Pemeriksaan_gula_darah_puasa__GDP__1  Hubungan_Keluarga  \\\n",
              "0                                       124.0                  1   \n",
              "1                                       366.0                  1   \n",
              "2                                        87.0                  1   \n",
              "3                                       188.0                  1   \n",
              "4                                       130.0                  1   \n",
              "\n",
              "   Jenis_Kelamin  Status_perkawinan  Kabupaten_Kota_Tempat_Tinggal_Peserta  \n",
              "0              1                  2                                   3508  \n",
              "1              1                  2                                   3525  \n",
              "2              2                  2                                   1504  \n",
              "3              2                  2                                   1504  \n",
              "4              2                  2                                   1504  "
            ]
          },
          "execution_count": 6,
          "metadata": {},
          "output_type": "execute_result"
        }
      ],
      "source": [
        "data.head()"
      ]
    },
    {
      "cell_type": "code",
      "execution_count": null,
      "metadata": {
        "id": "oZFwBvAIvOKu"
      },
      "outputs": [],
      "source": [
        "# status_kehidupan = []\n",
        "\n",
        "# for x in data[\"Tahun_meninggal\"]:\n",
        "#   if x > 0: # Nilai Mean Tahun_meninggal\n",
        "#     status_kehidupan.append('0') # komplikasi\n",
        "#   else:\n",
        "#     status_kehidupan.append('1') # tidak komplikasi\n",
        "\n",
        "# data[\"Tahun_meninggal\"] = status_kehidupan\n",
        "# data[\"Tahun_meninggal\"]"
      ]
    },
    {
      "cell_type": "code",
      "execution_count": null,
      "metadata": {
        "colab": {
          "base_uri": "https://localhost:8080/"
        },
        "id": "fbsxBHZqjs5F",
        "outputId": "6abd15f4-002c-4d79-fa2d-dbadd77ed740"
      },
      "outputs": [
        {
          "name": "stdout",
          "output_type": "stream",
          "text": [
            "Kolom Kategori: ['Kode_diagnosis_berdasarkan_ICD_10__3_digit_']\n",
            "\n",
            "Kolom Number: ['Bobot', 'Kode_Kab_Kota_faskes', 'Segmen_peserta', 'Hasil_Pemeriksaan_gula_darah_puasa__GDP__1', 'Hubungan_Keluarga', 'Jenis_Kelamin', 'Status_perkawinan', 'Kabupaten_Kota_Tempat_Tinggal_Peserta']\n",
            "\n"
          ]
        }
      ],
      "source": [
        "#  penghitungan dan pengelompokan kolom dalam suatu dataset berdasarkan tipe datanya.\n",
        "cat_columns = data.select_dtypes(object).columns.to_list()\n",
        "print(f\"Kolom Kategori: {cat_columns}\")\n",
        "print()\n",
        "num_columns = data.select_dtypes(np.number).columns.to_list()\n",
        "print(f\"Kolom Number: {num_columns}\")\n",
        "print()"
      ]
    },
    {
      "cell_type": "code",
      "execution_count": null,
      "metadata": {
        "colab": {
          "base_uri": "https://localhost:8080/"
        },
        "id": "1G7MBE13j0ru",
        "outputId": "a6ec0ded-dcdb-4059-bc10-fa6222b58ab7"
      },
      "outputs": [
        {
          "data": {
            "text/plain": [
              "Bobot                                          0\n",
              "Kode_Kab_Kota_faskes                           0\n",
              "Segmen_peserta                                 0\n",
              "Kode_diagnosis_berdasarkan_ICD_10__3_digit_    0\n",
              "Hasil_Pemeriksaan_gula_darah_puasa__GDP__1     0\n",
              "Hubungan_Keluarga                              0\n",
              "Jenis_Kelamin                                  0\n",
              "Status_perkawinan                              0\n",
              "Kabupaten_Kota_Tempat_Tinggal_Peserta          0\n",
              "dtype: int64"
            ]
          },
          "execution_count": 9,
          "metadata": {},
          "output_type": "execute_result"
        }
      ],
      "source": [
        "# missing value data\n",
        "data.isnull().sum()"
      ]
    },
    {
      "cell_type": "code",
      "execution_count": null,
      "metadata": {
        "colab": {
          "base_uri": "https://localhost:8080/"
        },
        "id": "56CFkM9Hj--H",
        "outputId": "834c6188-a6a9-4a1a-b723-8bccf3c1cd2d"
      },
      "outputs": [
        {
          "name": "stdout",
          "output_type": "stream",
          "text": [
            "Bobot                                           29\n",
            "Kode_Kab_Kota_faskes                            17\n",
            "Segmen_peserta                                   5\n",
            "Kode_diagnosis_berdasarkan_ICD_10__3_digit_      2\n",
            "Hasil_Pemeriksaan_gula_darah_puasa__GDP__1     284\n",
            "Hubungan_Keluarga                                3\n",
            "Jenis_Kelamin                                    2\n",
            "Status_perkawinan                                2\n",
            "Kabupaten_Kota_Tempat_Tinggal_Peserta           28\n",
            "dtype: int64\n"
          ]
        }
      ],
      "source": [
        "# menghitung jumlah nilai unik (distinct) dalam setiap kolom DataFrame data.\n",
        "unique_counts = data.nunique()\n",
        "print(unique_counts)"
      ]
    },
    {
      "cell_type": "code",
      "execution_count": null,
      "metadata": {
        "colab": {
          "base_uri": "https://localhost:8080/"
        },
        "id": "OazQ2Jdum4qG",
        "outputId": "63b8ab5f-5b00-4c1e-eda1-89f5b0bc3b10"
      },
      "outputs": [
        {
          "name": "stdout",
          "output_type": "stream",
          "text": [
            "Total categories pada kolom Kode diagnosis_berdasarkan ICD 10 (3digit):\n",
            "E11    401\n",
            "E10     25\n",
            "Name: Kode_diagnosis_berdasarkan_ICD_10__3_digit_, dtype: int64\n"
          ]
        }
      ],
      "source": [
        "# Menghitung jumlah data dari kolom Kode diagnosis_berdasarkan ICD 10 (3digit)\n",
        "print(f\"Total categories pada kolom Kode diagnosis_berdasarkan ICD 10 (3digit):\\n{data['Kode_diagnosis_berdasarkan_ICD_10__3_digit_'].value_counts()}\")"
      ]
    },
    {
      "cell_type": "code",
      "execution_count": null,
      "metadata": {
        "colab": {
          "base_uri": "https://localhost:8080/"
        },
        "id": "Yql-W3MXmpUp",
        "outputId": "1538f167-d364-4c1d-af4e-014224880cd8"
      },
      "outputs": [
        {
          "name": "stdout",
          "output_type": "stream",
          "text": [
            "Total categories pada kolom Jenis Kelamin:\n",
            "2    226\n",
            "1    200\n",
            "Name: Jenis_Kelamin, dtype: int64\n"
          ]
        }
      ],
      "source": [
        "# Menghitung jumlah data dari kolom Jenis Kelamin\n",
        "print(f\"Total categories pada kolom Jenis Kelamin:\\n{data['Jenis_Kelamin'].value_counts()}\")"
      ]
    },
    {
      "cell_type": "markdown",
      "metadata": {
        "id": "vf8SY1OJsP5A"
      },
      "source": [
        "**Jenis kelamin:**\n",
        "1. Laki\n",
        "2. Perempuan"
      ]
    },
    {
      "cell_type": "code",
      "execution_count": null,
      "metadata": {
        "colab": {
          "base_uri": "https://localhost:8080/"
        },
        "id": "SHWI0tU8sUh3",
        "outputId": "06b5f604-86df-4625-fca0-de276b0e7166"
      },
      "outputs": [
        {
          "name": "stdout",
          "output_type": "stream",
          "text": [
            "Variabel kategorikal dalam dataset: ['Kode_diagnosis_berdasarkan_ICD_10__3_digit_']\n"
          ]
        }
      ],
      "source": [
        "# Daftar variabel kategorikal dengan mengidentifikasi tipe data \"object\"\n",
        "s = (data.dtypes == 'object')\n",
        "object_cols = list(s[s].index)\n",
        "\n",
        "print(\"Variabel kategorikal dalam dataset:\", object_cols)"
      ]
    },
    {
      "cell_type": "code",
      "execution_count": null,
      "metadata": {
        "colab": {
          "base_uri": "https://localhost:8080/"
        },
        "id": "bmxEP-QfsveL",
        "outputId": "b0556053-8e90-4ae1-ccf0-7cc66d1227bb"
      },
      "outputs": [
        {
          "name": "stdout",
          "output_type": "stream",
          "text": [
            "Semua fitur sekarang bersifat numerik\n"
          ]
        }
      ],
      "source": [
        "# Inisialisasi objek LabelEncoder\n",
        "LE = LabelEncoder()\n",
        "\n",
        "# Melakukan label encoding untuk setiap variabel kategorikal\n",
        "for i in object_cols:\n",
        "    data[i] = LE.fit_transform(data[i])\n",
        "\n",
        "print(\"Semua fitur sekarang bersifat numerik\")"
      ]
    },
    {
      "cell_type": "code",
      "execution_count": null,
      "metadata": {
        "colab": {
          "base_uri": "https://localhost:8080/"
        },
        "id": "Tt400hh5GD5W",
        "outputId": "d79ed8ed-4f05-40b2-ea21-b7f6058dd3b1"
      },
      "outputs": [
        {
          "data": {
            "text/plain": [
              "1    401\n",
              "0     25\n",
              "Name: Kode_diagnosis_berdasarkan_ICD_10__3_digit_, dtype: int64"
            ]
          },
          "execution_count": 15,
          "metadata": {},
          "output_type": "execute_result"
        }
      ],
      "source": [
        "data[\"Kode_diagnosis_berdasarkan_ICD_10__3_digit_\"].value_counts()"
      ]
    },
    {
      "cell_type": "code",
      "execution_count": null,
      "metadata": {
        "id": "1HQ2GyClsyjA"
      },
      "outputs": [],
      "source": [
        "# selected = [\n",
        "#     \"Nomor_peserta\",\n",
        "#     \"Nomor_keluarga\",\n",
        "#     \"Bobot\",\n",
        "#     \"Kode_Kab_Kota_faskes\",\n",
        "#     \"Segmen_peserta\",\n",
        "#     \"Kode_diagnosis_berdasarkan_ICD_10__3_digit_\",\n",
        "#     \"Biaya_tagih\",\n",
        "#     \"Hasil_Pemeriksaan_gula_darah_puasa__GDP__1\",\n",
        "#     \"Tanggal_lahir_peserta\",\n",
        "#     \"Hubungan_Keluarga\",\n",
        "#     \"Jenis_Kelamin\",\n",
        "#     \"Status_perkawinan\",\n",
        "#     \"Kabupaten_Kota_Tempat_Tinggal_Peserta\",\n",
        "#     \"Tahun_meninggal\"\n",
        "# ]\n",
        "# data_selected = data[selected]\n",
        "\n",
        "# X = data_selected.drop(columns=\"Kode_diagnosis_berdasarkan_ICD_10__3_digit_\").values # atribut\n",
        "# y = data_selected[\"Kode_diagnosis_berdasarkan_ICD_10__3_digit_\"].values #kelas/target"
      ]
    },
    {
      "cell_type": "code",
      "execution_count": null,
      "metadata": {
        "id": "91Z4iNpZ7bIX"
      },
      "outputs": [],
      "source": [
        "X = data.drop(columns=\"Kode_diagnosis_berdasarkan_ICD_10__3_digit_\") # atribut\n",
        "y = data[\"Kode_diagnosis_berdasarkan_ICD_10__3_digit_\"] #kelas/target"
      ]
    },
    {
      "cell_type": "code",
      "execution_count": null,
      "metadata": {
        "id": "SoGBimzOtldD"
      },
      "outputs": [],
      "source": [
        "# split data dengan proporsi 70:30\n",
        "\n",
        "from sklearn.model_selection import train_test_split as tts\n",
        "\n",
        "X_train, X_test, y_train, y_test = tts(X,y, test_size=0.3, random_state=42)"
      ]
    },
    {
      "cell_type": "code",
      "execution_count": null,
      "metadata": {
        "id": "uys9lx2Ptokq"
      },
      "outputs": [],
      "source": [
        "from sklearn.preprocessing import StandardScaler, MinMaxScaler\n",
        "\n",
        "# Object Scaling / Normalisasi hanya di fit ke data training\n",
        "\n",
        "scaler = MinMaxScaler()\n",
        "columns = list(X_train.columns)\n",
        "scaler.fit(X_train[columns])\n",
        "\n",
        "X_train_scaled = scaler.transform(X_train)\n",
        "X_test_scaled = scaler.transform(X_test)\n",
        "\n",
        "# jika ingin tetap dalam bentuk dataframe, nilai hasil scaling dapat di assign ke kolom awal\n",
        "X_train[columns] = X_train_scaled\n",
        "X_test[columns] = X_test_scaled"
      ]
    },
    {
      "cell_type": "code",
      "execution_count": null,
      "metadata": {
        "colab": {
          "base_uri": "https://localhost:8080/",
          "height": 226
        },
        "id": "ZX7NE-stt1h_",
        "outputId": "02cea4cd-fdfc-40e0-f9c7-4767ed480dc3"
      },
      "outputs": [
        {
          "data": {
            "text/html": [
              "\n",
              "  <div id=\"df-8d1e695b-7f7b-47dd-879b-e613a84d4302\" class=\"colab-df-container\">\n",
              "    <div>\n",
              "<style scoped>\n",
              "    .dataframe tbody tr th:only-of-type {\n",
              "        vertical-align: middle;\n",
              "    }\n",
              "\n",
              "    .dataframe tbody tr th {\n",
              "        vertical-align: top;\n",
              "    }\n",
              "\n",
              "    .dataframe thead th {\n",
              "        text-align: right;\n",
              "    }\n",
              "</style>\n",
              "<table border=\"1\" class=\"dataframe\">\n",
              "  <thead>\n",
              "    <tr style=\"text-align: right;\">\n",
              "      <th></th>\n",
              "      <th>Bobot</th>\n",
              "      <th>Kode_Kab_Kota_faskes</th>\n",
              "      <th>Segmen_peserta</th>\n",
              "      <th>Hasil_Pemeriksaan_gula_darah_puasa__GDP__1</th>\n",
              "      <th>Hubungan_Keluarga</th>\n",
              "      <th>Jenis_Kelamin</th>\n",
              "      <th>Status_perkawinan</th>\n",
              "      <th>Kabupaten_Kota_Tempat_Tinggal_Peserta</th>\n",
              "    </tr>\n",
              "  </thead>\n",
              "  <tbody>\n",
              "    <tr>\n",
              "      <th>250</th>\n",
              "      <td>0.975623</td>\n",
              "      <td>1.000000</td>\n",
              "      <td>0.00</td>\n",
              "      <td>0.018944</td>\n",
              "      <td>0.0</td>\n",
              "      <td>0.0</td>\n",
              "      <td>0.0</td>\n",
              "      <td>0.483407</td>\n",
              "    </tr>\n",
              "    <tr>\n",
              "      <th>398</th>\n",
              "      <td>0.871148</td>\n",
              "      <td>0.240000</td>\n",
              "      <td>0.75</td>\n",
              "      <td>0.227550</td>\n",
              "      <td>0.0</td>\n",
              "      <td>0.0</td>\n",
              "      <td>0.0</td>\n",
              "      <td>0.433627</td>\n",
              "    </tr>\n",
              "    <tr>\n",
              "      <th>118</th>\n",
              "      <td>0.399404</td>\n",
              "      <td>0.933333</td>\n",
              "      <td>0.75</td>\n",
              "      <td>0.142894</td>\n",
              "      <td>1.0</td>\n",
              "      <td>1.0</td>\n",
              "      <td>0.0</td>\n",
              "      <td>0.440824</td>\n",
              "    </tr>\n",
              "    <tr>\n",
              "      <th>114</th>\n",
              "      <td>0.399404</td>\n",
              "      <td>0.933333</td>\n",
              "      <td>0.75</td>\n",
              "      <td>0.008402</td>\n",
              "      <td>1.0</td>\n",
              "      <td>1.0</td>\n",
              "      <td>0.0</td>\n",
              "      <td>0.440824</td>\n",
              "    </tr>\n",
              "    <tr>\n",
              "      <th>137</th>\n",
              "      <td>0.822403</td>\n",
              "      <td>0.186667</td>\n",
              "      <td>0.25</td>\n",
              "      <td>0.280261</td>\n",
              "      <td>0.5</td>\n",
              "      <td>0.0</td>\n",
              "      <td>0.0</td>\n",
              "      <td>0.158737</td>\n",
              "    </tr>\n",
              "  </tbody>\n",
              "</table>\n",
              "</div>\n",
              "    <div class=\"colab-df-buttons\">\n",
              "\n",
              "  <div class=\"colab-df-container\">\n",
              "    <button class=\"colab-df-convert\" onclick=\"convertToInteractive('df-8d1e695b-7f7b-47dd-879b-e613a84d4302')\"\n",
              "            title=\"Convert this dataframe to an interactive table.\"\n",
              "            style=\"display:none;\">\n",
              "\n",
              "  <svg xmlns=\"http://www.w3.org/2000/svg\" height=\"24px\" viewBox=\"0 -960 960 960\">\n",
              "    <path d=\"M120-120v-720h720v720H120Zm60-500h600v-160H180v160Zm220 220h160v-160H400v160Zm0 220h160v-160H400v160ZM180-400h160v-160H180v160Zm440 0h160v-160H620v160ZM180-180h160v-160H180v160Zm440 0h160v-160H620v160Z\"/>\n",
              "  </svg>\n",
              "    </button>\n",
              "\n",
              "  <style>\n",
              "    .colab-df-container {\n",
              "      display:flex;\n",
              "      gap: 12px;\n",
              "    }\n",
              "\n",
              "    .colab-df-convert {\n",
              "      background-color: #E8F0FE;\n",
              "      border: none;\n",
              "      border-radius: 50%;\n",
              "      cursor: pointer;\n",
              "      display: none;\n",
              "      fill: #1967D2;\n",
              "      height: 32px;\n",
              "      padding: 0 0 0 0;\n",
              "      width: 32px;\n",
              "    }\n",
              "\n",
              "    .colab-df-convert:hover {\n",
              "      background-color: #E2EBFA;\n",
              "      box-shadow: 0px 1px 2px rgba(60, 64, 67, 0.3), 0px 1px 3px 1px rgba(60, 64, 67, 0.15);\n",
              "      fill: #174EA6;\n",
              "    }\n",
              "\n",
              "    .colab-df-buttons div {\n",
              "      margin-bottom: 4px;\n",
              "    }\n",
              "\n",
              "    [theme=dark] .colab-df-convert {\n",
              "      background-color: #3B4455;\n",
              "      fill: #D2E3FC;\n",
              "    }\n",
              "\n",
              "    [theme=dark] .colab-df-convert:hover {\n",
              "      background-color: #434B5C;\n",
              "      box-shadow: 0px 1px 3px 1px rgba(0, 0, 0, 0.15);\n",
              "      filter: drop-shadow(0px 1px 2px rgba(0, 0, 0, 0.3));\n",
              "      fill: #FFFFFF;\n",
              "    }\n",
              "  </style>\n",
              "\n",
              "    <script>\n",
              "      const buttonEl =\n",
              "        document.querySelector('#df-8d1e695b-7f7b-47dd-879b-e613a84d4302 button.colab-df-convert');\n",
              "      buttonEl.style.display =\n",
              "        google.colab.kernel.accessAllowed ? 'block' : 'none';\n",
              "\n",
              "      async function convertToInteractive(key) {\n",
              "        const element = document.querySelector('#df-8d1e695b-7f7b-47dd-879b-e613a84d4302');\n",
              "        const dataTable =\n",
              "          await google.colab.kernel.invokeFunction('convertToInteractive',\n",
              "                                                    [key], {});\n",
              "        if (!dataTable) return;\n",
              "\n",
              "        const docLinkHtml = 'Like what you see? Visit the ' +\n",
              "          '<a target=\"_blank\" href=https://colab.research.google.com/notebooks/data_table.ipynb>data table notebook</a>'\n",
              "          + ' to learn more about interactive tables.';\n",
              "        element.innerHTML = '';\n",
              "        dataTable['output_type'] = 'display_data';\n",
              "        await google.colab.output.renderOutput(dataTable, element);\n",
              "        const docLink = document.createElement('div');\n",
              "        docLink.innerHTML = docLinkHtml;\n",
              "        element.appendChild(docLink);\n",
              "      }\n",
              "    </script>\n",
              "  </div>\n",
              "\n",
              "\n",
              "<div id=\"df-9324333e-d5c5-416e-be6a-ddbd2179ff8f\">\n",
              "  <button class=\"colab-df-quickchart\" onclick=\"quickchart('df-9324333e-d5c5-416e-be6a-ddbd2179ff8f')\"\n",
              "            title=\"Suggest charts.\"\n",
              "            style=\"display:none;\">\n",
              "\n",
              "<svg xmlns=\"http://www.w3.org/2000/svg\" height=\"24px\"viewBox=\"0 0 24 24\"\n",
              "     width=\"24px\">\n",
              "    <g>\n",
              "        <path d=\"M19 3H5c-1.1 0-2 .9-2 2v14c0 1.1.9 2 2 2h14c1.1 0 2-.9 2-2V5c0-1.1-.9-2-2-2zM9 17H7v-7h2v7zm4 0h-2V7h2v10zm4 0h-2v-4h2v4z\"/>\n",
              "    </g>\n",
              "</svg>\n",
              "  </button>\n",
              "\n",
              "<style>\n",
              "  .colab-df-quickchart {\n",
              "    background-color: #E8F0FE;\n",
              "    border: none;\n",
              "    border-radius: 50%;\n",
              "    cursor: pointer;\n",
              "    display: none;\n",
              "    fill: #1967D2;\n",
              "    height: 32px;\n",
              "    padding: 0 0 0 0;\n",
              "    width: 32px;\n",
              "  }\n",
              "\n",
              "  .colab-df-quickchart:hover {\n",
              "    background-color: #E2EBFA;\n",
              "    box-shadow: 0px 1px 2px rgba(60, 64, 67, 0.3), 0px 1px 3px 1px rgba(60, 64, 67, 0.15);\n",
              "    fill: #174EA6;\n",
              "  }\n",
              "\n",
              "  [theme=dark] .colab-df-quickchart {\n",
              "    background-color: #3B4455;\n",
              "    fill: #D2E3FC;\n",
              "  }\n",
              "\n",
              "  [theme=dark] .colab-df-quickchart:hover {\n",
              "    background-color: #434B5C;\n",
              "    box-shadow: 0px 1px 3px 1px rgba(0, 0, 0, 0.15);\n",
              "    filter: drop-shadow(0px 1px 2px rgba(0, 0, 0, 0.3));\n",
              "    fill: #FFFFFF;\n",
              "  }\n",
              "</style>\n",
              "\n",
              "  <script>\n",
              "    async function quickchart(key) {\n",
              "      const charts = await google.colab.kernel.invokeFunction(\n",
              "          'suggestCharts', [key], {});\n",
              "    }\n",
              "    (() => {\n",
              "      let quickchartButtonEl =\n",
              "        document.querySelector('#df-9324333e-d5c5-416e-be6a-ddbd2179ff8f button');\n",
              "      quickchartButtonEl.style.display =\n",
              "        google.colab.kernel.accessAllowed ? 'block' : 'none';\n",
              "    })();\n",
              "  </script>\n",
              "</div>\n",
              "    </div>\n",
              "  </div>\n"
            ],
            "text/plain": [
              "        Bobot  Kode_Kab_Kota_faskes  Segmen_peserta  \\\n",
              "250  0.975623              1.000000            0.00   \n",
              "398  0.871148              0.240000            0.75   \n",
              "118  0.399404              0.933333            0.75   \n",
              "114  0.399404              0.933333            0.75   \n",
              "137  0.822403              0.186667            0.25   \n",
              "\n",
              "     Hasil_Pemeriksaan_gula_darah_puasa__GDP__1  Hubungan_Keluarga  \\\n",
              "250                                    0.018944                0.0   \n",
              "398                                    0.227550                0.0   \n",
              "118                                    0.142894                1.0   \n",
              "114                                    0.008402                1.0   \n",
              "137                                    0.280261                0.5   \n",
              "\n",
              "     Jenis_Kelamin  Status_perkawinan  Kabupaten_Kota_Tempat_Tinggal_Peserta  \n",
              "250            0.0                0.0                               0.483407  \n",
              "398            0.0                0.0                               0.433627  \n",
              "118            1.0                0.0                               0.440824  \n",
              "114            1.0                0.0                               0.440824  \n",
              "137            0.0                0.0                               0.158737  "
            ]
          },
          "execution_count": 20,
          "metadata": {},
          "output_type": "execute_result"
        }
      ],
      "source": [
        "X_train.head()"
      ]
    },
    {
      "cell_type": "markdown",
      "metadata": {
        "id": "S7plrak-Q5Fq"
      },
      "source": [
        "MELIHAT KORELASI"
      ]
    },
    {
      "cell_type": "code",
      "execution_count": null,
      "metadata": {
        "colab": {
          "base_uri": "https://localhost:8080/",
          "height": 320
        },
        "id": "Pv6yc5dnQ6tS",
        "outputId": "0ea95819-d693-4a7e-8834-b5f542833b2e"
      },
      "outputs": [
        {
          "data": {
            "text/html": [
              "\n",
              "  <div id=\"df-b06a9c5e-a641-4bab-bf34-e4d8941c0e78\" class=\"colab-df-container\">\n",
              "    <div>\n",
              "<style scoped>\n",
              "    .dataframe tbody tr th:only-of-type {\n",
              "        vertical-align: middle;\n",
              "    }\n",
              "\n",
              "    .dataframe tbody tr th {\n",
              "        vertical-align: top;\n",
              "    }\n",
              "\n",
              "    .dataframe thead th {\n",
              "        text-align: right;\n",
              "    }\n",
              "</style>\n",
              "<table border=\"1\" class=\"dataframe\">\n",
              "  <thead>\n",
              "    <tr style=\"text-align: right;\">\n",
              "      <th></th>\n",
              "      <th>Bobot</th>\n",
              "      <th>Kode_Kab_Kota_faskes</th>\n",
              "      <th>Segmen_peserta</th>\n",
              "      <th>Hasil_Pemeriksaan_gula_darah_puasa__GDP__1</th>\n",
              "      <th>Hubungan_Keluarga</th>\n",
              "      <th>Jenis_Kelamin</th>\n",
              "      <th>Status_perkawinan</th>\n",
              "      <th>Kabupaten_Kota_Tempat_Tinggal_Peserta</th>\n",
              "    </tr>\n",
              "  </thead>\n",
              "  <tbody>\n",
              "    <tr>\n",
              "      <th>count</th>\n",
              "      <td>298.000000</td>\n",
              "      <td>298.000000</td>\n",
              "      <td>298.000000</td>\n",
              "      <td>298.000000</td>\n",
              "      <td>298.000000</td>\n",
              "      <td>298.000000</td>\n",
              "      <td>298.000000</td>\n",
              "      <td>298.000000</td>\n",
              "    </tr>\n",
              "    <tr>\n",
              "      <th>mean</th>\n",
              "      <td>0.667305</td>\n",
              "      <td>0.571096</td>\n",
              "      <td>0.396812</td>\n",
              "      <td>0.174735</td>\n",
              "      <td>0.325503</td>\n",
              "      <td>0.533557</td>\n",
              "      <td>0.130872</td>\n",
              "      <td>0.350326</td>\n",
              "    </tr>\n",
              "    <tr>\n",
              "      <th>std</th>\n",
              "      <td>0.338462</td>\n",
              "      <td>0.402138</td>\n",
              "      <td>0.440536</td>\n",
              "      <td>0.157587</td>\n",
              "      <td>0.458464</td>\n",
              "      <td>0.499712</td>\n",
              "      <td>0.337828</td>\n",
              "      <td>0.191171</td>\n",
              "    </tr>\n",
              "    <tr>\n",
              "      <th>min</th>\n",
              "      <td>0.000000</td>\n",
              "      <td>0.000000</td>\n",
              "      <td>0.000000</td>\n",
              "      <td>0.000000</td>\n",
              "      <td>0.000000</td>\n",
              "      <td>0.000000</td>\n",
              "      <td>0.000000</td>\n",
              "      <td>0.000000</td>\n",
              "    </tr>\n",
              "    <tr>\n",
              "      <th>25%</th>\n",
              "      <td>0.439543</td>\n",
              "      <td>0.200000</td>\n",
              "      <td>0.000000</td>\n",
              "      <td>0.045179</td>\n",
              "      <td>0.000000</td>\n",
              "      <td>0.000000</td>\n",
              "      <td>0.000000</td>\n",
              "      <td>0.138944</td>\n",
              "    </tr>\n",
              "    <tr>\n",
              "      <th>50%</th>\n",
              "      <td>0.822403</td>\n",
              "      <td>0.933333</td>\n",
              "      <td>0.000000</td>\n",
              "      <td>0.160464</td>\n",
              "      <td>0.000000</td>\n",
              "      <td>1.000000</td>\n",
              "      <td>0.000000</td>\n",
              "      <td>0.420132</td>\n",
              "    </tr>\n",
              "    <tr>\n",
              "      <th>75%</th>\n",
              "      <td>0.893616</td>\n",
              "      <td>0.973333</td>\n",
              "      <td>0.750000</td>\n",
              "      <td>0.241846</td>\n",
              "      <td>1.000000</td>\n",
              "      <td>1.000000</td>\n",
              "      <td>0.000000</td>\n",
              "      <td>0.442623</td>\n",
              "    </tr>\n",
              "    <tr>\n",
              "      <th>max</th>\n",
              "      <td>1.000000</td>\n",
              "      <td>1.000000</td>\n",
              "      <td>1.000000</td>\n",
              "      <td>1.000000</td>\n",
              "      <td>1.000000</td>\n",
              "      <td>1.000000</td>\n",
              "      <td>1.000000</td>\n",
              "      <td>1.000000</td>\n",
              "    </tr>\n",
              "  </tbody>\n",
              "</table>\n",
              "</div>\n",
              "    <div class=\"colab-df-buttons\">\n",
              "\n",
              "  <div class=\"colab-df-container\">\n",
              "    <button class=\"colab-df-convert\" onclick=\"convertToInteractive('df-b06a9c5e-a641-4bab-bf34-e4d8941c0e78')\"\n",
              "            title=\"Convert this dataframe to an interactive table.\"\n",
              "            style=\"display:none;\">\n",
              "\n",
              "  <svg xmlns=\"http://www.w3.org/2000/svg\" height=\"24px\" viewBox=\"0 -960 960 960\">\n",
              "    <path d=\"M120-120v-720h720v720H120Zm60-500h600v-160H180v160Zm220 220h160v-160H400v160Zm0 220h160v-160H400v160ZM180-400h160v-160H180v160Zm440 0h160v-160H620v160ZM180-180h160v-160H180v160Zm440 0h160v-160H620v160Z\"/>\n",
              "  </svg>\n",
              "    </button>\n",
              "\n",
              "  <style>\n",
              "    .colab-df-container {\n",
              "      display:flex;\n",
              "      gap: 12px;\n",
              "    }\n",
              "\n",
              "    .colab-df-convert {\n",
              "      background-color: #E8F0FE;\n",
              "      border: none;\n",
              "      border-radius: 50%;\n",
              "      cursor: pointer;\n",
              "      display: none;\n",
              "      fill: #1967D2;\n",
              "      height: 32px;\n",
              "      padding: 0 0 0 0;\n",
              "      width: 32px;\n",
              "    }\n",
              "\n",
              "    .colab-df-convert:hover {\n",
              "      background-color: #E2EBFA;\n",
              "      box-shadow: 0px 1px 2px rgba(60, 64, 67, 0.3), 0px 1px 3px 1px rgba(60, 64, 67, 0.15);\n",
              "      fill: #174EA6;\n",
              "    }\n",
              "\n",
              "    .colab-df-buttons div {\n",
              "      margin-bottom: 4px;\n",
              "    }\n",
              "\n",
              "    [theme=dark] .colab-df-convert {\n",
              "      background-color: #3B4455;\n",
              "      fill: #D2E3FC;\n",
              "    }\n",
              "\n",
              "    [theme=dark] .colab-df-convert:hover {\n",
              "      background-color: #434B5C;\n",
              "      box-shadow: 0px 1px 3px 1px rgba(0, 0, 0, 0.15);\n",
              "      filter: drop-shadow(0px 1px 2px rgba(0, 0, 0, 0.3));\n",
              "      fill: #FFFFFF;\n",
              "    }\n",
              "  </style>\n",
              "\n",
              "    <script>\n",
              "      const buttonEl =\n",
              "        document.querySelector('#df-b06a9c5e-a641-4bab-bf34-e4d8941c0e78 button.colab-df-convert');\n",
              "      buttonEl.style.display =\n",
              "        google.colab.kernel.accessAllowed ? 'block' : 'none';\n",
              "\n",
              "      async function convertToInteractive(key) {\n",
              "        const element = document.querySelector('#df-b06a9c5e-a641-4bab-bf34-e4d8941c0e78');\n",
              "        const dataTable =\n",
              "          await google.colab.kernel.invokeFunction('convertToInteractive',\n",
              "                                                    [key], {});\n",
              "        if (!dataTable) return;\n",
              "\n",
              "        const docLinkHtml = 'Like what you see? Visit the ' +\n",
              "          '<a target=\"_blank\" href=https://colab.research.google.com/notebooks/data_table.ipynb>data table notebook</a>'\n",
              "          + ' to learn more about interactive tables.';\n",
              "        element.innerHTML = '';\n",
              "        dataTable['output_type'] = 'display_data';\n",
              "        await google.colab.output.renderOutput(dataTable, element);\n",
              "        const docLink = document.createElement('div');\n",
              "        docLink.innerHTML = docLinkHtml;\n",
              "        element.appendChild(docLink);\n",
              "      }\n",
              "    </script>\n",
              "  </div>\n",
              "\n",
              "\n",
              "<div id=\"df-76ca5d50-4bda-4c2f-a021-0ecc0911f00e\">\n",
              "  <button class=\"colab-df-quickchart\" onclick=\"quickchart('df-76ca5d50-4bda-4c2f-a021-0ecc0911f00e')\"\n",
              "            title=\"Suggest charts.\"\n",
              "            style=\"display:none;\">\n",
              "\n",
              "<svg xmlns=\"http://www.w3.org/2000/svg\" height=\"24px\"viewBox=\"0 0 24 24\"\n",
              "     width=\"24px\">\n",
              "    <g>\n",
              "        <path d=\"M19 3H5c-1.1 0-2 .9-2 2v14c0 1.1.9 2 2 2h14c1.1 0 2-.9 2-2V5c0-1.1-.9-2-2-2zM9 17H7v-7h2v7zm4 0h-2V7h2v10zm4 0h-2v-4h2v4z\"/>\n",
              "    </g>\n",
              "</svg>\n",
              "  </button>\n",
              "\n",
              "<style>\n",
              "  .colab-df-quickchart {\n",
              "    background-color: #E8F0FE;\n",
              "    border: none;\n",
              "    border-radius: 50%;\n",
              "    cursor: pointer;\n",
              "    display: none;\n",
              "    fill: #1967D2;\n",
              "    height: 32px;\n",
              "    padding: 0 0 0 0;\n",
              "    width: 32px;\n",
              "  }\n",
              "\n",
              "  .colab-df-quickchart:hover {\n",
              "    background-color: #E2EBFA;\n",
              "    box-shadow: 0px 1px 2px rgba(60, 64, 67, 0.3), 0px 1px 3px 1px rgba(60, 64, 67, 0.15);\n",
              "    fill: #174EA6;\n",
              "  }\n",
              "\n",
              "  [theme=dark] .colab-df-quickchart {\n",
              "    background-color: #3B4455;\n",
              "    fill: #D2E3FC;\n",
              "  }\n",
              "\n",
              "  [theme=dark] .colab-df-quickchart:hover {\n",
              "    background-color: #434B5C;\n",
              "    box-shadow: 0px 1px 3px 1px rgba(0, 0, 0, 0.15);\n",
              "    filter: drop-shadow(0px 1px 2px rgba(0, 0, 0, 0.3));\n",
              "    fill: #FFFFFF;\n",
              "  }\n",
              "</style>\n",
              "\n",
              "  <script>\n",
              "    async function quickchart(key) {\n",
              "      const charts = await google.colab.kernel.invokeFunction(\n",
              "          'suggestCharts', [key], {});\n",
              "    }\n",
              "    (() => {\n",
              "      let quickchartButtonEl =\n",
              "        document.querySelector('#df-76ca5d50-4bda-4c2f-a021-0ecc0911f00e button');\n",
              "      quickchartButtonEl.style.display =\n",
              "        google.colab.kernel.accessAllowed ? 'block' : 'none';\n",
              "    })();\n",
              "  </script>\n",
              "</div>\n",
              "    </div>\n",
              "  </div>\n"
            ],
            "text/plain": [
              "            Bobot  Kode_Kab_Kota_faskes  Segmen_peserta  \\\n",
              "count  298.000000            298.000000      298.000000   \n",
              "mean     0.667305              0.571096        0.396812   \n",
              "std      0.338462              0.402138        0.440536   \n",
              "min      0.000000              0.000000        0.000000   \n",
              "25%      0.439543              0.200000        0.000000   \n",
              "50%      0.822403              0.933333        0.000000   \n",
              "75%      0.893616              0.973333        0.750000   \n",
              "max      1.000000              1.000000        1.000000   \n",
              "\n",
              "       Hasil_Pemeriksaan_gula_darah_puasa__GDP__1  Hubungan_Keluarga  \\\n",
              "count                                  298.000000         298.000000   \n",
              "mean                                     0.174735           0.325503   \n",
              "std                                      0.157587           0.458464   \n",
              "min                                      0.000000           0.000000   \n",
              "25%                                      0.045179           0.000000   \n",
              "50%                                      0.160464           0.000000   \n",
              "75%                                      0.241846           1.000000   \n",
              "max                                      1.000000           1.000000   \n",
              "\n",
              "       Jenis_Kelamin  Status_perkawinan  Kabupaten_Kota_Tempat_Tinggal_Peserta  \n",
              "count     298.000000         298.000000                             298.000000  \n",
              "mean        0.533557           0.130872                               0.350326  \n",
              "std         0.499712           0.337828                               0.191171  \n",
              "min         0.000000           0.000000                               0.000000  \n",
              "25%         0.000000           0.000000                               0.138944  \n",
              "50%         1.000000           0.000000                               0.420132  \n",
              "75%         1.000000           0.000000                               0.442623  \n",
              "max         1.000000           1.000000                               1.000000  "
            ]
          },
          "execution_count": 21,
          "metadata": {},
          "output_type": "execute_result"
        }
      ],
      "source": [
        "X_train.describe()"
      ]
    },
    {
      "cell_type": "code",
      "execution_count": null,
      "metadata": {
        "colab": {
          "base_uri": "https://localhost:8080/",
          "height": 1000
        },
        "id": "YSz4Kq73Q_n8",
        "outputId": "695fddf9-6e80-4fb7-d2e7-7a85eff1438d"
      },
      "outputs": [
        {
          "data": {
            "text/plain": [
              "<Axes: >"
            ]
          },
          "execution_count": 22,
          "metadata": {},
          "output_type": "execute_result"
        },
        {
          "data": {
            "image/png": "[encoded data removed]",
            "text/plain": [
              "<Figure size 1500x1000 with 2 Axes>"
            ]
          },
          "metadata": {},
          "output_type": "display_data"
        }
      ],
      "source": [
        "import matplotlib.pyplot as plt\n",
        "import seaborn as sns\n",
        "\n",
        "plt.figure(figsize=(15, 10))\n",
        "sns.heatmap(data.corr(), annot=True,cmap='coolwarm')"
      ]
    },
    {
      "cell_type": "markdown",
      "metadata": {
        "id": "zYGT9WzsRDUQ"
      },
      "source": [
        "HANDLING CLASS IMBLANCE"
      ]
    },
    {
      "cell_type": "code",
      "execution_count": null,
      "metadata": {
        "colab": {
          "base_uri": "https://localhost:8080/"
        },
        "id": "q_0XYpew8Iuj",
        "outputId": "8335f490-9df0-4563-f1d8-e8b011aed55b"
      },
      "outputs": [
        {
          "data": {
            "text/plain": [
              "1    286\n",
              "0     12\n",
              "Name: Kode_diagnosis_berdasarkan_ICD_10__3_digit_, dtype: int64"
            ]
          },
          "execution_count": 23,
          "metadata": {},
          "output_type": "execute_result"
        }
      ],
      "source": [
        "y_train.value_counts()"
      ]
    },
    {
      "cell_type": "code",
      "execution_count": null,
      "metadata": {
        "colab": {
          "base_uri": "https://localhost:8080/",
          "height": 522
        },
        "id": "kPnhiP4sRFS9",
        "outputId": "8a144a93-ac77-40e1-90e8-0e84aa29d12f"
      },
      "outputs": [
        {
          "data": {
            "text/plain": [
              "Text(0.5, 1.0, 'Perbandingan Tipe DM')"
            ]
          },
          "execution_count": 24,
          "metadata": {},
          "output_type": "execute_result"
        },
        {
          "data": {
            "image/png": "[encoded data removed]",
            "text/plain": [
              "<Figure size 800x550 with 1 Axes>"
            ]
          },
          "metadata": {},
          "output_type": "display_data"
        }
      ],
      "source": [
        "y_train.value_counts().plot(kind='bar')\n",
        "plt.xticks([0,1],['E11','E10'], rotation=0)\n",
        "plt.title('Perbandingan Tipe DM')"
      ]
    },
    {
      "cell_type": "code",
      "execution_count": null,
      "metadata": {
        "id": "32eYGFQTRG92"
      },
      "outputs": [],
      "source": [
        "from imblearn.over_sampling import SMOTE\n",
        "\n",
        "# sampling strategi 1 artinya data minoritas akan ditambahkan data sintetis hingga perbandingan akan dibuat 1:1\n",
        "# sampling hanya digunakan untuk data train\n",
        "\n",
        "smote = SMOTE(sampling_strategy = 1)\n",
        "X_smote, y_smote = smote.fit_resample(X_train,y_train)"
      ]
    },
    {
      "cell_type": "code",
      "execution_count": null,
      "metadata": {
        "colab": {
          "base_uri": "https://localhost:8080/",
          "height": 522
        },
        "id": "pvv_xCNBRLmM",
        "outputId": "dce5346a-c415-4f67-adf6-574075a86339"
      },
      "outputs": [
        {
          "data": {
            "text/plain": [
              "Text(0.5, 1.0, 'Perbandingan Tipe DM')"
            ]
          },
          "execution_count": 26,
          "metadata": {},
          "output_type": "execute_result"
        },
        {
          "data": {
            "image/png": "[encoded data removed]",
            "text/plain": [
              "<Figure size 800x550 with 1 Axes>"
            ]
          },
          "metadata": {},
          "output_type": "display_data"
        }
      ],
      "source": [
        "y_smote.value_counts().plot(kind='bar')\n",
        "plt.xticks([0,1],['E11','E10'], rotation=0)\n",
        "plt.title('Perbandingan Tipe DM')"
      ]
    },
    {
      "cell_type": "code",
      "execution_count": null,
      "metadata": {
        "id": "u-RXlfBnRNgn"
      },
      "outputs": [],
      "source": [
        "from sklearn.tree import DecisionTreeClassifier\n",
        "from sklearn.linear_model import LogisticRegression\n",
        "from sklearn.neighbors import KNeighborsClassifier\n",
        "from sklearn.ensemble import RandomForestClassifier\n",
        "from xgboost import XGBClassifier\n",
        "from sklearn.metrics import roc_auc_score, accuracy_score, confusion_matrix, classification_report, precision_score, recall_score, f1_score"
      ]
    },
    {
      "cell_type": "markdown",
      "metadata": {
        "id": "JwL_-DpVRUEy"
      },
      "source": [
        "# DECISION TREE"
      ]
    },
    {
      "cell_type": "code",
      "execution_count": null,
      "metadata": {
        "id": "ioqEj-0TRWv8"
      },
      "outputs": [],
      "source": [
        "# DecisionTreeClassifier?"
      ]
    },
    {
      "cell_type": "code",
      "execution_count": null,
      "metadata": {
        "colab": {
          "base_uri": "https://localhost:8080/"
        },
        "id": "cvjECtsaTiV6",
        "outputId": "354f59d7-7234-4c85-d781-6a8fc2f24a08"
      },
      "outputs": [
        {
          "name": "stdout",
          "output_type": "stream",
          "text": [
            "Akurasi: 96.09%\n",
            "Presisi: 96.61%\n",
            "Recall: 99.13%\n",
            "Skor F1: 97.85%\n"
          ]
        }
      ],
      "source": [
        "# Melatih model Decision Tree\n",
        "decision_tree = DecisionTreeClassifier()\n",
        "decision_tree.fit(X_train, y_train)\n",
        "\n",
        "# Melakukan prediksi pada data pengujian\n",
        "y_pred = decision_tree.predict(X_test)\n",
        "\n",
        "# Evaluasi model\n",
        "accuracy = accuracy_score(y_test, y_pred) * 100\n",
        "precision = precision_score(y_test, y_pred) * 100\n",
        "recall = recall_score(y_test, y_pred) * 100\n",
        "f1 = f1_score(y_test, y_pred) * 100\n",
        "\n",
        "print(\"Akurasi: {:.2f}%\".format(accuracy))\n",
        "print(\"Presisi: {:.2f}%\".format(precision))\n",
        "print(\"Recall: {:.2f}%\".format(recall))\n",
        "print(\"Skor F1: {:.2f}%\".format(f1))"
      ]
    },
    {
      "cell_type": "markdown",
      "metadata": {
        "id": "q2Y-fDQWTo5x"
      },
      "source": [
        "Dari hasil penggunaan algoritma menggunakan Decision Tree menunjukan 85% akurasinya, sehingga menunjukkan bahwa model Decision Tree yang dibangun relatif baik dalam memprediksi data."
      ]
    },
    {
      "cell_type": "markdown",
      "metadata": {
        "id": "YnYfmpFBTwA-"
      },
      "source": [
        "# MODELING RANDOM FOREST"
      ]
    },
    {
      "cell_type": "code",
      "execution_count": null,
      "metadata": {
        "colab": {
          "base_uri": "https://localhost:8080/"
        },
        "id": "ine_LR3bTlbZ",
        "outputId": "a0d0ec16-5677-4620-a318-f95246322aed"
      },
      "outputs": [
        {
          "name": "stdout",
          "output_type": "stream",
          "text": [
            "Akurasi: 96.09%\n",
            "Presisi: 96.61%\n",
            "Recall: 99.13%\n",
            "Skor F1: 97.85%\n"
          ]
        }
      ],
      "source": [
        "# Random Forest Classifier\n",
        "from sklearn.ensemble import RandomForestClassifier\n",
        "from sklearn.metrics import accuracy_score, precision_score, recall_score, f1_score\n",
        "\n",
        "# Melatih Random Forest Classifier\n",
        "random_forest = RandomForestClassifier()\n",
        "random_forest.fit(X_train, y_train)\n",
        "\n",
        "# Melakukan prediksi pada data pengujian\n",
        "y_pred = random_forest.predict(X_test)\n",
        "\n",
        "# Evaluasi model\n",
        "akurasi = accuracy_score(y_test, y_pred) * 100\n",
        "presisi = precision_score(y_test, y_pred) * 100\n",
        "recall = recall_score(y_test, y_pred) * 100\n",
        "f1 = f1_score(y_test, y_pred) * 100\n",
        "\n",
        "# Menampilkan hasil evaluasi dengan persentase\n",
        "print(\"Akurasi: {:.2f}%\".format(akurasi))\n",
        "print(\"Presisi: {:.2f}%\".format(presisi))\n",
        "print(\"Recall: {:.2f}%\".format(recall))\n",
        "print(\"Skor F1: {:.2f}%\".format(f1))"
      ]
    },
    {
      "cell_type": "markdown",
      "metadata": {
        "id": "E3R80dKZT4QT"
      },
      "source": [
        "Dari hasil penggunaan algoritma menggunakan Random Forest menunjukan 86% akurasinya, sehingga menunjukkan bahwa model Random Forest yang dibangun relatif baik dalam memprediksi data."
      ]
    },
    {
      "cell_type": "markdown",
      "metadata": {
        "id": "e9-3Jg56UFIG"
      },
      "source": [
        "# MODELING LOGISTIK REGRESSION"
      ]
    },
    {
      "cell_type": "code",
      "execution_count": null,
      "metadata": {
        "colab": {
          "base_uri": "https://localhost:8080/"
        },
        "id": "p7YUUfWtT3mY",
        "outputId": "cf24369d-5949-4850-fb30-cab20d88c4cb"
      },
      "outputs": [
        {
          "name": "stdout",
          "output_type": "stream",
          "text": [
            "Akurasi: 89.84%\n",
            "Presisi: 89.84%\n",
            "Recall: 100.00%\n",
            "Skor F1: 94.65%\n"
          ]
        }
      ],
      "source": [
        "from sklearn.linear_model import LogisticRegression\n",
        "from sklearn.metrics import accuracy_score, precision_score, recall_score, f1_score\n",
        "\n",
        "# Membuat objek model Logistic Regression\n",
        "logreg = LogisticRegression()\n",
        "\n",
        "# Melatih model dengan data pelatihan\n",
        "logreg.fit(X_train, y_train)\n",
        "\n",
        "# Melakukan prediksi pada data pengujian\n",
        "y_pred = logreg.predict(X_test)\n",
        "\n",
        "# Evaluasi model\n",
        "accuracy = accuracy_score(y_test, y_pred) * 100\n",
        "precision = precision_score(y_test, y_pred) * 100\n",
        "recall = recall_score(y_test, y_pred) * 100\n",
        "f1 = f1_score(y_test, y_pred) * 100\n",
        "\n",
        "print(\"Akurasi: {:.2f}%\".format(accuracy))\n",
        "print(\"Presisi: {:.2f}%\".format(precision))\n",
        "print(\"Recall: {:.2f}%\".format(recall))\n",
        "print(\"Skor F1: {:.2f}%\".format(f1))"
      ]
    },
    {
      "cell_type": "markdown",
      "metadata": {
        "id": "uEmUf6TxULom"
      },
      "source": [
        "Dari hasil penggunaan algoritma menggunakan Logistik Regression menunjukan 88% akurasinya, sehingga menunjukkan bahwa model Logistik Regression yang dibangun relatif baik dalam memprediksi data."
      ]
    },
    {
      "cell_type": "markdown",
      "metadata": {
        "id": "9dhuw_rbUUW6"
      },
      "source": [
        "# MODELING KNN"
      ]
    },
    {
      "cell_type": "code",
      "execution_count": null,
      "metadata": {
        "colab": {
          "base_uri": "https://localhost:8080/"
        },
        "id": "0WQSY1M1UVQW",
        "outputId": "8dcf5280-dfe7-4600-d486-0c80a3a864e2"
      },
      "outputs": [
        {
          "name": "stdout",
          "output_type": "stream",
          "text": [
            "Accuracy: 0.953\n"
          ]
        }
      ],
      "source": [
        "#MENCARI ACURACY DARI TRAINING DATA\n",
        "from sklearn.neighbors import KNeighborsClassifier\n",
        "from sklearn.model_selection import cross_val_score, KFold\n",
        "knn = KNeighborsClassifier(n_neighbors= 3)\n",
        "knn.fit(X_train, y_train)\n",
        "k = KFold(n_splits = 5)\n",
        "score = cross_val_score(knn, X_train, y_train, scoring = 'accuracy', cv = k).mean()\n",
        "print(\"Accuracy:\", round(score, 3))"
      ]
    },
    {
      "cell_type": "code",
      "execution_count": null,
      "metadata": {
        "colab": {
          "base_uri": "https://localhost:8080/"
        },
        "id": "ZDZT7xv3UQFz",
        "outputId": "40349d0c-5029-4581-d59e-f806a4047c78"
      },
      "outputs": [
        {
          "name": "stdout",
          "output_type": "stream",
          "text": [
            "Akurasi: 94.53%\n",
            "Presisi: 91.25%\n",
            "Recall: 76.49%\n",
            "Skor F1: 81.84%\n"
          ]
        }
      ],
      "source": [
        "#MENCARI ACCURACY DARI TESTING DATA\n",
        "from sklearn.metrics import accuracy_score, classification_report, roc_auc_score\n",
        "y_pred = knn.predict(X_test)\n",
        "\n",
        "# Evaluasi model\n",
        "accuracy = accuracy_score(y_test, y_pred) * 100\n",
        "precision = precision_score(y_test, y_pred, average='macro') * 100\n",
        "recall = recall_score(y_test, y_pred, average='macro') * 100\n",
        "f1 = f1_score(y_test, y_pred, average='macro') * 100\n",
        "\n",
        "# Menampilkan hasil evaluasi dengan persentase\n",
        "print(\"Akurasi: {:.2f}%\".format(accuracy))\n",
        "print(\"Presisi: {:.2f}%\".format(precision))\n",
        "print(\"Recall: {:.2f}%\".format(recall))\n",
        "print(\"Skor F1: {:.2f}%\".format(f1))"
      ]
    },
    {
      "cell_type": "code",
      "execution_count": null,
      "metadata": {
        "id": "U1jwSVfFUevh"
      },
      "outputs": [],
      "source": [
        "# print(classification_report(y_test, y_pred))"
      ]
    }
  ],
  "metadata": {
    "colab": {
      "provenance": []
    },
    "kernelspec": {
      "display_name": "Python 3",
      "name": "python3"
    },
    "language_info": {
      "codemirror_mode": {
        "name": "ipython",
        "version": 3
      },
      "file_extension": ".py",
      "mimetype": "text/x-python",
      "name": "python",
      "nbconvert_exporter": "python",
      "pygments_lexer": "ipython3",
      "version": "3.12.2"
    }
  },
  "nbformat": 4,
  "nbformat_minor": 0
}
